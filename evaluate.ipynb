{
 "cells": [
  {
   "cell_type": "markdown",
   "id": "4170e02d-cfc6-4e00-9424-2305c4761b55",
   "metadata": {},
   "source": [
    "## Part 1: Define metrics"
   ]
  },
  {
   "cell_type": "code",
   "execution_count": 1,
   "id": "53cde1a5-c0cd-483b-9fd6-8967a5dfea48",
   "metadata": {},
   "outputs": [],
   "source": [
    "from urllib.parse import urlparse, parse_qs\n",
    "\n",
    "def parse_url(url):\n",
    "    \"\"\"\n",
    "    Parse a URL into its components.\n",
    "    \"\"\"\n",
    "    parsed_url = urlparse(url)\n",
    "    query_params = parse_qs(parsed_url.query)\n",
    "    return {\n",
    "        'path': parsed_url.path,\n",
    "        'params': query_params\n",
    "    }\n",
    "\n",
    "def is_url_structure_matching(candidate, reference):\n",
    "    \"\"\"\n",
    "    Compare the path and query parameters of the candidate and reference URLs.\n",
    "    \"\"\"\n",
    "    if candidate['path'] != reference['path']:\n",
    "        return False\n",
    "\n",
    "    if sorted(candidate['params'].keys()) != sorted(reference['params'].keys()):\n",
    "        return False\n",
    "\n",
    "    for key in reference['params']:\n",
    "        if key not in candidate['params']:\n",
    "            return False\n",
    "        if sorted(candidate['params'][key]) != sorted(reference['params'][key]):\n",
    "            return False\n",
    "    \n",
    "    return True\n",
    "\n",
    "def evaluate_get_request_accuracy(generated_url, reference_url):\n",
    "    \"\"\"\n",
    "    Evaluate if the generated GET request is equivalent to the reference GET request.\n",
    "    \"\"\"\n",
    "    candidate = parse_url(generated_url)\n",
    "    reference = parse_url(reference_url)\n",
    "    \n",
    "    return is_url_structure_matching(candidate, reference)\n",
    "\n",
    "def score_ast_batched(preds, refs):\n",
    "    evals = tuple(map(evaluate_get_request_accuracy, preds, refs))\n",
    "    return sum(evals) / len(evals)"
   ]
  },
  {
   "cell_type": "code",
   "execution_count": 2,
   "id": "6f043053-044d-4790-86c8-7d075491c704",
   "metadata": {},
   "outputs": [
    {
     "name": "stderr",
     "output_type": "stream",
     "text": [
      "[nltk_data] Downloading package wordnet to /home/atubati/nltk_data...\n",
      "[nltk_data]   Package wordnet is already up-to-date!\n",
      "[nltk_data] Downloading package punkt_tab to\n",
      "[nltk_data]     /home/atubati/nltk_data...\n",
      "[nltk_data]   Package punkt_tab is already up-to-date!\n",
      "[nltk_data] Downloading package omw-1.4 to /home/atubati/nltk_data...\n",
      "[nltk_data]   Package omw-1.4 is already up-to-date!\n"
     ]
    }
   ],
   "source": [
    "import evaluate\n",
    "bert_scorer = evaluate.load(\"bertscore\")\n",
    "meteor_scorer = evaluate.load(\"meteor\")\n",
    "bert_score_fn = lambda preds, refs: bert_scorer.compute(predictions=preds, references=refs, lang=\"en\", model_type=\"microsoft/codebert-base\", num_layers=12, device=\"cuda\")\n",
    "meteor_score_fn = lambda preds, refs: meteor_scorer.compute(predictions=preds, references=refs)"
   ]
  },
  {
   "cell_type": "code",
   "execution_count": 3,
   "id": "27685061-e162-4362-ad4a-bc8bd1989ee8",
   "metadata": {},
   "outputs": [
    {
     "name": "stdout",
     "output_type": "stream",
     "text": [
      "AST eval 1.0\n",
      "BERT Score {'precision': [0.9818707704544067], 'recall': [0.9818708300590515], 'f1': [0.9818708300590515], 'hashcode': 'microsoft/codebert-base_L12_no-idf_version=0.3.12(hug_trans=4.43.4)'}\n",
      "METEOR {'meteor': 0.9067055393586005}\n"
     ]
    }
   ],
   "source": [
    "preds = [\"/v3/query/?q=symbol:ZFAND4&species=mouse\"]\n",
    "refs = [\"/v3/query/?species=mouse&q=symbol:ZFAND4\"]\n",
    "\n",
    "print(\"AST eval\", score_ast_batched(preds, refs))\n",
    "print(\"BERT Score\", bert_score_fn(preds, refs))\n",
    "print(\"METEOR\", meteor_score_fn(preds, refs))"
   ]
  },
  {
   "cell_type": "markdown",
   "id": "4c95b9f4-c60b-45be-a974-9d28e62c0324",
   "metadata": {
    "jp-MarkdownHeadingCollapsed": true
   },
   "source": [
    "## Part 2: Load models"
   ]
  },
  {
   "cell_type": "code",
   "execution_count": null,
   "id": "01242a88-8ebf-41a7-9668-5c6fd59b39fe",
   "metadata": {},
   "outputs": [],
   "source": [
    "import torch\n",
    "from transformers import AutoModelForCausalLM, AutoTokenizer"
   ]
  },
  {
   "cell_type": "code",
   "execution_count": null,
   "id": "92578b0d-2abe-49a4-b95c-48656531a475",
   "metadata": {},
   "outputs": [],
   "source": [
    "with open(\"gene_query_docs.txt\", \"r\") as doc_fd:\n",
    "    docs = doc_fd.read()\n",
    "\n",
    "with open(\"data/original/compact_desc_with_context.csv\") as desc_fd:\n",
    "    description = desc_fd.read()"
   ]
  },
  {
   "cell_type": "code",
   "execution_count": null,
   "id": "1846baca-d235-4ebb-8882-0e324ddba457",
   "metadata": {},
   "outputs": [],
   "source": [
    "import outlines\n",
    "\n",
    "@outlines.prompt\n",
    "def default_prompt(instruction, docs, description):\n",
    "    \"\"\"\n",
    "<|begin_of_text|><|start_header_id|>system<|end_header_id|>\n",
    "Use the documentation and schema to complete the user-given task.\n",
    "Docs: {{ docs }}\\n Schema: {{ description }}<|eot_id|><|start_header_id|>user<|end_header_id|>\n",
    "{{ instruction }}. Write an API call.\n",
    "<|eot_id|><|start_header_id|>assistant<|end_header_id|>\"\"\"\n",
    "\n",
    "@outlines.prompt\n",
    "def few_shot_prompt(instruction, examples, docs, description):\n",
    "    \"\"\"<|begin_of_text|><|start_header_id|>system<|end_header_id|>\n",
    "Use the documentation and schema to complete the user-given task.\n",
    "Docs: {{ docs }}\\n Schema: {{ description }}<|eot_id|><|start_header_id|>user<|end_header_id|>\n",
    "{{ instruction }}. Write an API call.\n",
    "\n",
    "Examples\n",
    "--------\n",
    "\n",
    "{% for example in examples %}\n",
    "Query: {{ example.instruction }}\n",
    "API Call: {{ example.output }}\n",
    "\n",
    "{% endfor %}\n",
    "<|eot_id|><|start_header_id|>assistant<|end_header_id|>\"\"\""
   ]
  },
  {
   "cell_type": "code",
   "execution_count": null,
   "id": "cbc68574-e99e-4602-915c-3c58a90fc7fa",
   "metadata": {},
   "outputs": [],
   "source": [
    "inst = \"Find the UniProt ID for the ENSG00000103187 gene in human. Limit the search to Ensembl gene IDs.\"\n",
    "prompt = default_prompt(inst, docs, description)\n",
    "print(\"Start\", prompt[:250])\n",
    "print(\"End\", prompt[-150:])"
   ]
  },
  {
   "cell_type": "markdown",
   "id": "fb0d34e9-e3ae-4552-84b5-f0c89ea50ad4",
   "metadata": {
    "jp-MarkdownHeadingCollapsed": true
   },
   "source": [
    "#### Deprecated"
   ]
  },
  {
   "cell_type": "code",
   "execution_count": null,
   "id": "883c658b-cf58-4695-b1bd-41b6050eb0d0",
   "metadata": {},
   "outputs": [],
   "source": [
    "import inspect\n",
    "prompt_template = inspect.cleandoc(\"\"\"\n",
    "<|begin_of_text|><|start_header_id|>system<|end_header_id|>\n",
    "Use the documentation and schema to complete the user-given task.\n",
    "Docs: {docs}\\n Schema: {description}<|eot_id|><|start_header_id|>user<|end_header_id|>\n",
    "{instruction}. Write an API call.\n",
    "<|eot_id|><|start_header_id|>assistant<|end_header_id|>\n",
    "\"\"\")"
   ]
  },
  {
   "cell_type": "code",
   "execution_count": null,
   "id": "9ce25b3a-cbb0-45f0-9ac7-d8e61733a04c",
   "metadata": {},
   "outputs": [],
   "source": [
    "prompt_gen = lambda inst: prompt_template.format(docs=docs, description=description, instruction=inst)\n",
    "prompt = prompt_gen(\"Find the UniProt ID for the ENSG00000103187 gene in human. Limit the search to Ensembl gene IDs.\")\n",
    "print(\"Start\", prompt[:250])\n",
    "print(\"End\", prompt[-150:])"
   ]
  },
  {
   "cell_type": "markdown",
   "id": "c53c5909-f173-40d1-bc23-7d63f48ffdd8",
   "metadata": {},
   "source": [
    "#### Latest"
   ]
  },
  {
   "cell_type": "code",
   "execution_count": null,
   "id": "bc0e0cfd-8de2-49f2-9784-213157f2554c",
   "metadata": {},
   "outputs": [],
   "source": [
    "import outlines\n",
    "\n",
    "model = AutoModelForCausalLM.from_pretrained(\"models/meta_llama3_1\", torch_dtype=torch.bfloat16, output_attentions=True).to(\"cuda\")\n",
    "model.eval()\n",
    "tokenizer = AutoTokenizer.from_pretrained(\"models/meta_llama3_1\")"
   ]
  },
  {
   "cell_type": "code",
   "execution_count": null,
   "id": "e4593a22-328c-4769-a3b8-86f693f4c8fd",
   "metadata": {},
   "outputs": [],
   "source": [
    "def evaluate(api_call: str):\n",
    "    return None\n",
    "\n",
    "model = outlines.models.Transformers(model, tokenizer)\n",
    "generator = outlines.generate.json(model, evaluate)\n",
    "# generator = outlines.generate.regex(model, r\"/v3/.+/.+\")"
   ]
  },
  {
   "cell_type": "code",
   "execution_count": null,
   "id": "d8e069e8-169a-4ab5-ad4e-f27e1279d350",
   "metadata": {},
   "outputs": [],
   "source": [
    "sample_api_call = generator([prompt])\n",
    "sample_api_call"
   ]
  },
  {
   "cell_type": "markdown",
   "id": "c6eeb61e-9610-4151-9dae-31d80e38e1c6",
   "metadata": {},
   "source": [
    "## Part 3: Evaluate"
   ]
  },
  {
   "cell_type": "code",
   "execution_count": 4,
   "id": "935f23aa-dc0b-4619-8c14-6ed5de46d0e7",
   "metadata": {},
   "outputs": [
    {
     "data": {
      "text/plain": [
       "Dataset({\n",
       "    features: ['output', 'instruction'],\n",
       "    num_rows: 2854\n",
       "})"
      ]
     },
     "execution_count": 4,
     "metadata": {},
     "output_type": "execute_result"
    }
   ],
   "source": [
    "from datasets import load_dataset\n",
    "\n",
    "dataset = load_dataset(\"moltres23/biothings-query-instruction-pairs\")\n",
    "train_set, test_set = dataset[\"train\"], dataset[\"test\"]\n",
    "train_set"
   ]
  },
  {
   "cell_type": "code",
   "execution_count": null,
   "id": "2d149896-f8b4-4ce7-a331-62b297736851",
   "metadata": {
    "jupyter": {
     "source_hidden": true
    },
    "scrolled": true
   },
   "outputs": [],
   "source": [
    "import tqdm\n",
    "import random\n",
    "\n",
    "random.seed(42)\n",
    "BATCH_SIZE = 1\n",
    "N_SHOT = 10  # size of ICL examples\n",
    "all_responses = []\n",
    "\n",
    "with torch.no_grad():\n",
    "    for idx in tqdm.tqdm(range(0, len(test_set), BATCH_SIZE)):\n",
    "        # hacky dict of lists to list of dicts conversion\n",
    "        icl_example_indices = random.sample(range(len(train_set)), N_SHOT)  # same examples for each test batch\n",
    "        icl_examples = [dict(zip(train_set[icl_example_indices].keys(), values)) for values in zip(*train_set[icl_example_indices].values())]\n",
    "\n",
    "        batch = test_set[idx:(idx + BATCH_SIZE)]\n",
    "        batched_inputs = list(map(few_shot_prompt, batch[\"instruction\"], [icl_examples], [docs], [description]))\n",
    "        batch_responses = generator(batched_inputs)\n",
    "        all_responses.extend(batch_responses.values())"
   ]
  },
  {
   "cell_type": "code",
   "execution_count": 17,
   "id": "5ac670ef-ae9a-4a0e-8c8e-956fa019b405",
   "metadata": {},
   "outputs": [],
   "source": [
    "# NOTE: using regex match to get the response in the expected format\n",
    "import re\n",
    "def regex_match(string):\n",
    "    match = re.search(r\"/v3/.+\", string)\n",
    "    return match.group(0) if match is not None else \"\""
   ]
  },
  {
   "cell_type": "code",
   "execution_count": 14,
   "id": "269c8665-3dc5-47a4-875b-7dd320df4296",
   "metadata": {},
   "outputs": [
    {
     "data": {
      "text/plain": [
       "'/v3/query?fields=human'"
      ]
     },
     "execution_count": 14,
     "metadata": {},
     "output_type": "execute_result"
    }
   ],
   "source": [
    "regex_match(\"GET https://mygene.info/v3/query?fields=human\")"
   ]
  },
  {
   "cell_type": "code",
   "execution_count": 15,
   "id": "5291d8dd-18a0-4cb3-b482-d210b88e4d5c",
   "metadata": {},
   "outputs": [],
   "source": [
    "import pickle\n",
    "import numpy as np\n",
    "\n",
    "def run_eval(responses_path):\n",
    "    with open(responses_path, 'rb') as fd:\n",
    "        all_responses = pickle.load(fd)\n",
    "\n",
    "    dup = all_responses[:]\n",
    "    all_responses = list(map(lambda x: regex_match(x), all_responses))\n",
    "    empty_idxs = []\n",
    "    for idx in range(len(all_responses)):\n",
    "        if all_responses[idx] == \"\":\n",
    "            empty_idxs.append(idx)\n",
    "\n",
    "    ast_eval = score_ast_batched(all_responses, test_set[\"output\"])\n",
    "    bertscore_evals = bert_score_fn(all_responses, test_set[\"output\"])\n",
    "    meteor_scores = meteor_score_fn(all_responses, test_set[\"output\"])\n",
    "\n",
    "    # printing samples\n",
    "    print(\"empty insts\")\n",
    "    for eidx in empty_idxs[:10]:\n",
    "        print(test_set[\"instruction\"][eidx])\n",
    "    print(\"empty answers\")\n",
    "    for eidx in empty_idxs[:10]:\n",
    "        print(test_set[\"output\"][eidx])\n",
    "    print(\"empty resps\")\n",
    "    for eidx in empty_idxs[:10]:\n",
    "        print(dup[eidx])\n",
    "\n",
    "    # we include 0s in mean because otherwise merely getting\n",
    "    # one correct answer will skew the metric\n",
    "    bertscores = np.array(bertscore_evals[\"recall\"])  # recall because upper bound\n",
    "\n",
    "    return ast_eval, bertscores.mean(), np.delete(bertscores, empty_idxs).mean(), np.mean(meteor_scores[\"meteor\"]), (len(empty_idxs) / bertscores.shape[0])"
   ]
  },
  {
   "cell_type": "code",
   "execution_count": 16,
   "id": "c0a29962-bff4-4730-9bc3-2d6cd1e8609a",
   "metadata": {
    "scrolled": true
   },
   "outputs": [
    {
     "name": "stderr",
     "output_type": "stream",
     "text": [
      "Warning: Empty candidate sentence detected; setting raw BERTscores to 0.\n",
      "Warning: Empty candidate sentence detected; setting raw BERTscores to 0.\n",
      "Warning: Empty candidate sentence detected; setting raw BERTscores to 0.\n",
      "Warning: Empty candidate sentence detected; setting raw BERTscores to 0.\n",
      "Warning: Empty candidate sentence detected; setting raw BERTscores to 0.\n",
      "Warning: Empty candidate sentence detected; setting raw BERTscores to 0.\n",
      "Warning: Empty candidate sentence detected; setting raw BERTscores to 0.\n",
      "Warning: Empty candidate sentence detected; setting raw BERTscores to 0.\n",
      "Warning: Empty candidate sentence detected; setting raw BERTscores to 0.\n",
      "Warning: Empty candidate sentence detected; setting raw BERTscores to 0.\n",
      "Warning: Empty candidate sentence detected; setting raw BERTscores to 0.\n",
      "Warning: Empty candidate sentence detected; setting raw BERTscores to 0.\n"
     ]
    },
    {
     "name": "stdout",
     "output_type": "stream",
     "text": [
      "empty insts\n",
      "Retrieve the symbol, name, and summary for the gene CSMD3. Use the API to fetch the data\n",
      "How can I find the ATOH1 gene in humans by symbol, and what ensembl information is available for this gene?\n",
      "Retrieve the symbol, Entrez gene ID, and Ensembl gene ID for the human gene BCL7C.\n",
      "Get the name, symbol, entrezgene, taxid, and genomic_pos for the human gene myocd.\n",
      "What is the gene information for the KEGG pathway ID hsa04068?\n",
      "What are the details about the human CD36 gene, including its symbol, aliases, name, and type of gene?\n",
      "What are the KEGG pathway IDs and names for human genes?\n",
      "Which genes are associated with pathways in Reactome, KEGG, WikiPathways, and BioCarta?\n",
      "Retrieve the name, other names, symbol, and type of gene fields for the human gene symbols CCDC185, CAPN8, LOC105373281, CAPN2, LOC105373046, LOC105373041, TP53BP2, GTF2IP20, SEPTIN7P13, and LOC124905682,.\n",
      "Get the uniprot and refseq fields for the mouse gene ADIPOR1 using the MyGene.info API. Search within the symbol scope.\n",
      "empty answers\n",
      "/v3/query?q=CSMD3&fields=symbol,name,summary\n",
      "/v3/query/?scopes=symbol&fields=ensembl&species=human&q=ATOH1\n",
      "/v3/query?q=BCL7C&species=human&fields=symbol,entrezgene,ensembl.gene\n",
      "/v3/query/?species=human&fields=name,symbol,entrezgene,taxid,genomic_pos&q=symbol:myocd\n",
      "/v3/query/?q=pathway.kegg.id:hsa04068\n",
      "/v3/query/?fields=symbol,alias,name,entrezgene,HGNC,map_location,type_of_gene&species=human&q=CD36\n",
      "/v3/query?fields=pathway.kegg.id,pathway.kegg.name&species=human&size=1000\n",
      "/v3/query?q=_exists_:pathway.reactome AND _exists_:pathway.kegg AND _exists_:pathway.wikipathways  AND _exists_:pathway.biocarta\n",
      "/v3/query/?fields=name,other_names,symbol,type_of_gene&species=human&size=151&q=symbol:(CCDC185+OR+CAPN8+OR+LOC105373281+OR+CAPN2+OR+LOC105373046+OR+LOC105373041+OR+TP53BP2+OR+GTF2IP20+OR+SEPTIN7P13+OR+LOC124905682)\n",
      "/v3/query/?scopes=symbol&fields=uniprot,refseq&species=mouse&q=ADIPOR1\n",
      "empty resps\n",
      "/faq/query?q=CSMD3&fields=symbol,name,summary\n",
      "/queries/?fields=ensembl.gene&size=1&q=symbol:ATOH1&species=human\n",
      "/\tv3/query/?fields=symbol,entrezgene,ensembl.gene&species=human&q=BCL7C\n",
      "/-v3/query/?species=human&fields=name,symbol,entrezgene,taxid,genomic_pos&q=symbol:myocd\n",
      "/\n",
      "/\tv3/query?q=symbol:CD36&species=human&fields=symbol,alias,name,type_of_gene\n",
      "/faq/query?q=pathway.kegg.name&species=human&fields=pathway.kegg.id,pathway.kegg.name\n",
      "/vi/query?q=pathway.reactome.id:* OR pathway.kegg.name:* OR wikipathways:* OR pathway.biocarta.id:*&fields=symbol,name,entrezgene,ensembl.gene,pathway.reactome.id,pathway.kegg.name,wikipathways,pathway.biocarta.id&species=all\n",
      "/\tv3/query?q=symbol:CCDC185 OR symbol:CAPN8 OR symbol:LOC105373281 OR symbol:CAPN2 OR symbol:LOC105373046 OR symbol:LOC105373041 OR symbol:TP53BP2 OR symbol:GTF2IP20 OR symbol:SEPTIN7P13 OR symbol:LOC124905682&fields=name,other_names,symbol,type_of_gene&species=human&size=10\n",
      "/ev3/query?q=symbol:ADIPOR1&fields=uniprot,refseq&species=mouse\n",
      "\n",
      "\n",
      "responses_openai_mini_rag_icl.pkl\n",
      "AST eval 0.0351123595505618\n",
      "BERT Score 0.8554413135299522\n",
      "\n",
      "BERT Score, excluding empty matches 0.9576638604297578\n",
      "METEOR Score 0.5203350864369276\n",
      "Frac empty matches 0.10674157303370786\n"
     ]
    }
   ],
   "source": [
    "file_names = [\n",
    "    \"responses_openai_mini_rag_icl.pkl\",\n",
    "    # \"responses_icl.pkl\",\n",
    "    # \"responses_train_split.pkl\"\n",
    "]\n",
    "\n",
    "for file_name in file_names:\n",
    "    ast_eval, bert_recall, bert_no_zeros, meteor, frac_empty = run_eval(file_name)\n",
    "    print(\"\\n\\n\", file_name, sep=\"\")\n",
    "    print(\"AST eval\", ast_eval)\n",
    "    print(\"BERT Score\", bert_recall)\n",
    "    print(\"\\nBERT Score, excluding empty matches\", bert_no_zeros)\n",
    "    \n",
    "    print(\"METEOR Score\", meteor)\n",
    "    \n",
    "    print(\"Frac empty matches\", frac_empty)"
   ]
  },
  {
   "cell_type": "code",
   "execution_count": 9,
   "id": "cb751d57-cc00-4e49-9258-2db322722421",
   "metadata": {},
   "outputs": [],
   "source": [
    "import pickle\n",
    "with open('responses_openai_rag_icl.pkl', 'rb') as fd:\n",
    "   all_responses = pickle.load(fd)"
   ]
  },
  {
   "cell_type": "code",
   "execution_count": null,
   "id": "e2091c4b-2895-4c88-96a1-d4d8a2b59a55",
   "metadata": {},
   "outputs": [],
   "source": [
    "sum([s==0.0 for s in bertscore_evals[\"recall\"]])"
   ]
  },
  {
   "cell_type": "code",
   "execution_count": 10,
   "id": "aac0e2f4-89d2-4388-bfd1-d83bb1eb28cf",
   "metadata": {},
   "outputs": [
    {
     "data": {
      "text/plain": [
       "['/v3/query?q=symbol:(CDK2 OR ABHD15)&fields=uniprot&size=2',\n",
       " '/v3/query?q=symbol:plaur&fields=entrezgene,symbol,facets=all',\n",
       " '/v3/query/?q=symbol:TSPAN6&fields=symbol,ensembl.gene',\n",
       " '/v3/query?q=symbol:MC1R&species=human&size=1&fields=ensembl.gene',\n",
       " '/v3/query?q=symbol:LOC123388108*&species=9669&fields=symbol,ensembl.gene',\n",
       " '/v3/query?q=entrezgene:287731&species=rat',\n",
       " '/v3/query?q=symbol:CDK2&species=human&fields=HGNC,MIM,summary,name,exac,symbol&size=10&facet_size=10&dotfield=true',\n",
       " '/v3/query?q=symbol:Cd74&species=mouse&fields=entrezgene',\n",
       " '/v3/query?q=MTOR&fields=all&size=10&from=0&fetch_all=false&facet_size=10&entrezonly=false&ensemblonly=false&dotfield=false',\n",
       " '/v3/query/?fields=symbol,name,entrezgene&q=zfin:ZDB-GENE-041010-37&species=zebrafish']"
      ]
     },
     "execution_count": 10,
     "metadata": {},
     "output_type": "execute_result"
    }
   ],
   "source": [
    "all_responses[:10]"
   ]
  },
  {
   "cell_type": "code",
   "execution_count": 11,
   "id": "51f3017f-68dd-48c9-b548-7dd203d4c7e9",
   "metadata": {},
   "outputs": [
    {
     "name": "stdout",
     "output_type": "stream",
     "text": [
      "/v3/query?q=CDK2 OR ABHD15&fields=uniprot\n",
      "/v3/query?q=Plaur&fields=entrezgene,symbol&size=10&from=0&fetch_all=false&facet_size=10&entrezonly=false&ensemblonly=false&dotfield=false\n",
      "/v3/query/?fields=symbol,ensembl&q=TSPAN6\n",
      "/v3/query?q=MC1R&species=human&size=1&fields=ensembl.ensembl_id\n",
      "/v3/query?species=9669&fields=symbol,ensembl.gene&q=symbol:LOC123388108*\n",
      "/v3/query/?species=rat&q=entrezgene:287731\n",
      "/v3/query?q=symbol:CDK2&species=9606&size=10&from=0&fetch_all=false&facet_size=10&entrezonly=false&ensemblonly=false&dotfield=true&fields=HGNC,MIM,summary,name,exac,symbol\n",
      "/v3/query/?species=mouse&scopes=symbol&fields=entrezgene&q=Cd74\n",
      "/v3/query/?q=MTOR\n",
      "/v3/query/?fields=symbol,name,entrezgene&q=ZFIN:ZDB-GENE-041010-37\n"
     ]
    }
   ],
   "source": [
    "print(*test_set[\"output\"][:10],sep=\"\\n\")"
   ]
  },
  {
   "cell_type": "code",
   "execution_count": null,
   "id": "ff706223-49a6-4a36-84df-bc434bc4723d",
   "metadata": {},
   "outputs": [],
   "source": [
    "print(*test_set[\"instruction\"][:10],sep=\"\\n\")"
   ]
  },
  {
   "cell_type": "code",
   "execution_count": null,
   "id": "650410ef-ad9e-48a1-bbfd-4b73918f5722",
   "metadata": {},
   "outputs": [],
   "source": []
  }
 ],
 "metadata": {
  "kernelspec": {
   "display_name": "Python 3 (ipykernel)",
   "language": "python",
   "name": "python3"
  },
  "language_info": {
   "codemirror_mode": {
    "name": "ipython",
    "version": 3
   },
   "file_extension": ".py",
   "mimetype": "text/x-python",
   "name": "python",
   "nbconvert_exporter": "python",
   "pygments_lexer": "ipython3",
   "version": "3.10.12"
  }
 },
 "nbformat": 4,
 "nbformat_minor": 5
}
