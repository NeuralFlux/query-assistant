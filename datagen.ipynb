{
 "cells": [
  {
   "cell_type": "markdown",
   "id": "90596ce3-27ce-4bee-b4b5-71910277fcbc",
   "metadata": {},
   "source": [
    "## Part 1: Filtering data"
   ]
  },
  {
   "cell_type": "markdown",
   "id": "94a08311-ec1c-41b2-832f-1c824c58e68c",
   "metadata": {},
   "source": [
    "### Part 1a: Rough filtering with Custom Query Signature"
   ]
  },
  {
   "cell_type": "code",
   "execution_count": 2,
   "id": "67d812d6-1d87-4a16-a14f-c9241dded726",
   "metadata": {},
   "outputs": [],
   "source": [
    "from collections import OrderedDict\n",
    "import re\n",
    "\n",
    "import polars as pl\n",
    "from urllib import parse"
   ]
  },
  {
   "cell_type": "code",
   "execution_count": 17,
   "id": "fc15787a-e0c1-4c5a-8a98-edf3a4f30beb",
   "metadata": {},
   "outputs": [
    {
     "name": "stdout",
     "output_type": "stream",
     "text": [
      "('/v1/gene', 'symbol,entrezgene', '(())*', 'entrezgene', '')\n",
      "('/v1/query', '', '', 'chr', '')\n",
      "('/v1/query', 'symbol', '', 'area', '')\n",
      "/v1/query?fields=symbol&q=Feasibility of leadless left ventricular septal pacing with the WiSE-CRT system to target the left bundle branch area: A porcine model and multicenter patient experience\n",
      "/v1/query?q=CHRNA1&scopes=symbol&fields=name,symbol,entrezgene,ensembl.gene,pathway\n"
     ]
    }
   ],
   "source": [
    "ALLOWED_PARAMS = (\"q\", \"fields\", \"scopes\")  # need only these to test LLM initially\n",
    "OPS = [\"AND\", \"OR\", \"NOT\", \"(\", \")\", \"?\", \"*\", r\"\\d+-\\d+\", '\"', \"~\", \"^\", \"TO\", \"+\"]  # most of ES ops\n",
    "\n",
    "def parse_encoded_uri(encoded_uri):\n",
    "    uri = parse.unquote(encoded_uri)\n",
    "    uri_components = parse.urlparse(uri)\n",
    "\n",
    "    path = uri_components.path.removesuffix(\"/\")\n",
    "    if not path.startswith(\"/v1\"):\n",
    "        path = None\n",
    "\n",
    "    return path, uri_components\n",
    "\n",
    "def filter_uri_params(encoded_uri):\n",
    "    path, uri_components = parse_encoded_uri(encoded_uri)\n",
    "    params = parse.parse_qsl(uri_components.query)\n",
    "\n",
    "    params = filter(lambda x: x[0] in ALLOWED_PARAMS, params)\n",
    "\n",
    "    # hacky use of unquote and quote, can be more efficient by iterating over params\n",
    "    return f\"{path}?{parse.unquote(parse.urlencode(list(params), quote_via=parse.quote))}\"\n",
    "\n",
    "def get_uri_signature(encoded_uri):\n",
    "    path, uri_components = parse_encoded_uri(encoded_uri)\n",
    "    params = parse.parse_qs(uri_components.query) # NOTE: qs vs qsl\n",
    "\n",
    "    # NOTE: we assume len(params[\"param\"]) == 1\n",
    "    # these are just rough filters\n",
    "    q_str = params[\"q\"][0] if \"q\" in params else \"\"\n",
    "    ops_pattern = re.compile(r'(' + '|'.join(map(re.escape, OPS)) + r')')\n",
    "    field_pattern = re.compile(r'([a-zA-Z\\._]+)\\d*:')\n",
    "\n",
    "    q_fields = field_pattern.findall(q_str)\n",
    "    q_ops = ops_pattern.findall(q_str)\n",
    "\n",
    "    fields = params[\"fields\"][0] if \"fields\" in params else \"\"\n",
    "    scopes = params[\"scopes\"][0] if \"scopes\" in params else \"\"\n",
    "    # take only /v3/query or /v3/gene from the path, then sort and join all other fields\n",
    "    sig = (\"/\".join(path.split(\"/\")[:3]), fields, ''.join(sorted(q_ops)), ''.join(sorted(q_fields)), ''.join(sorted(scopes)))\n",
    "    return tuple(map(lambda s: s.lower(), sig))\n",
    "\n",
    "print(get_uri_signature(\"/v1/gene/1023/?fields=symbol,entrezgene&q=(entrezgene:dipeptidyl%20peptidase%20%28DPP%29-4*)\"))\n",
    "print(get_uri_signature(\"/v1/query?species=human&q=chr3%3A108324182-108324285%3A%20\"))\n",
    "print(get_uri_signature(\"/v1/query/?species=human&fields=symbol&q=Feasibility+of+leadless+left+ventricular+septal+pacing+with+the+WiSE-CRT+system+to+target+the+left+bundle+branch+area:+A+porcine+model+and+multicenter+patient+experience\"))\n",
    "print(filter_uri_params(\"/v1/query/?entrezonly=true&species=human&fields=symbol&q=Feasibility+of+leadless+left+ventricular+septal+pacing+with+the+WiSE-CRT+system+to+target+the+left+bundle+branch+area:+A+porcine+model+and+multicenter+patient+experience\"))\n",
    "print(filter_uri_params(\"/v1/query?q=CHRNA1&scopes=symbol&fields=name,symbol,entrezgene,ensembl.gene,pathway&species=human\"))"
   ]
  },
  {
   "cell_type": "code",
   "execution_count": 18,
   "id": "6cb30be2-55c6-4b3d-9033-ee0e8bc7e2f9",
   "metadata": {},
   "outputs": [
    {
     "data": {
      "text/plain": [
       "'fields=symbol%2Centrezgene&q=dipeptidyl%20peptidase%20%28DPP%29-4'"
      ]
     },
     "execution_count": 18,
     "metadata": {},
     "output_type": "execute_result"
    }
   ],
   "source": [
    "encoded_uri = \"/v3/query/?fields=symbol,entrezgene&q=dipeptidyl%20peptidase%20%28DPP%29-4\"\n",
    "uri = parse.unquote(encoded_uri)\n",
    "uri_components = parse.urlparse(uri)\n",
    "parse.urlencode(parse.parse_qsl(uri_components.query), quote_via=parse.quote)"
   ]
  },
  {
   "cell_type": "code",
   "execution_count": 19,
   "id": "903e0aac-0207-424f-8db3-1774b7124082",
   "metadata": {},
   "outputs": [
    {
     "data": {
      "text/plain": [
       "'fields=symbol%2Centrezgene&q=dipeptidyl%20peptidase%20%28DPP%29-4'"
      ]
     },
     "execution_count": 19,
     "metadata": {},
     "output_type": "execute_result"
    }
   ],
   "source": [
    "parse.urlencode({'fields': 'symbol,entrezgene', 'q': 'dipeptidyl peptidase (DPP)-4'}, quote_via=parse.quote)"
   ]
  },
  {
   "cell_type": "code",
   "execution_count": 20,
   "id": "657778f0-6a84-452a-aa41-c94a4d864e68",
   "metadata": {},
   "outputs": [
    {
     "data": {
      "text/plain": [
       "{'fields': ['symbol,entrezgene'], 'q': ['1']}"
      ]
     },
     "execution_count": 20,
     "metadata": {},
     "output_type": "execute_result"
    }
   ],
   "source": [
    "path, uri_components = parse_encoded_uri(\"/v3/query?fields=symbol%2Centrezgene&q=1\")\n",
    "parse.parse_qs(uri_components.query)"
   ]
  },
  {
   "cell_type": "code",
   "execution_count": 41,
   "id": "1dbe97eb-9b7b-4d3c-8a4c-c8762d3dcbb0",
   "metadata": {},
   "outputs": [
    {
     "name": "stdout",
     "output_type": "stream",
     "text": [
      "INFO: Pandarallel will run on 24 workers.\n",
      "INFO: Pandarallel will use Memory file system to transfer data between the main process and workers.\n"
     ]
    }
   ],
   "source": [
    "import pandas as pd\n",
    "from pandarallel import pandarallel\n",
    "\n",
    "pandarallel.initialize(progress_bar=True, nb_workers=24)\n",
    "\n",
    "df = pd.read_csv(\"data/logs/mychem_log_paths.csv\")"
   ]
  },
  {
   "cell_type": "code",
   "execution_count": 42,
   "id": "c6cc6a4b-ec66-4d59-aa71-fd1b6b92989b",
   "metadata": {},
   "outputs": [
    {
     "data": {
      "text/html": [
       "<div>\n",
       "<style scoped>\n",
       "    .dataframe tbody tr th:only-of-type {\n",
       "        vertical-align: middle;\n",
       "    }\n",
       "\n",
       "    .dataframe tbody tr th {\n",
       "        vertical-align: top;\n",
       "    }\n",
       "\n",
       "    .dataframe thead th {\n",
       "        text-align: right;\n",
       "    }\n",
       "</style>\n",
       "<table border=\"1\" class=\"dataframe\">\n",
       "  <thead>\n",
       "    <tr style=\"text-align: right;\">\n",
       "      <th></th>\n",
       "      <th>log.path</th>\n",
       "    </tr>\n",
       "  </thead>\n",
       "  <tbody>\n",
       "    <tr>\n",
       "      <th>0</th>\n",
       "      <td>/v1/query?q=lomitapide&amp;fields=chembl.drug_indi...</td>\n",
       "    </tr>\n",
       "    <tr>\n",
       "      <th>1</th>\n",
       "      <td>/v1/metadata</td>\n",
       "    </tr>\n",
       "    <tr>\n",
       "      <th>2</th>\n",
       "      <td>/v1/metadata</td>\n",
       "    </tr>\n",
       "    <tr>\n",
       "      <th>3</th>\n",
       "      <td>/v1/metadata/fields</td>\n",
       "    </tr>\n",
       "    <tr>\n",
       "      <th>4</th>\n",
       "      <td>/v1/metadata</td>\n",
       "    </tr>\n",
       "  </tbody>\n",
       "</table>\n",
       "</div>"
      ],
      "text/plain": [
       "                                            log.path\n",
       "0  /v1/query?q=lomitapide&fields=chembl.drug_indi...\n",
       "1                                       /v1/metadata\n",
       "2                                       /v1/metadata\n",
       "3                                /v1/metadata/fields\n",
       "4                                       /v1/metadata"
      ]
     },
     "execution_count": 42,
     "metadata": {},
     "output_type": "execute_result"
    }
   ],
   "source": [
    "df.head()"
   ]
  },
  {
   "cell_type": "code",
   "execution_count": 43,
   "id": "90375e0b-de00-4c30-a738-b583d4999c6f",
   "metadata": {
    "scrolled": true
   },
   "outputs": [
    {
     "data": {
      "application/vnd.jupyter.widget-view+json": {
       "model_id": "5a7720e848ef4b9498805d6d9c30df2d",
       "version_major": 2,
       "version_minor": 0
      },
      "text/plain": [
       "VBox(children=(HBox(children=(IntProgress(value=0, description='0.00%', max=9636), Label(value='0 / 9636'))), …"
      ]
     },
     "metadata": {},
     "output_type": "display_data"
    }
   ],
   "source": [
    "# use new.path to construct query_sig\n",
    "# unquote log.path for easier parsing for the downstream LLM\n",
    "df[\"new.path\"] = df[\"log.path\"].parallel_apply(filter_uri_params)"
   ]
  },
  {
   "cell_type": "code",
   "execution_count": 44,
   "id": "f168e6ea-68ab-4e16-aaa5-f55aad70c3c6",
   "metadata": {
    "scrolled": true
   },
   "outputs": [
    {
     "data": {
      "application/vnd.jupyter.widget-view+json": {
       "model_id": "0d93855761704b2bbabfcd75a235f939",
       "version_major": 2,
       "version_minor": 0
      },
      "text/plain": [
       "VBox(children=(HBox(children=(IntProgress(value=0, description='0.00%', max=9636), Label(value='0 / 9636'))), …"
      ]
     },
     "metadata": {},
     "output_type": "display_data"
    }
   ],
   "source": [
    "df[\"query_sig\"] = df[\"new.path\"].parallel_apply(get_uri_signature)"
   ]
  },
  {
   "cell_type": "code",
   "execution_count": 45,
   "id": "8d6a1320-37cc-4067-87c3-a511206c8c10",
   "metadata": {
    "scrolled": true
   },
   "outputs": [
    {
     "data": {
      "application/vnd.jupyter.widget-view+json": {
       "model_id": "d43d9f2142584683b5dc5584356a19a4",
       "version_major": 2,
       "version_minor": 0
      },
      "text/plain": [
       "VBox(children=(HBox(children=(IntProgress(value=0, description='0.00%', max=9636), Label(value='0 / 9636'))), …"
      ]
     },
     "metadata": {},
     "output_type": "display_data"
    }
   ],
   "source": [
    "df[\"log.path\"] = df[\"log.path\"].parallel_apply(parse.unquote)"
   ]
  },
  {
   "cell_type": "code",
   "execution_count": 46,
   "id": "c7419a7c-992c-4b62-97f3-82dceaa6ebd8",
   "metadata": {},
   "outputs": [],
   "source": [
    "pl_df = pl.from_pandas(df)\n",
    "grp = pl_df.group_by(\"query_sig\")"
   ]
  },
  {
   "cell_type": "code",
   "execution_count": 47,
   "id": "478ac7ff-8e0d-4047-9c0a-bf9fdd0c9267",
   "metadata": {},
   "outputs": [],
   "source": [
    "filtered = grp.head(10)  # optionally get longest queries"
   ]
  },
  {
   "cell_type": "code",
   "execution_count": 48,
   "id": "eec64ee8-55ca-4eea-b14b-8fbc29120d9d",
   "metadata": {},
   "outputs": [],
   "source": [
    "# make np arrays render on single line in CSV\n",
    "import numpy as np\n",
    "np.set_printoptions(threshold=np.inf)\n",
    "np.set_printoptions(linewidth=np.inf)\n",
    "\n",
    "filtered.to_pandas().to_csv(\"data/logs/mychem_filtered.csv\", index=False)"
   ]
  },
  {
   "cell_type": "markdown",
   "id": "fd9d194d-3c85-4464-92c3-20cb3e88d006",
   "metadata": {},
   "source": [
    "### Part 1b: Validating queries with GET"
   ]
  },
  {
   "cell_type": "markdown",
   "id": "b8654ead-bafe-4e3e-8617-cc6798dd9718",
   "metadata": {},
   "source": [
    "#### We only consider queries with at least one result as they are certainly correct. We may also take a small portion of negative class for more robustness."
   ]
  },
  {
   "cell_type": "code",
   "execution_count": 49,
   "id": "2261b409-10c5-4afa-b1d6-50e837ddff0c",
   "metadata": {},
   "outputs": [
    {
     "data": {
      "text/html": [
       "<div>\n",
       "<style scoped>\n",
       "    .dataframe tbody tr th:only-of-type {\n",
       "        vertical-align: middle;\n",
       "    }\n",
       "\n",
       "    .dataframe tbody tr th {\n",
       "        vertical-align: top;\n",
       "    }\n",
       "\n",
       "    .dataframe thead th {\n",
       "        text-align: right;\n",
       "    }\n",
       "</style>\n",
       "<table border=\"1\" class=\"dataframe\">\n",
       "  <thead>\n",
       "    <tr style=\"text-align: right;\">\n",
       "      <th></th>\n",
       "      <th>query_sig</th>\n",
       "      <th>log.path</th>\n",
       "      <th>new.path</th>\n",
       "    </tr>\n",
       "  </thead>\n",
       "  <tbody>\n",
       "    <tr>\n",
       "      <th>0</th>\n",
       "      <td>['/v1/query' 'drugcentral.drug_use.reduce_risk...</td>\n",
       "      <td>/v1/query?q=_exists_:drugcentral.drug_use.redu...</td>\n",
       "      <td>/v1/query?q=_exists_:drugcentral.drug_use.redu...</td>\n",
       "    </tr>\n",
       "    <tr>\n",
       "      <th>6</th>\n",
       "      <td>['/v1/query' 'drugcentral.drug_use.off_label_u...</td>\n",
       "      <td>/v1/query?q=_exists_:drugcentral.drug_use.off_...</td>\n",
       "      <td>/v1/query?q=_exists_:drugcentral.drug_use.off_...</td>\n",
       "    </tr>\n",
       "    <tr>\n",
       "      <th>12</th>\n",
       "      <td>['/v1/query' 'pharmgkb.smiles' '' '_exists_' '']</td>\n",
       "      <td>/v1/query?q=_exists_:pharmgkb.smiles&amp;fields=ph...</td>\n",
       "      <td>/v1/query?q=_exists_:pharmgkb.smiles&amp;fields=ph...</td>\n",
       "    </tr>\n",
       "    <tr>\n",
       "      <th>17</th>\n",
       "      <td>['/v1/query' 'pharmgkb.xrefs.pubchem.sid' '' '...</td>\n",
       "      <td>/v1/query?q=_exists_:pharmgkb.xrefs.pubchem.si...</td>\n",
       "      <td>/v1/query?q=_exists_:pharmgkb.xrefs.pubchem.si...</td>\n",
       "    </tr>\n",
       "    <tr>\n",
       "      <th>22</th>\n",
       "      <td>['/v1/query' 'gsrs.approvedby' '' '_exists_' '']</td>\n",
       "      <td>/v1/query?q=_exists_:gsrs.approvedby&amp;fields=gs...</td>\n",
       "      <td>/v1/query?q=_exists_:gsrs.approvedby&amp;fields=gs...</td>\n",
       "    </tr>\n",
       "  </tbody>\n",
       "</table>\n",
       "</div>"
      ],
      "text/plain": [
       "                                            query_sig  \\\n",
       "0   ['/v1/query' 'drugcentral.drug_use.reduce_risk...   \n",
       "6   ['/v1/query' 'drugcentral.drug_use.off_label_u...   \n",
       "12   ['/v1/query' 'pharmgkb.smiles' '' '_exists_' '']   \n",
       "17  ['/v1/query' 'pharmgkb.xrefs.pubchem.sid' '' '...   \n",
       "22   ['/v1/query' 'gsrs.approvedby' '' '_exists_' '']   \n",
       "\n",
       "                                             log.path  \\\n",
       "0   /v1/query?q=_exists_:drugcentral.drug_use.redu...   \n",
       "6   /v1/query?q=_exists_:drugcentral.drug_use.off_...   \n",
       "12  /v1/query?q=_exists_:pharmgkb.smiles&fields=ph...   \n",
       "17  /v1/query?q=_exists_:pharmgkb.xrefs.pubchem.si...   \n",
       "22  /v1/query?q=_exists_:gsrs.approvedby&fields=gs...   \n",
       "\n",
       "                                             new.path  \n",
       "0   /v1/query?q=_exists_:drugcentral.drug_use.redu...  \n",
       "6   /v1/query?q=_exists_:drugcentral.drug_use.off_...  \n",
       "12  /v1/query?q=_exists_:pharmgkb.smiles&fields=ph...  \n",
       "17  /v1/query?q=_exists_:pharmgkb.xrefs.pubchem.si...  \n",
       "22  /v1/query?q=_exists_:gsrs.approvedby&fields=gs...  "
      ]
     },
     "execution_count": 49,
     "metadata": {},
     "output_type": "execute_result"
    }
   ],
   "source": [
    "import httpx\n",
    "import pandas as pd\n",
    "from tqdm import tqdm\n",
    "import json\n",
    "\n",
    "df = pd.read_csv(\"data/logs/mychem_filtered.csv\").drop_duplicates(subset=[\"log.path\"])\n",
    "df.head()"
   ]
  },
  {
   "cell_type": "code",
   "execution_count": 50,
   "id": "e2360c07-1209-475f-acf2-c86026236925",
   "metadata": {},
   "outputs": [],
   "source": [
    "def fetch_url(url):\n",
    "    try:\n",
    "        response = httpx.get(url)\n",
    "        return response.status_code, response.text\n",
    "    except httpx.HTTPStatusError as e:\n",
    "        return e.response.status_code, str(e)\n",
    "    except Exception as e:\n",
    "        return None, str(e)"
   ]
  },
  {
   "cell_type": "code",
   "execution_count": 51,
   "id": "72dc129c-2afa-4821-8d45-d4865f8c4b75",
   "metadata": {},
   "outputs": [
    {
     "name": "stderr",
     "output_type": "stream",
     "text": [
      "Fetching URLs: 100%|██████████████████████████████████████████| 1825/1825 [05:13<00:00,  5.82it/s]\n"
     ]
    }
   ],
   "source": [
    "HOST_NAME = \"http://mychem.info\"\n",
    "results = []\n",
    "for url in tqdm(df[\"log.path\"], desc=\"Fetching URLs\"):\n",
    "    status_code, content = fetch_url(HOST_NAME + url)\n",
    "    results.append((url, status_code, content))"
   ]
  },
  {
   "cell_type": "code",
   "execution_count": 52,
   "id": "b808458c-115e-4733-9e2d-efc6b7f9007c",
   "metadata": {},
   "outputs": [],
   "source": [
    "res_df = pd.DataFrame(results, columns=[\"query\", \"status\", \"response\"])"
   ]
  },
  {
   "cell_type": "code",
   "execution_count": 53,
   "id": "66d8a641-31e6-4124-8add-8e6229def416",
   "metadata": {},
   "outputs": [
    {
     "data": {
      "text/plain": [
       "('/v1/query?q=_exists_:drugcentral.drug_use.off_label_use.snomed_concept_id&fields=drugcentral.drug_use.off_label_use.snomed_concept_id',\n",
       " 200,\n",
       " '{\"took\":16,\"total\":729,\"max_score\":1.0,\"hits\":[{\"_id\":\"CESYKOGBSMNBPD-UHFFFAOYSA-N\",\"_score\":1.0,\"drugcentral\":{\"_license\":\"http://bit.ly/2SeEhUy\",\"drug_use\":{\"off_label_use\":[{\"snomed_concept_id\":427649000},{\"snomed_concept_id\":15771004}]}}},{\"_id\":\"AKUJBENLRBOFTD-QZIXMDIESA-N\",\"_score\":1.0,\"drugcentral\":{\"_license\":\"http://bit.ly/2SeEhUy\",\"drug_use\":{\"off_label_use\":[{\"snomed_concept_id\":88854002},{\"snomed_concept_id\":46775006}]}}},{\"_id\":\"BIVUTZYWJNTGDG-GTMVCPGISA-N\",\"_score\":1.0,\"drugcentral\":{\"_license\":\"http://bit.ly/2SeEhUy\",\"drug_use\":{\"off_label_use\":[{\"snomed_concept_id\":18081009},{\"snomed_concept_id\":7520000},{\"snomed_concept_id\":2707005},{\"snomed_concept_id\":17732003},{\"snomed_concept_id\":80960004},{\"snomed_concept_id\":58750007},{\"snomed_concept_id\":36753006},{\"snomed_concept_id\":111835002}]}}},{\"_id\":\"AQNDDEOPVVGCPG-UHFFFAOYSA-N\",\"_score\":1.0,\"drugcentral\":{\"_license\":\"http://bit.ly/2SeEhUy\",\"drug_use\":{\"off_label_use\":[{\"snomed_concept_id\":308546005},{\"snomed_concept_id\":78975002},{\"snomed_concept_id\":443482000},{\"snomed_concept_id\":394659003}]}}},{\"_id\":\"CHEBI:9313\",\"_score\":1.0,\"drugcentral\":{\"_license\":\"http://bit.ly/2SeEhUy\",\"drug_use\":{\"off_label_use\":[{\"snomed_concept_id\":61170000},{\"snomed_concept_id\":20607006},{\"snomed_concept_id\":57643001},{\"snomed_concept_id\":397825006},{\"snomed_concept_id\":235595009}]}}},{\"_id\":\"BYBLEWFAAKGYCD-UHFFFAOYSA-N\",\"_score\":1.0,\"drugcentral\":{\"_license\":\"http://bit.ly/2SeEhUy\",\"drug_use\":{\"off_label_use\":{\"snomed_concept_id\":71906005}}}},{\"_id\":\"GSDSWSVVBLHKDQ-UHFFFAOYSA-N\",\"_score\":1.0,\"drugcentral\":{\"_license\":\"http://bit.ly/2SeEhUy\",\"drug_use\":{\"off_label_use\":[{\"snomed_concept_id\":84980006},{\"snomed_concept_id\":25629007},{\"snomed_concept_id\":271366000},{\"snomed_concept_id\":11840006},{\"snomed_concept_id\":49786009},{\"snomed_concept_id\":429271009},{\"snomed_concept_id\":111798006},{\"snomed_concept_id\":11389007},{\"snomed_concept_id\":154283005}]}}},{\"_id\":\"RHRAMPXHWHSKQB-GGEUKFTFSA-N\",\"_score\":1.0,\"drugcentral\":{\"_license\":\"http://bit.ly/2SeEhUy\",\"drug_use\":{\"off_label_use\":[{\"snomed_concept_id\":18081009},{\"snomed_concept_id\":7520000},{\"snomed_concept_id\":2707005},{\"snomed_concept_id\":17732003},{\"snomed_concept_id\":80960004},{\"snomed_concept_id\":58750007},{\"snomed_concept_id\":36753006},{\"snomed_concept_id\":111835002}]}}},{\"_id\":\"HGBLNBBNRORJKI-WCABBAIRSA-N\",\"_score\":1.0,\"drugcentral\":{\"_license\":\"http://bit.ly/2SeEhUy\",\"drug_use\":{\"off_label_use\":[{\"snomed_concept_id\":36971009},{\"snomed_concept_id\":82403002}]}}},{\"_id\":\"GOEMGAFJFRBGGG-UHFFFAOYSA-N\",\"_score\":1.0,\"drugcentral\":{\"_license\":\"http://bit.ly/2SeEhUy\",\"drug_use\":{\"off_label_use\":[{\"snomed_concept_id\":409712001},{\"snomed_concept_id\":90739004},{\"snomed_concept_id\":194828000},{\"snomed_concept_id\":48694002}]}}}]}')"
      ]
     },
     "execution_count": 53,
     "metadata": {},
     "output_type": "execute_result"
    }
   ],
   "source": [
    "results[1]"
   ]
  },
  {
   "cell_type": "code",
   "execution_count": 54,
   "id": "6b869412-90b8-4acc-8167-d023e44a4465",
   "metadata": {},
   "outputs": [],
   "source": [
    "def create_query_labels(df: pd.DataFrame):\n",
    "    \"\"\"Return filtered df of queries with 200 status code and >0 results only\"\"\"\n",
    "    filtered_res = []\n",
    "\n",
    "    for row in tqdm(df.itertuples()):\n",
    "        if row.status == 200:\n",
    "            try:\n",
    "                resp = json.loads(row.response)\n",
    "                if resp.get(\"total\", 0) > 0:\n",
    "                    filtered_res.append({\"query\": row.query, \"hits\": resp.get(\"total\", 0)})\n",
    "            except (json.JSONDecodeError, AttributeError) as e:\n",
    "                print(\"Err\", row)\n",
    "                continue\n",
    "\n",
    "    return pd.DataFrame(filtered_res)"
   ]
  },
  {
   "cell_type": "code",
   "execution_count": 55,
   "id": "8a16731e-25d1-443d-bc8b-f199801a997d",
   "metadata": {
    "scrolled": true
   },
   "outputs": [
    {
     "name": "stderr",
     "output_type": "stream",
     "text": [
      "363it [00:00, 497.32it/s]"
     ]
    },
    {
     "name": "stdout",
     "output_type": "stream",
     "text": [
      "Err Pandas(Index=238, query='/v1/api', status=200.0, response='<!DOCTYPE html>\\n<html class=\"bg-dark\">\\n  <head>\\n    <title id=\"title\"></title>\\n    <meta charset=\"utf-8\" />\\n    <meta name=\"viewport\" content=\"width=device-width, initial-scale=1\" />\\n    <meta name=\"HandheldFriendly\" content=\"True\" />\\n    <meta property=\"og:locale\" content=\"en_US\" />\\n    <!-- General Metadata -->\\n    <meta property=\"og:image:type\" content=\"image/jpg\">\\n    <meta property=\"og:image:width\" content=\"1200\">\\n    <meta property=\"og:image:height\" content=\"630\">\\n    <meta property=\"og:type\" content=\"website\">\\n    <meta property=\"fb:app_id\" content=\"\" />\\n    <meta name=\"twitter:card\" content=\"summary\" />\\n    <meta name=\"msapplication-TileColor\" content=\"#000000\">\\n    <meta name=\"theme-color\" content=\"#000000\">\\n    <!-- Unique for each site -->\\n    <meta id=\"featured\" property=\"og:image\" content=\"\">\\n    <meta id=\"ogurl\" property=\"og:url\" content=\"\">\\n    <meta id=\"url\" property=\"og:site_name\" content=\"\">\\n    <meta id=\"ogtitle\" property=\"og:title\" content=\"\" />\\n    <meta id=\"desc\" name=\"description\" content=\"\" />\\n    <meta id=\"tdesc\" name=\"twitter:description\" content=\"\" />\\n    <meta id=\"turl\" name=\"twitter:url\" content=\"\" />\\n    <meta id=\"ogdesc\" property=\"og:description\" content=\"\">\\n    <meta id=\"ttitle\" name=\"twitter:title\" content=\"\" />\\n    <!-- API specific images -->\\n    <meta name=\"twitter:image\" content=\"/static/img/favicon.png\" />\\n    <link id=\"appletouch\" rel=\"apple-touch-icon\" href=\"\" />\\n    <link id=\"appletouch2\" rel=\"apple-touch-icon\" sizes=\"180x180\" href=\"\">\\n    <link id=\"manifest\" rel=\"manifest\" href=\"\">\\n    <link id=\"safari\" rel=\"mask-icon\" href=\"\" color=\"#545454\">\\n    <meta id=\"config\" name=\"msapplication-config\" content=\"\">\\n    <link id=\"shortcut\" rel=\"shortcut icon\" type=\"image/png\" href=\"\" />\\n    <!-- CDN Styles -->\\n    <link rel=\"stylesheet\" href=\"https://stackpath.bootstrapcdn.com/bootstrap/4.1.0/css/bootstrap.min.css\"\\n      integrity=\"sha384-9gVQ4dYFwwWSjIDZnLEWnxCjeSWFphJiwGPXr1jddIhOegiu1FwO5qRGvFXOdJZ4\" crossorigin=\"anonymous\">\\n    <link rel=\"stylesheet\" href=\"/static/css/app.css\" />\\n    <link type=\"text/css\" rel=\"stylesheet\" href=\"/static/css/swagger-ui.css\"/>\\n    <style>\\n      .svg-assets{\\n        display: none;\\n      }\\n    </style>\\n  </head>\\n    <body id=\"tryit\">\\n      <header>\\n        <nav id=\"nav\" class=\"navbar navbar-dark bg-dark p-2\">\\n          <a class=\"navbar-item nav-link logoFont text-light\" href=\"/\">\\n            <span id=\"logo\"></span>\\n          </a>\\n        </nav>\\n      </header>\\n      <div id=\"swagger-ui\"></div>\\n      <footer id=\"footer\" class=\"bg-dark p-1\" style=\"bottom:0;\">\\n        <div class=\"copyright text-center text-muted\">\\n          <ul class=\"noListStyle listBlock\">\\n            <li>\\n              <a id=\"rss\" class=\"link text-light\" href=\"\" target=\"_blank\">\\n                <i class=\"fas fa-rss fa-2x\"></i>\\n              </a>\\n            </li>\\n            <li>\\n              <a id=\"twitter\" class=\"link text-light\" href=\"\" target=\"_blank\">\\n                <i class=\"fab fa-twitter fa-2x\"></i>\\n              </a>\\n            </li>\\n            <li>\\n              <a id=\"github\" class=\"link text-light\" href=\"\" target=\"_blank\">\\n                <i class=\"fab fa-github-alt fa-2x\"></i>\\n              </a>\\n            </li>\\n          </ul>\\n          <hr />\\n          <p class=\"smallFont\">\\n            All content copyright <a id=\"docs\" href=\"\" class=\"link text-light\"></a> © <span id=\"year\"></span>  <br /> All rights reserved.\\n            <a href=\"/terms\" class=\"link text-blue\">Terms of use. </a>\\n            <a href=\"/citation/\" class=\"link text-blue\">How To Cite</a>\\n          </p>\\n        </div>\\n      </footer>\\n    </body>\\n    <script src=\"https://cdnjs.cloudflare.com/ajax/libs/vue/2.4.2/vue.min.js\"></script>\\n    <script defer src=\"https://use.fontawesome.com/releases/v5.0.8/js/solid.js\" integrity=\"sha384-+Ga2s7YBbhOD6nie0DzrZpJes+b2K1xkpKxTFFcx59QmVPaSA8c7pycsNaFwUK6l\" crossorigin=\"anonymous\"></script>\\n    <script defer src=\"https://use.fontawesome.com/releases/v5.0.8/js/brands.js\" integrity=\"sha384-sCI3dTBIJuqT6AwL++zH7qL8ZdKaHpxU43dDt9SyOzimtQ9eyRhkG3B7KMl6AO19\" crossorigin=\"anonymous\"></script>\\n    <script defer src=\"https://use.fontawesome.com/releases/v5.0.8/js/fontawesome.js\" integrity=\"sha384-7ox8Q2yzO/uWircfojVuCQOZl+ZZBg2D2J5nkpLqzH1HY0C1dHlTKIbpRz/LG23c\" crossorigin=\"anonymous\"></script>\\n    <script src=\"https://cdn.jsdelivr.net/npm/swagger-ui-dist@3.43.0/swagger-ui-bundle.js\" integrity=\"sha256-2pA2pa1BY6+FvXEF8lzpX57QcWSOe2Bj5YXGa/+AWWs=\" crossorigin=\"anonymous\"></script>\\n    <script>\\n    var currentTime = new Date()\\n    var year = currentTime.getFullYear()\\n    var myelement = document.getElementById(\"year\");\\n        myelement.innerHTML= year;\\n\\n    let settings = {\\n      sn:\\'\\',\\n      metaID:\\'\\',\\n      siteDescription:\\'\\',\\n      featured:\\'\\',\\n      url :\\'\\',\\n      shortname:\\'\\'\\n    }\\n\\n    function setDefaults(sitename){\\n\\n      switch (sitename) {\\n        case \"mygene.info\":\\n          settings.sn = \\'MyGene.info\\'\\n          settings.shortname = \\'mygene\\'\\n          settings.metaID = \\'59dce17363dce279d389100834e43648\\'\\n          settings.siteDescription = \"Gene Annotation as a Service\"\\n          settings.featured = \\'https://i.postimg.cc/jSCHpMfp/mg.jpg\\'\\n          settings.url = \\'http://MyGene.info\\'\\n          break;\\n        case \"mychem.info\":\\n          settings.metaID = \\'8f08d1446e0bb9c2b323713ce83e2bd3\\'\\n          settings.sn = \\'MyChem.info\\'\\n          settings.shortname = \\'mychem\\'\\n          settings.siteDescription = \"Chemical and Drug Annotation as a Service\"\\n          settings.featured = \\'https://i.postimg.cc/ZK5pNwwW/mc.jpg\\'\\n          settings.url = \\'http://MyChem.info\\'\\n          break;\\n        case \"myvariant.info\":\\n          settings.metaID = \\'09c8782d9f4027712e65b95424adba79\\'\\n          settings.sn = \\'MyVariant.info\\'\\n          settings.shortname = \\'myvariant\\'\\n          settings.siteDescription = \"Variant Annotation as a Service\"\\n          settings.featured = \"https://i.postimg.cc/MHdB4BpZ/mv.jpg\"\\n          settings.url = \\'http://MyVariant.info\\'\\n          break;\\n        case \"mydisease.info\":\\n          settings.sn = \\'MyDisease.info\\'\\n          settings.shortname = \\'mydisease\\'\\n          settings.metaID = \\'671b45c0301c8624abbd26ae78449ca2\\'\\n          settings.siteDescription = \"Disease Annotation as a Service\"\\n          settings.featured = \\'https://i.postimg.cc/vmfVykZN/md.jpg\\'\\n          settings.url = \\'http://MyDisease.info\\'\\n          break;\\n        default:\\n          console.log(\\'default\\')\\n          settings.sn = \\'MyGene.info\\'\\n          settings.shortname = \\'mygene\\'\\n          settings.metaID = \\'59dce17363dce279d389100834e43648\\'\\n          settings.siteDescription = \"Gene Annotation as a Service\"\\n          settings.featured = \\'https://i.postimg.cc/jSCHpMfp/mg.jpg\\'\\n          settings.url = \\'http://MyGene.info\\'\\n      }\\n    }\\n\\n    function initUI(){\\n            // Plug-in to hide empty tags in Swagger UI\\n            const HideEmptyTagsPlugin = () => {\\n              return {\\n                statePlugins: {\\n                  spec: {\\n                    wrapSelectors: {\\n                      taggedOperations: (ori) => (...args) => {\\n                        return ori(...args)\\n                          .filter(tagMeta => tagMeta.get(\"operations\") && tagMeta.get(\"operations\").size > 0)\\n                      }\\n                    }\\n                  }\\n                }\\n              }\\n            };\\n\\n            // SwaggerUI Bundle\\n            const ui = SwaggerUIBundle({\\n              url: \"https://smart-api.info/api/metadata/\"+settings.metaID+\"?format=yaml\",\\n              dom_id: \\'#swagger-ui\\',\\n              deepLinking: true,\\n              presets: [\\n                SwaggerUIBundle.presets.apis,\\n              ],\\n              plugins: [\\n                SwaggerUIBundle.plugins.DownloadUrl,\\n                HideEmptyTagsPlugin\\n              ],\\n            })\\n            window.ui = ui;\\n    }\\n\\n    function setTags(){\\n      document.getElementById(\"title\").innerHTML = settings.sn\\n      document.getElementById(\"logo\").innerHTML = settings.sn\\n      document.getElementById(\"featured\").setAttribute(\"content\", settings.featured)\\n      document.getElementById(\"desc\").setAttribute(\"content\", settings.siteDescription)\\n      document.getElementById(\"tdesc\").setAttribute(\"content\", settings.siteDescription)\\n      document.getElementById(\"ogdesc\").setAttribute(\"content\", settings.siteDescription)\\n      document.getElementById(\"ttitle\").setAttribute(\"content\", settings.siteDescription)\\n      document.getElementById(\"ogtitle\").setAttribute(\"content\", settings.siteDescription)\\n      document.getElementById(\"ogurl\").setAttribute(\"content\", settings.url)\\n      document.getElementById(\"url\").setAttribute(\"content\", settings.url)\\n      document.getElementById(\"turl\").setAttribute(\"content\", settings.url)\\n      //images\\n      document.getElementById(\\'appletouch\\').setAttribute(\\'href\\', `/static/img/${settings.sn}/apple-touch-icon.png`)\\n      document.getElementById(\\'appletouch2\\').setAttribute(\\'href\\', `/static/img/${settings.sn}/apple-touch-icon.png`)\\n      document.getElementById(\\'manifest\\').setAttribute(\\'href\\', `/static/img/${settings.sn}/site.webmanifest`)\\n      document.getElementById(\\'safari\\').setAttribute(\\'href\\', `/static/img/${settings.sn}/safari-pinned-tab.svg`)\\n      document.getElementById(\\'config\\').setAttribute(\\'content\\', `/static/img/${settings.sn}/browserconfig.xml`)\\n      document.getElementById(\\'shortcut\\').setAttribute(\\'href\\', `/static/img/${settings.sn}/favicon.png`)\\n      //social\\n      document.getElementById(\\'rss\\').setAttribute(\\'href\\', `http://${settings.shortname}.info/rss/`)\\n      document.getElementById(\\'twitter\\').setAttribute(\\'href\\', `http://twitter.com/${settings.shortname}info`)\\n      document.getElementById(\\'github\\').setAttribute(\\'href\\', `https://github.com/biothings/${settings.shortname}.info`)\\n      document.getElementById(\\'docs\\').setAttribute(\\'href\\', `http:///${settings.shortname}.info/`)\\n      document.getElementById(\\'docs\\').innerHTML = settings.sn\\n\\n    }\\n\\n    setDefaults(window.location.hostname.toLowerCase());\\n    initUI();\\n    setTags();\\n    </script>\\n  </body>\\n</html>\\n')\n",
      "Err Pandas(Index=335, query='/v1/chem/DB00619?fields=chembl.drug_indications', status=200.0, response='[{\"_id\":\"KTUFNOKKBVMGRW-UHFFFAOYSA-N\",\"_version\":1,\"chembl\":{\"_license\":\"http://bit.ly/2KAUCAm\",\"drug_indications\":[{\"efo\":[{\"id\":\"EFO:0000685\",\"term\":\"rheumatoid arthritis\"}],\"first_approval\":2001,\"indication_refs\":[{\"ClinicalTrials\":\"NCT00154336\",\"id\":\"NCT00154336\",\"type\":\"ClinicalTrials\",\"url\":\"https://clinicaltrials.gov/search?term=NCT00154336\"}],\"max_phase_for_ind\":\"2.0\",\"mesh_heading\":\"Arthritis, Rheumatoid\",\"mesh_id\":\"D001172\"},{\"efo\":[{\"id\":\"MONDO:0007254\",\"term\":\"breast cancer\"}],\"first_approval\":2001,\"indication_refs\":[{\"ClinicalTrials\":\"NCT00193180\",\"id\":\"NCT00193180\",\"type\":\"ClinicalTrials\",\"url\":\"https://clinicaltrials.gov/search?term=NCT00193180\"}],\"max_phase_for_ind\":\"2.0\",\"mesh_heading\":\"Breast Neoplasms\",\"mesh_id\":\"D001943\"},{\"efo\":[{\"id\":\"EFO:0000349\",\"term\":\"clear cell renal carcinoma\"}],\"first_approval\":2001,\"indication_refs\":[{\"ClinicalTrials\":\"NCT00193258\",\"id\":\"NCT00193258\",\"type\":\"ClinicalTrials\",\"url\":\"https://clinicaltrials.gov/search?term=NCT00193258\"}],\"max_phase_for_ind\":\"1.0\",\"mesh_heading\":\"Carcinoma, Renal Cell\",\"mesh_id\":\"D002292\"},{\"efo\":[{\"id\":\"EFO:0000181\",\"term\":\"head and neck squamous cell carcinoma\"}],\"first_approval\":2001,\"indication_refs\":[{\"ClinicalTrials\":\"NCT05816785\",\"id\":\"NCT05816785\",\"type\":\"ClinicalTrials\",\"url\":\"https://clinicaltrials.gov/search?term=NCT05816785\"}],\"max_phase_for_ind\":\"0.5\",\"mesh_heading\":\"Carcinoma, Squamous Cell\",\"mesh_id\":\"D002294\"},{\"efo\":[{\"id\":\"MONDO:0008978\",\"term\":\"chordoma\"}],\"first_approval\":2001,\"indication_refs\":[{\"ClinicalTrials\":\"NCT01175109\",\"id\":\"NCT01175109\",\"type\":\"ClinicalTrials\",\"url\":\"https://clinicaltrials.gov/search?id=%22NCT01175109%22\"},{\"ClinicalTrials\":\"NCT00150072\",\"id\":\"NCT00150072\",\"type\":\"ClinicalTrials\",\"url\":\"https://clinicaltrials.gov/search?id=%22NCT00150072%22\"}],\"max_phase_for_ind\":\"2.0\",\"mesh_heading\":\"Chordoma\",\"mesh_id\":\"D002817\"},{\"efo\":[{\"id\":\"EFO:0004288\",\"term\":\"colonic neoplasm\"}],\"first_approval\":2001,\"indication_refs\":[{\"ClinicalTrials\":\"NCT02685046\",\"id\":\"NCT02685046\",\"type\":\"ClinicalTrials\",\"url\":\"https://clinicaltrials.gov/search?term=NCT02685046\"}],\"max_phase_for_ind\":\"2.0\",\"mesh_heading\":\"Colonic Neoplasms\",\"mesh_id\":\"D003110\"},{\"efo\":[{\"id\":\"EFO:0000497\",\"term\":\"fibromatosis\"}],\"first_approval\":2001,\"indication_refs\":[{\"ClinicalTrials\":\"NCT02495519\",\"id\":\"NCT02495519\",\"type\":\"ClinicalTrials\",\"url\":\"https://clinicaltrials.gov/search?term=NCT02495519\"}],\"max_phase_for_ind\":\"2.0\",\"mesh_heading\":\"Fibroma\",\"mesh_id\":\"D005350\"},{\"efo\":[{\"id\":\"EFO:0002087\",\"term\":\"fibrosarcoma\"}],\"first_approval\":2001,\"indication_refs\":[{\"ClinicalTrials\":\"NCT00122473\",\"id\":\"NCT00122473\",\"type\":\"ClinicalTrials\",\"url\":\"https://clinicaltrials.gov/search?term=NCT00122473\"}],\"max_phase_for_ind\":\"1.0\",\"mesh_heading\":\"Fibrosarcoma\",\"mesh_id\":\"D005354\"},{\"efo\":[{\"id\":\"EFO:0000519\",\"term\":\"glioblastoma multiforme\"}],\"first_approval\":2001,\"indication_refs\":[{\"ClinicalTrials\":\"NCT00290771\",\"id\":\"NCT00290771\",\"type\":\"ClinicalTrials\",\"url\":\"https://clinicaltrials.gov/search?term=NCT00290771\"}],\"max_phase_for_ind\":\"2.0\",\"mesh_heading\":\"Glioblastoma\",\"mesh_id\":\"D005909\"},{\"efo\":[{\"id\":\"MONDO:0013730\",\"term\":\"graft versus host disease\"}],\"first_approval\":2001,\"indication_refs\":[{\"ClinicalTrials\":\"NCT00760981\",\"id\":\"NCT00760981\",\"type\":\"ClinicalTrials\",\"url\":\"https://clinicaltrials.gov/search?id=%22NCT00760981%22\"},{\"ClinicalTrials\":\"NCT03112603\",\"id\":\"NCT03112603\",\"type\":\"ClinicalTrials\",\"url\":\"https://clinicaltrials.gov/search?id=%22NCT03112603%22\"}],\"max_phase_for_ind\":\"3.0\",\"mesh_heading\":\"Graft vs Host Disease\",\"mesh_id\":\"D006086\"},{\"efo\":[{\"id\":\"EFO:0003956\",\"term\":\"seasonal allergic rhinitis\"}],\"first_approval\":2001,\"indication_refs\":[{\"ClinicalTrials\":\"NCT00426179\",\"id\":\"NCT00426179\",\"type\":\"ClinicalTrials\",\"url\":\"https://clinicaltrials.gov/search?term=NCT00426179\"}],\"max_phase_for_ind\":\"1.0\",\"mesh_heading\":\"Rhinitis, Allergic, Seasonal\",\"mesh_id\":\"D006255\"},{\"efo\":[{\"id\":\"EFO:0001361\",\"term\":\"pulmonary arterial hypertension\"},{\"id\":\"MONDO:0005149\",\"term\":\"pulmonary hypertension\"}],\"first_approval\":2001,\"indication_refs\":[{\"ClinicalTrials\":\"NCT01392495\",\"id\":\"NCT01392495\",\"type\":\"ClinicalTrials\",\"url\":\"https://clinicaltrials.gov/search?id=%22NCT01392495%22\"},{\"ClinicalTrials\":\"NCT01392469\",\"id\":\"NCT01392469\",\"type\":\"ClinicalTrials\",\"url\":\"https://clinicaltrials.gov/search?id=%22NCT01392469%22\"},{\"ClinicalTrials\":\"NCT01568645\",\"id\":\"NCT01568645\",\"type\":\"ClinicalTrials\",\"url\":\"https://clinicaltrials.gov/search?term=NCT01568645\"},{\"ClinicalTrials\":\"NCT01117987\",\"id\":\"NCT01117987\",\"type\":\"ClinicalTrials\",\"url\":\"https://clinicaltrials.gov/search?id=%22NCT01117987%22\"}],\"max_phase_for_ind\":\"3.0\",\"mesh_heading\":\"Hypertension, Pulmonary\",\"mesh_id\":\"D006976\"},{\"efo\":[{\"id\":\"EFO:0007328\",\"term\":\"influenza\"}],\"first_approval\":2001,\"indication_refs\":[{\"ClinicalTrials\":\"NCT02735707\",\"id\":\"NCT02735707\",\"type\":\"ClinicalTrials\",\"url\":\"https://clinicaltrials.gov/search?term=NCT02735707\"}],\"max_phase_for_ind\":\"3.0\",\"mesh_heading\":\"Influenza, Human\",\"mesh_id\":\"D007251\"},{\"efo\":[{\"id\":\"EFO:0000565\",\"term\":\"leukemia\"}],\"first_approval\":2001,\"indication_refs\":[{\"ClinicalTrials\":\"NCT00982488\",\"id\":\"NCT00982488\",\"type\":\"ClinicalTrials\",\"url\":\"https://clinicaltrials.gov/search?id=%22NCT00982488%22\"},{\"ClinicalTrials\":\"NCT01126814\",\"id\":\"NCT01126814\",\"type\":\"ClinicalTrials\",\"url\":\"https://clinicaltrials.gov/search?id=%22NCT01126814%22\"},{\"ClinicalTrials\":\"NCT00362466\",\"id\":\"NCT00362466\",\"type\":\"ClinicalTrials\",\"url\":\"https://clinicaltrials.gov/search?id=%22NCT00362466%22\"},{\"ClinicalTrials\":\"NCT02272777\",\"id\":\"NCT02272777\",\"type\":\"ClinicalTrials\",\"url\":\"https://clinicaltrials.gov/search?id=%22NCT02272777%22\"},{\"ClinicalTrials\":\"NCT00415857\",\"id\":\"NCT00415857\",\"type\":\"ClinicalTrials\",\"url\":\"https://clinicaltrials.gov/search?id=%22NCT00415857%22\"},{\"ClinicalTrials\":\"NCT01319981\",\"id\":\"NCT01319981\",\"type\":\"ClinicalTrials\",\"url\":\"https://clinicaltrials.gov/search?id=%22NCT01319981%22\"},{\"ClinicalTrials\":\"NCT00250042\",\"id\":\"NCT00250042\",\"type\":\"ClinicalTrials\",\"url\":\"https://clinicaltrials.gov/search?id=%22NCT00250042%22\"}],\"max_phase_for_ind\":\"3.0\",\"mesh_heading\":\"Leukemia\",\"mesh_id\":\"D007938\"},{\"efo\":[{\"id\":\"MONDO:0004643\",\"term\":\"myeloid leukemia\"}],\"first_approval\":2001,\"indication_refs\":[{\"ClinicalTrials\":\"NCT00519090\",\"id\":\"NCT00519090\",\"type\":\"ClinicalTrials\",\"url\":\"https://clinicaltrials.gov/search?term=NCT00519090\"}],\"max_phase_for_ind\":\"3.0\",\"mesh_heading\":\"Leukemia, Myeloid\",\"mesh_id\":\"D007951\"},{\"efo\":[{\"id\":\"EFO:0001422\",\"term\":\"cirrhosis of liver\"}],\"first_approval\":2001,\"indication_refs\":[{\"ClinicalTrials\":\"NCT05224128\",\"id\":\"NCT05224128\",\"type\":\"ClinicalTrials\",\"url\":\"https://clinicaltrials.gov/search?term=NCT05224128\"}],\"max_phase_for_ind\":\"1.0\",\"mesh_heading\":\"Liver Cirrhosis\",\"mesh_id\":\"D008103\"},{\"efo\":[{\"id\":\"MONDO:0008903\",\"term\":\"lung cancer\"}],\"first_approval\":2001,\"indication_refs\":[{\"ClinicalTrials\":\"NCT00193349\",\"id\":\"NCT00193349\",\"type\":\"ClinicalTrials\",\"url\":\"https://clinicaltrials.gov/search?term=NCT00193349\"}],\"max_phase_for_ind\":\"2.0\",\"mesh_heading\":\"Lung Neoplasms\",\"mesh_id\":\"D008175\"},{\"efo\":[{\"id\":\"EFO:0005952\",\"term\":\"non-Hodgkins lymphoma\"}],\"first_approval\":2001,\"indication_refs\":[{\"ClinicalTrials\":\"NCT02431403\",\"id\":\"NCT02431403\",\"type\":\"ClinicalTrials\",\"url\":\"https://clinicaltrials.gov/search?term=NCT02431403\"}],\"max_phase_for_ind\":\"1.0\",\"mesh_heading\":\"Lymphoma, Non-Hodgkin\",\"mesh_id\":\"D008228\"},{\"efo\":[{\"id\":\"EFO:0000756\",\"term\":\"melanoma\"},{\"id\":\"EFO:0002617\",\"term\":\"metastatic melanoma\"}],\"first_approval\":2001,\"indication_refs\":[{\"ClinicalTrials\":\"NCT00881049\",\"id\":\"NCT00881049\",\"type\":\"ClinicalTrials\",\"url\":\"https://clinicaltrials.gov/search?id=%22NCT00881049%22\"},{\"ClinicalTrials\":\"NCT00421317\",\"id\":\"NCT00421317\",\"type\":\"ClinicalTrials\",\"url\":\"https://clinicaltrials.gov/search?id=%22NCT00421317%22\"},{\"ClinicalTrials\":\"NCT01782508\",\"id\":\"NCT01782508\",\"type\":\"ClinicalTrials\",\"url\":\"https://clinicaltrials.gov/search?id=%22NCT01782508%22\"},{\"ClinicalTrials\":\"NCT04598009\",\"id\":\"NCT04598009\",\"type\":\"ClinicalTrials\",\"url\":\"https://clinicaltrials.gov/search?id=%22NCT04598009%22\"},{\"ClinicalTrials\":\"NCT00402662\",\"id\":\"NCT00402662\",\"type\":\"ClinicalTrials\",\"url\":\"https://clinicaltrials.gov/search?id=%22NCT00402662%22\"}],\"max_phase_for_ind\":\"2.0\",\"mesh_heading\":\"Melanoma\",\"mesh_id\":\"D008545\"},{\"efo\":[{\"id\":\"MONDO:0004992\",\"term\":\"cancer\"},{\"id\":\"EFO:0000616\",\"term\":\"neoplasm\"}],\"first_approval\":2001,\"indication_refs\":[{\"ClinicalTrials\":\"NCT00390156\",\"id\":\"NCT00390156\",\"type\":\"ClinicalTrials\",\"url\":\"https://clinicaltrials.gov/search?id=%22NCT00390156%22\"},{\"ClinicalTrials\":\"NCT04423185\",\"id\":\"NCT04423185\",\"type\":\"ClinicalTrials\",\"url\":\"https://clinicaltrials.gov/search?id=%22NCT04423185%22\"},{\"ClinicalTrials\":\"NCT01771458\",\"id\":\"NCT01771458\",\"type\":\"ClinicalTrials\",\"url\":\"https://clinicaltrials.gov/search?id=%22NCT01771458%22\"},{\"ClinicalTrials\":\"NCT02461849\",\"id\":\"NCT02461849\",\"type\":\"ClinicalTrials\",\"url\":\"https://clinicaltrials.gov/search?id=%22NCT02461849%22\"},{\"ClinicalTrials\":\"NCT00611689\",\"id\":\"NCT00611689\",\"type\":\"ClinicalTrials\",\"url\":\"https://clinicaltrials.gov/search?id=%22NCT00611689%22\"},{\"ATC\":\"L01EA01\",\"id\":\"L01EA01\",\"type\":\"ATC\",\"url\":\"https://www.whocc.no/atc_ddd_index/?code=L01EA01\"}],\"max_phase_for_ind\":\"2.0\",\"mesh_heading\":\"Neoplasms\",\"mesh_id\":\"D009369\"},{\"efo\":[{\"id\":\"EFO:1000359\",\"term\":\"Malignant Pancreatic Neoplasm\"}],\"first_approval\":2001,\"indication_refs\":[{\"ClinicalTrials\":\"NCT01048320\",\"id\":\"NCT01048320\",\"type\":\"ClinicalTrials\",\"url\":\"https://clinicaltrials.gov/search?term=NCT01048320\"}],\"max_phase_for_ind\":\"1.0\",\"mesh_heading\":\"Pancreatic Neoplasms\",\"mesh_id\":\"D010190\"},{\"efo\":[{\"id\":\"EFO:0003106\",\"term\":\"pneumonia\"}],\"first_approval\":2001,\"indication_refs\":[{\"ClinicalTrials\":\"NCT02735707\",\"id\":\"NCT02735707\",\"type\":\"ClinicalTrials\",\"url\":\"https://clinicaltrials.gov/search?term=NCT02735707\"}],\"max_phase_for_ind\":\"3.0\",\"mesh_heading\":\"Pneumonia\",\"mesh_id\":\"D011014\"},{\"efo\":[{\"id\":\"EFO:0000691\",\"term\":\"sarcoma\"}],\"first_approval\":2001,\"indication_refs\":[{\"ClinicalTrials\":\"NCT02413736\",\"id\":\"NCT02413736\",\"type\":\"ClinicalTrials\",\"url\":\"https://clinicaltrials.gov/search?id=%22NCT02413736%22\"},{\"ClinicalTrials\":\"NCT00116935\",\"id\":\"NCT00116935\",\"type\":\"ClinicalTrials\",\"url\":\"https://clinicaltrials.gov/search?id=%22NCT00116935%22\"}],\"max_phase_for_ind\":\"3.0\",\"mesh_heading\":\"Sarcoma\",\"mesh_id\":\"D012509\"},{\"efo\":[{\"id\":\"EFO:0000717\",\"term\":\"systemic scleroderma\"}],\"first_approval\":2001,\"indication_refs\":[{\"ClinicalTrials\":\"NCT00573326\",\"id\":\"NCT00573326\",\"type\":\"ClinicalTrials\",\"url\":\"https://clinicaltrials.gov/search?term=NCT00573326\"}],\"max_phase_for_ind\":\"2.0\",\"mesh_heading\":\"Scleroderma, Systemic\",\"mesh_id\":\"D012595\"},{\"efo\":[{\"id\":\"EFO:1001919\",\"term\":\"Spinal cord injury\"}],\"first_approval\":2001,\"indication_refs\":[{\"ClinicalTrials\":\"NCT02363361\",\"id\":\"NCT02363361\",\"type\":\"ClinicalTrials\",\"url\":\"https://clinicaltrials.gov/search?term=NCT02363361\"}],\"max_phase_for_ind\":\"2.0\",\"mesh_heading\":\"Spinal Cord Injuries\",\"mesh_id\":\"D013119\"},{\"efo\":[{\"id\":\"EFO:0000503\",\"term\":\"gastric adenocarcinoma\"},{\"id\":\"EFO:0003897\",\"term\":\"stomach neoplasm\"}],\"first_approval\":2001,\"indication_refs\":[{\"ClinicalTrials\":\"NCT03170180\",\"id\":\"NCT03170180\",\"type\":\"ClinicalTrials\",\"url\":\"https://clinicaltrials.gov/search?term=NCT03170180\"},{\"ClinicalTrials\":\"NCT00209079\",\"id\":\"NCT00209079\",\"type\":\"ClinicalTrials\",\"url\":\"https://clinicaltrials.gov/search?term=NCT00209079\"}],\"max_phase_for_ind\":\"2.0\",\"mesh_heading\":\"Stomach Neoplasms\",\"mesh_id\":\"D013274\"},{\"efo\":[{\"id\":\"EFO:1000576\",\"term\":\"Thymic Carcinoma\"}],\"first_approval\":2001,\"indication_refs\":[{\"ClinicalTrials\":\"NCT00314873\",\"id\":\"NCT00314873\",\"type\":\"ClinicalTrials\",\"url\":\"https://clinicaltrials.gov/search?term=NCT00314873\"}],\"max_phase_for_ind\":\"1.0\",\"mesh_heading\":\"Thymoma\",\"mesh_id\":\"D013945\"},{\"efo\":[{\"id\":\"EFO:0000641\",\"term\":\"papillary thyroid carcinoma\"},{\"id\":\"MONDO:0002108\",\"term\":\"thyroid cancer\"}],\"first_approval\":2001,\"indication_refs\":[{\"ClinicalTrials\":\"NCT03469011\",\"id\":\"NCT03469011\",\"type\":\"ClinicalTrials\",\"url\":\"https://clinicaltrials.gov/search?term=NCT03469011\"},{\"ClinicalTrials\":\"NCT00115739\",\"id\":\"NCT00115739\",\"type\":\"ClinicalTrials\",\"url\":\"https://clinicaltrials.gov/search?term=NCT00115739\"}],\"max_phase_for_ind\":\"2.0\",\"mesh_heading\":\"Thyroid Neoplasms\",\"mesh_id\":\"D013964\"},{\"efo\":[{\"id\":\"MONDO:0018076\",\"term\":\"tuberculosis\"}],\"first_approval\":2001,\"indication_refs\":[{\"ClinicalTrials\":\"NCT03891901\",\"id\":\"NCT03891901\",\"type\":\"ClinicalTrials\",\"url\":\"https://clinicaltrials.gov/search?term=NCT03891901\"}],\"max_phase_for_ind\":\"2.0\",\"mesh_heading\":\"Tuberculosis\",\"mesh_id\":\"D014376\"},{\"efo\":[{\"id\":\"EFO:0000365\",\"term\":\"colorectal adenocarcinoma\"},{\"id\":\"EFO:0005842\",\"term\":\"colorectal cancer\"}],\"first_approval\":2001,\"indication_refs\":[{\"ClinicalTrials\":\"NCT00784446\",\"id\":\"NCT00784446\",\"type\":\"ClinicalTrials\",\"url\":\"https://clinicaltrials.gov/search?term=NCT00784446\"},{\"ClinicalTrials\":\"NCT01271166\",\"id\":\"NCT01271166\",\"type\":\"ClinicalTrials\",\"url\":\"https://clinicaltrials.gov/search?term=NCT01271166\"}],\"max_phase_for_ind\":\"1.0\",\"mesh_heading\":\"Colorectal Neoplasms\",\"mesh_id\":\"D015179\"},{\"efo\":[{\"id\":\"EFO:0000339\",\"term\":\"chronic myelogenous leukemia\"}],\"first_approval\":2001,\"indication_refs\":[{\"ClinicalTrials\":\"NCT00471497\",\"id\":\"NCT00471497\",\"type\":\"ClinicalTrials\",\"url\":\"https://clinicaltrials.gov/search?id=%22NCT00471497%22\"},{\"ClinicalTrials\":\"NCT02174445\",\"id\":\"NCT02174445\",\"type\":\"ClinicalTrials\",\"url\":\"https://clinicaltrials.gov/search?id=%22NCT02174445%22\"},{\"ClinicalTrials\":\"NCT00320190\",\"id\":\"NCT00320190\",\"type\":\"ClinicalTrials\",\"url\":\"https://clinicaltrials.gov/search?id=%22NCT00320190%22\"},{\"ClinicalTrials\":\"NCT04971226\",\"id\":\"NCT04971226\",\"type\":\"ClinicalTrials\",\"url\":\"https://clinicaltrials.gov/search?id=%22NCT04971226%22\"},{\"ClinicalTrials\":\"NCT01795716\",\"id\":\"NCT01795716\",\"type\":\"ClinicalTrials\",\"url\":\"https://clinicaltrials.gov/search?id=%22NCT01795716%22\"},{\"ClinicalTrials\":\"NCT01503502\",\"id\":\"NCT01503502\",\"type\":\"ClinicalTrials\",\"url\":\"https://clinicaltrials.gov/search?id=%22NCT01503502%22\"},{\"ClinicalTrials\":\"NCT02269267\",\"id\":\"NCT02269267\",\"type\":\"ClinicalTrials\",\"url\":\"https://clinicaltrials.gov/search?id=%22NCT02269267%22\"},{\"ClinicalTrials\":\"NCT02130557\",\"id\":\"NCT02130557\",\"type\":\"ClinicalTrials\",\"url\":\"https://clinicaltrials.gov/search?id=%22NCT02130557%22\"},{\"ClinicalTrials\":\"NCT03906292\",\"id\":\"NCT03906292\",\"type\":\"ClinicalTrials\",\"url\":\"https://clinicaltrials.gov/search?id=%22NCT03906292%22\"},{\"ClinicalTrials\":\"NCT00428909\",\"id\":\"NCT00428909\",\"type\":\"ClinicalTrials\",\"url\":\"https://clinicaltrials.gov/search?id=%22NCT00428909%22\"},{\"ClinicalTrials\":\"NCT00481247\",\"id\":\"NCT00481247\",\"type\":\"ClinicalTrials\",\"url\":\"https://clinicaltrials.gov/search?id=%22NCT00481247%22\"},{\"ClinicalTrials\":\"NCT01188889\",\"id\":\"NCT01188889\",\"type\":\"ClinicalTrials\",\"url\":\"https://clinicaltrials.gov/search?id=%22NCT01188889%22\"},{\"ClinicalTrials\":\"NCT03654768\",\"id\":\"NCT03654768\",\"type\":\"ClinicalTrials\",\"url\":\"https://clinicaltrials.gov/search?id=%22NCT03654768%22\"},{\"ClinicalTrials\":\"NCT00510926\",\"id\":\"NCT00510926\",\"type\":\"ClinicalTrials\",\"url\":\"https://clinicaltrials.gov/search?id=%22NCT00510926%22\"},{\"ClinicalTrials\":\"NCT03193281\",\"id\":\"NCT03193281\",\"type\":\"ClinicalTrials\",\"url\":\"https://clinicaltrials.gov/search?id=%22NCT03193281%22\"},{\"ClinicalTrials\":\"NCT04070443\",\"id\":\"NCT04070443\",\"type\":\"ClinicalTrials\",\"url\":\"https://clinicaltrials.gov/search?id=%22NCT04070443%22\"},{\"ClinicalTrials\":\"NCT01804985\",\"id\":\"NCT01804985\",\"type\":\"ClinicalTrials\",\"url\":\"https://clinicaltrials.gov/search?id=%22NCT01804985%22\"},{\"ClinicalTrials\":\"NCT00718263\",\"id\":\"NCT00718263\",\"type\":\"ClinicalTrials\",\"url\":\"https://clinicaltrials.gov/search?id=%22NCT00718263%22\"},{\"ClinicalTrials\":\"NCT04877522\",\"id\":\"NCT04877522\",\"type\":\"ClinicalTrials\",\"url\":\"https://clinicaltrials.gov/search?id=%22NCT04877522%22\"},{\"ClinicalTrials\":\"NCT00858806\",\"id\":\"NCT00858806\",\"type\":\"ClinicalTrials\",\"url\":\"https://clinicaltrials.gov/search?id=%22NCT00858806%22\"},{\"ClinicalTrials\":\"NCT02480608\",\"id\":\"NCT02480608\",\"type\":\"ClinicalTrials\",\"url\":\"https://clinicaltrials.gov/search?id=%22NCT02480608%22\"},{\"ClinicalTrials\":\"NCT01275196\",\"id\":\"NCT01275196\",\"type\":\"ClinicalTrials\",\"url\":\"https://clinicaltrials.gov/search?id=%22NCT01275196%22\"},{\"ClinicalTrials\":\"NCT00103844\",\"id\":\"NCT00103844\",\"type\":\"ClinicalTrials\",\"url\":\"https://clinicaltrials.gov/search?id=%22NCT00103844%22\"},{\"ClinicalTrials\":\"NCT01216085\",\"id\":\"NCT01216085\",\"type\":\"ClinicalTrials\",\"url\":\"https://clinicaltrials.gov/search?id=%22NCT01216085%22\"},{\"ClinicalTrials\":\"NCT00514969\",\"id\":\"NCT00514969\",\"type\":\"ClinicalTrials\",\"url\":\"https://clinicaltrials.gov/search?id=%22NCT00514969%22\"},{\"ClinicalTrials\":\"NCT01819389\",\"id\":\"NCT01819389\",\"type\":\"ClinicalTrials\",\"url\":\"https://clinicaltrials.gov/search?id=%22NCT01819389%22\"},{\"ClinicalTrials\":\"NCT01011998\",\"id\":\"NCT01011998\",\"type\":\"ClinicalTrials\",\"url\":\"https://clinicaltrials.gov/search?id=%22NCT01011998%22\"},{\"ClinicalTrials\":\"NCT04147533\",\"id\":\"NCT04147533\",\"type\":\"ClinicalTrials\",\"url\":\"https://clinicaltrials.gov/search?id=%22NCT04147533%22\"},{\"ClinicalTrials\":\"NCT00324077\",\"id\":\"NCT00324077\",\"type\":\"ClinicalTrials\",\"url\":\"https://clinicaltrials.gov/search?id=%22NCT00324077%22\"},{\"ClinicalTrials\":\"NCT00327262\",\"id\":\"NCT00327262\",\"type\":\"ClinicalTrials\",\"url\":\"https://clinicaltrials.gov/search?id=%22NCT00327262%22\"},{\"ClinicalTrials\":\"NCT02326311\",\"id\":\"NCT02326311\",\"type\":\"ClinicalTrials\",\"url\":\"https://clinicaltrials.gov/search?id=%22NCT02326311%22\"},{\"ClinicalTrials\":\"NCT02204644\",\"id\":\"NCT02204644\",\"type\":\"ClinicalTrials\",\"url\":\"https://clinicaltrials.gov/search?id=%22NCT02204644%22\"},{\"ClinicalTrials\":\"NCT00760877\",\"id\":\"NCT00760877\",\"type\":\"ClinicalTrials\",\"url\":\"https://clinicaltrials.gov/search?id=%22NCT00760877%22\"},{\"ClinicalTrials\":\"NCT00237120\",\"id\":\"NCT00237120\",\"type\":\"ClinicalTrials\",\"url\":\"https://clinicaltrials.gov/search?id=%22NCT00237120%22\"},{\"ClinicalTrials\":\"NCT01593254\",\"id\":\"NCT01593254\",\"type\":\"ClinicalTrials\",\"url\":\"https://clinicaltrials.gov/search?id=%22NCT01593254%22\"},{\"ClinicalTrials\":\"NCT00852566\",\"id\":\"NCT00852566\",\"type\":\"ClinicalTrials\",\"url\":\"https://clinicaltrials.gov/search?id=%22NCT00852566%22\"},{\"ClinicalTrials\":\"NCT00219739\",\"id\":\"NCT00219739\",\"type\":\"ClinicalTrials\",\"url\":\"https://clinicaltrials.gov/search?id=%22NCT00219739%22\"},{\"ClinicalTrials\":\"NCT00802841\",\"id\":\"NCT00802841\",\"type\":\"ClinicalTrials\",\"url\":\"https://clinicaltrials.gov/search?id=%22NCT00802841%22\"},{\"ClinicalTrials\":\"NCT04126681\",\"id\":\"NCT04126681\",\"type\":\"ClinicalTrials\",\"url\":\"https://clinicaltrials.gov/search?id=%22NCT04126681%22\"},{\"ClinicalTrials\":\"NCT01650805\",\"id\":\"NCT01650805\",\"type\":\"ClinicalTrials\",\"url\":\"https://clinicaltrials.gov/search?id=%22NCT01650805%22\"},{\"ClinicalTrials\":\"NCT03228303\",\"id\":\"NCT03228303\",\"type\":\"ClinicalTrials\",\"url\":\"https://clinicaltrials.gov/search?id=%22NCT03228303%22\"},{\"ClinicalTrials\":\"NCT04578847\",\"id\":\"NCT04578847\",\"type\":\"ClinicalTrials\",\"url\":\"https://clinicaltrials.gov/search?id=%22NCT04578847%22\"},{\"ClinicalTrials\":\"NCT02081378\",\"id\":\"NCT02081378\",\"type\":\"ClinicalTrials\",\"url\":\"https://clinicaltrials.gov/search?id=%22NCT02081378%22\"},{\"ClinicalTrials\":\"NCT00297570\",\"id\":\"NCT00297570\",\"type\":\"ClinicalTrials\",\"url\":\"https://clinicaltrials.gov/search?id=%22NCT00297570%22\"},{\"ClinicalTrials\":\"NCT00574873\",\"id\":\"NCT00574873\",\"type\":\"ClinicalTrials\",\"url\":\"https://clinicaltrials.gov/search?id=%22NCT00574873%22\"},{\"ClinicalTrials\":\"NCT01460693\",\"id\":\"NCT01460693\",\"type\":\"ClinicalTrials\",\"url\":\"https://clinicaltrials.gov/search?id=%22NCT01460693%22\"},{\"ClinicalTrials\":\"NCT03722420\",\"id\":\"NCT03722420\",\"type\":\"ClinicalTrials\",\"url\":\"https://clinicaltrials.gov/search?id=%22NCT03722420%22\"},{\"ClinicalTrials\":\"NCT04838041\",\"id\":\"NCT04838041\",\"type\":\"ClinicalTrials\",\"url\":\"https://clinicaltrials.gov/search?id=%22NCT04838041%22\"},{\"ClinicalTrials\":\"NCT03515018\",\"id\":\"NCT03515018\",\"type\":\"ClinicalTrials\",\"url\":\"https://clinicaltrials.gov/search?id=%22NCT03515018%22\"},{\"ClinicalTrials\":\"NCT02001818\",\"id\":\"NCT02001818\",\"type\":\"ClinicalTrials\",\"url\":\"https://clinicaltrials.gov/search?id=%22NCT02001818%22\"},{\"ClinicalTrials\":\"NCT05413915\",\"id\":\"NCT05413915\",\"type\":\"ClinicalTrials\",\"url\":\"https://clinicaltrials.gov/search?id=%22NCT05413915%22\"},{\"ClinicalTrials\":\"NCT00333840\",\"id\":\"NCT00333840\",\"type\":\"ClinicalTrials\",\"url\":\"https://clinicaltrials.gov/search?id=%22NCT00333840%22\"},{\"ClinicalTrials\":\"NCT01400074\",\"id\":\"NCT01400074\",\"type\":\"ClinicalTrials\",\"url\":\"https://clinicaltrials.gov/search?id=%22NCT01400074%22\"}],\"max_phase_for_ind\":\"3.0\",\"mesh_heading\":\"Leukemia, Myelogenous, Chronic, BCR-ABL Positive\",\"mesh_id\":\"D015464\"},{\"efo\":[{\"id\":\"EFO:0000222\",\"term\":\"acute myeloid leukemia\"}],\"first_approval\":2001,\"indication_refs\":[{\"ClinicalTrials\":\"NCT02638428\",\"id\":\"NCT02638428\",\"type\":\"ClinicalTrials\",\"url\":\"https://clinicaltrials.gov/search?id=%22NCT02638428%22\"},{\"ClinicalTrials\":\"NCT00707408\",\"id\":\"NCT00707408\",\"type\":\"ClinicalTrials\",\"url\":\"https://clinicaltrials.gov/search?id=%22NCT00707408%22\"}],\"max_phase_for_ind\":\"2.0\",\"mesh_heading\":\"Leukemia, Myeloid, Acute\",\"mesh_id\":\"D015470\"},{\"efo\":[{\"id\":\"EFO:0007444\",\"term\":\"Plasmodium falciparum malaria\"}],\"first_approval\":2001,\"indication_refs\":[{\"ClinicalTrials\":\"NCT03697668\",\"id\":\"NCT03697668\",\"type\":\"ClinicalTrials\",\"url\":\"https://clinicaltrials.gov/search?id=%22NCT03697668%22\"},{\"ClinicalTrials\":\"NCT02614404\",\"id\":\"NCT02614404\",\"type\":\"ClinicalTrials\",\"url\":\"https://clinicaltrials.gov/search?id=%22NCT02614404%22\"}],\"max_phase_for_ind\":\"2.0\",\"mesh_heading\":\"Malaria, Falciparum\",\"mesh_id\":\"D016778\"},{\"efo\":[{\"id\":\"EFO:1001467\",\"term\":\"Hypereosinophilic syndrome\"}],\"first_approval\":2001,\"indication_refs\":[{\"ClinicalTrials\":\"NCT00044304\",\"id\":\"NCT00044304\",\"type\":\"ClinicalTrials\",\"url\":\"https://clinicaltrials.gov/search?term=NCT00044304\"}],\"max_phase_for_ind\":\"2.0\",\"mesh_heading\":\"Hypereosinophilic Syndrome\",\"mesh_id\":\"D017681\"},{\"efo\":[{\"id\":\"EFO:0003032\",\"term\":\"anaplastic large cell lymphoma\"}],\"first_approval\":2001,\"indication_refs\":[{\"ClinicalTrials\":\"NCT02462538\",\"id\":\"NCT02462538\",\"type\":\"ClinicalTrials\",\"url\":\"https://clinicaltrials.gov/search?term=NCT02462538\"}],\"max_phase_for_ind\":\"1.0\",\"mesh_heading\":\"Lymphoma, Large-Cell, Anaplastic\",\"mesh_id\":\"D017728\"},{\"efo\":[{\"id\":\"EFO:0009907\",\"term\":\"Desmoid-type fibromatosis\"}],\"first_approval\":2001,\"indication_refs\":[{\"ClinicalTrials\":\"NCT01137916\",\"id\":\"NCT01137916\",\"type\":\"ClinicalTrials\",\"url\":\"https://clinicaltrials.gov/search?id=%22NCT01137916%22\"},{\"ClinicalTrials\":\"NCT03802084\",\"id\":\"NCT03802084\",\"type\":\"ClinicalTrials\",\"url\":\"https://clinicaltrials.gov/search?id=%22NCT03802084%22\"}],\"max_phase_for_ind\":\"2.0\",\"mesh_heading\":\"Fibromatosis, Aggressive\",\"mesh_id\":\"D018222\"},{\"efo\":[{\"id\":\"MONDO:0044881\",\"term\":\"hematopoietic and lymphoid cell neoplasm\"}],\"first_approval\":2001,\"indication_refs\":[{\"ClinicalTrials\":\"NCT02352558\",\"id\":\"NCT02352558\",\"type\":\"ClinicalTrials\",\"url\":\"https://clinicaltrials.gov/search?term=NCT02352558\"}],\"max_phase_for_ind\":\"1.0\",\"mesh_heading\":\"Hematologic Neoplasms\",\"mesh_id\":\"D019337\"},{\"efo\":[{\"id\":\"EFO:0000712\",\"term\":\"stroke\"}],\"first_approval\":2001,\"indication_refs\":[{\"ClinicalTrials\":\"NCT03639922\",\"id\":\"NCT03639922\",\"type\":\"ClinicalTrials\",\"url\":\"https://clinicaltrials.gov/search?term=NCT03639922\"}],\"max_phase_for_ind\":\"3.0\",\"mesh_heading\":\"Stroke\",\"mesh_id\":\"D020521\"},{\"efo\":[{\"id\":\"MONDO:0100096\",\"term\":\"COVID-19\"}],\"first_approval\":2001,\"indication_refs\":[{\"ClinicalTrials\":\"NCT04394416\",\"id\":\"NCT04394416\",\"type\":\"ClinicalTrials\",\"url\":\"https://clinicaltrials.gov/search?id=%22NCT04394416%22\"},{\"ClinicalTrials\":\"NCT04346147\",\"id\":\"NCT04346147\",\"type\":\"ClinicalTrials\",\"url\":\"https://clinicaltrials.gov/search?id=%22NCT04346147%22\"},{\"ClinicalTrials\":\"NCT02735707\",\"id\":\"NCT02735707\",\"type\":\"ClinicalTrials\",\"url\":\"https://clinicaltrials.gov/search?id=%22NCT02735707%22\"},{\"ClinicalTrials\":\"NCT04330690\",\"id\":\"NCT04330690\",\"type\":\"ClinicalTrials\",\"url\":\"https://clinicaltrials.gov/search?id=%22NCT04330690%22\"}],\"max_phase_for_ind\":\"3.0\",\"mesh_heading\":\"Severe Acute Respiratory Syndrome\",\"mesh_id\":\"D045169\"},{\"efo\":[{\"id\":\"MONDO:0011719\",\"term\":\"gastrointestinal stromal tumor\"}],\"first_approval\":2001,\"indication_refs\":[{\"ClinicalTrials\":\"NCT05245968\",\"id\":\"NCT05245968\",\"type\":\"ClinicalTrials\",\"url\":\"https://clinicaltrials.gov/search?id=%22NCT05245968%22\"},{\"ClinicalTrials\":\"NCT01275222\",\"id\":\"NCT01275222\",\"type\":\"ClinicalTrials\",\"url\":\"https://clinicaltrials.gov/search?id=%22NCT01275222%22\"},{\"ClinicalTrials\":\"NCT00441155\",\"id\":\"NCT00441155\",\"type\":\"ClinicalTrials\",\"url\":\"https://clinicaltrials.gov/search?id=%22NCT00441155%22\"},{\"ClinicalTrials\":\"NCT02365441\",\"id\":\"NCT02365441\",\"type\":\"ClinicalTrials\",\"url\":\"https://clinicaltrials.gov/search?id=%22NCT02365441%22\"},{\"ClinicalTrials\":\"NCT00940563\",\"id\":\"NCT00940563\",\"type\":\"ClinicalTrials\",\"url\":\"https://clinicaltrials.gov/search?id=%22NCT00940563%22\"},{\"ClinicalTrials\":\"NCT01294202\",\"id\":\"NCT01294202\",\"type\":\"ClinicalTrials\",\"url\":\"https://clinicaltrials.gov/search?id=%22NCT01294202%22\"},{\"ClinicalTrials\":\"NCT05009927\",\"id\":\"NCT05009927\",\"type\":\"ClinicalTrials\",\"url\":\"https://clinicaltrials.gov/search?id=%22NCT05009927%22\"},{\"ClinicalTrials\":\"NCT01541709\",\"id\":\"NCT01541709\",\"type\":\"ClinicalTrials\",\"url\":\"https://clinicaltrials.gov/search?id=%22NCT01541709%22\"},{\"ClinicalTrials\":\"NCT05493215\",\"id\":\"NCT05493215\",\"type\":\"ClinicalTrials\",\"url\":\"https://clinicaltrials.gov/search?id=%22NCT05493215%22\"},{\"ClinicalTrials\":\"NCT01151852\",\"id\":\"NCT01151852\",\"type\":\"ClinicalTrials\",\"url\":\"https://clinicaltrials.gov/search?id=%22NCT01151852%22\"},{\"ClinicalTrials\":\"NCT02268435\",\"id\":\"NCT02268435\",\"type\":\"ClinicalTrials\",\"url\":\"https://clinicaltrials.gov/search?id=%22NCT02268435%22\"},{\"ClinicalTrials\":\"NCT03609424\",\"id\":\"NCT03609424\",\"type\":\"ClinicalTrials\",\"url\":\"https://clinicaltrials.gov/search?id=%22NCT03609424%22\"},{\"ClinicalTrials\":\"NCT04933669\",\"id\":\"NCT04933669\",\"type\":\"ClinicalTrials\",\"url\":\"https://clinicaltrials.gov/search?id=%22NCT04933669%22\"},{\"ClinicalTrials\":\"NCT00785785\",\"id\":\"NCT00785785\",\"type\":\"ClinicalTrials\",\"url\":\"https://clinicaltrials.gov/search?id=%22NCT00785785%22\"},{\"ClinicalTrials\":\"NCT02260505\",\"id\":\"NCT02260505\",\"type\":\"ClinicalTrials\",\"url\":\"https://clinicaltrials.gov/search?id=%22NCT02260505%22\"},{\"ClinicalTrials\":\"NCT05152472\",\"id\":\"NCT05152472\",\"type\":\"ClinicalTrials\",\"url\":\"https://clinicaltrials.gov/search?id=%22NCT05152472%22\"},{\"ClinicalTrials\":\"NCT00751036\",\"id\":\"NCT00751036\",\"type\":\"ClinicalTrials\",\"url\":\"https://clinicaltrials.gov/search?id=%22NCT00751036%22\"},{\"ClinicalTrials\":\"NCT00812240\",\"id\":\"NCT00812240\",\"type\":\"ClinicalTrials\",\"url\":\"https://clinicaltrials.gov/search?id=%22NCT00812240%22\"}],\"max_phase_for_ind\":\"3.0\",\"mesh_heading\":\"Gastrointestinal Stromal Tumors\",\"mesh_id\":\"D046152\"},{\"efo\":[{\"id\":\"EFO:0000220\",\"term\":\"acute lymphoblastic leukemia\"},{\"id\":\"MONDO:0000873\",\"term\":\"lymphoblastic lymphoma\"}],\"first_approval\":2001,\"indication_refs\":[{\"ClinicalTrials\":\"NCT03589326\",\"id\":\"NCT03589326\",\"type\":\"ClinicalTrials\",\"url\":\"https://clinicaltrials.gov/search?id=%22NCT03589326%22\"},{\"ClinicalTrials\":\"NCT00376467\",\"id\":\"NCT00376467\",\"type\":\"ClinicalTrials\",\"url\":\"https://clinicaltrials.gov/search?id=%22NCT00376467%22\"},{\"ClinicalTrials\":\"NCT04722848\",\"id\":\"NCT04722848\",\"type\":\"ClinicalTrials\",\"url\":\"https://clinicaltrials.gov/search?id=%22NCT04722848%22\"},{\"ClinicalTrials\":\"NCT00973752\",\"id\":\"NCT00973752\",\"type\":\"ClinicalTrials\",\"url\":\"https://clinicaltrials.gov/search?id=%22NCT00973752%22\"},{\"ClinicalTrials\":\"NCT04688983\",\"id\":\"NCT04688983\",\"type\":\"ClinicalTrials\",\"url\":\"https://clinicaltrials.gov/search?id=%22NCT04688983%22\"},{\"ClinicalTrials\":\"NCT02081378\",\"id\":\"NCT02081378\",\"type\":\"ClinicalTrials\",\"url\":\"https://clinicaltrials.gov/search?id=%22NCT02081378%22\"},{\"ClinicalTrials\":\"NCT00137111\",\"id\":\"NCT00137111\",\"type\":\"ClinicalTrials\",\"url\":\"https://clinicaltrials.gov/search?id=%22NCT00137111%22\"},{\"ClinicalTrials\":\"NCT00149136\",\"id\":\"NCT00149136\",\"type\":\"ClinicalTrials\",\"url\":\"https://clinicaltrials.gov/search?id=%22NCT00149136%22\"},{\"ClinicalTrials\":\"NCT02881086\",\"id\":\"NCT02881086\",\"type\":\"ClinicalTrials\",\"url\":\"https://clinicaltrials.gov/search?term=NCT02881086\"},{\"ClinicalTrials\":\"NCT02881086\",\"id\":\"NCT02881086\",\"type\":\"ClinicalTrials\",\"url\":\"https://clinicaltrials.gov/search?id=%22NCT02881086%22\"},{\"ClinicalTrials\":\"NCT00476190\",\"id\":\"NCT00476190\",\"type\":\"ClinicalTrials\",\"url\":\"https://clinicaltrials.gov/search?id=%22NCT00476190%22\"},{\"ClinicalTrials\":\"NCT00287105\",\"id\":\"NCT00287105\",\"type\":\"ClinicalTrials\",\"url\":\"https://clinicaltrials.gov/search?id=%22NCT00287105%22\"},{\"ClinicalTrials\":\"NCT00130195\",\"id\":\"NCT00130195\",\"type\":\"ClinicalTrials\",\"url\":\"https://clinicaltrials.gov/search?id=%22NCT00130195%22\"},{\"ClinicalTrials\":\"NCT04307576\",\"id\":\"NCT04307576\",\"type\":\"ClinicalTrials\",\"url\":\"https://clinicaltrials.gov/search?id=%22NCT04307576%22\"}],\"max_phase_for_ind\":\"3.0\",\"mesh_heading\":\"Precursor Cell Lymphoblastic Leukemia-Lymphoma\",\"mesh_id\":\"D054198\"},{\"efo\":[{\"id\":\"EFO:0004610\",\"term\":\"acute lung injury\"}],\"first_approval\":2001,\"indication_refs\":[{\"ClinicalTrials\":\"NCT03328117\",\"id\":\"NCT03328117\",\"type\":\"ClinicalTrials\",\"url\":\"https://clinicaltrials.gov/search?term=NCT03328117\"}],\"max_phase_for_ind\":\"1.0\",\"mesh_heading\":\"Acute Lung Injury\",\"mesh_id\":\"D055371\"},{\"efo\":[{\"id\":\"EFO:1000895\",\"term\":\"desmoplastic small round cell tumor\"}],\"first_approval\":2001,\"indication_refs\":[{\"ClinicalTrials\":\"NCT00417807\",\"id\":\"NCT00417807\",\"type\":\"ClinicalTrials\",\"url\":\"https://clinicaltrials.gov/search?term=NCT00417807\"}],\"max_phase_for_ind\":\"1.0\",\"mesh_heading\":\"Desmoplastic Small Round Cell Tumor\",\"mesh_id\":\"D058405\"}]}},{\"_id\":\"YLMAHDNUQAMNNX-UHFFFAOYSA-N\",\"_version\":1,\"chembl\":{\"_license\":\"http://bit.ly/2KAUCAm\",\"drug_indications\":[{\"efo\":[{\"id\":\"MONDO:0018364\",\"term\":\"malignant epithelial tumor of ovary\"}],\"first_approval\":2001,\"indication_refs\":[{\"ClinicalTrials\":\"NCT00036751\",\"id\":\"NCT00036751\",\"type\":\"ClinicalTrials\",\"url\":\"https://clinicaltrials.gov/search?term=NCT00036751\"}],\"max_phase_for_ind\":\"2.0\",\"mesh_heading\":\"Carcinoma, Ovarian Epithelial\",\"mesh_id\":\"D000077216\"},{\"efo\":[{\"id\":\"MONDO:0020547\",\"term\":\"chronic graft versus host disease\"}],\"first_approval\":2001,\"indication_refs\":[{\"ClinicalTrials\":\"NCT01898377\",\"id\":\"NCT01898377\",\"type\":\"ClinicalTrials\",\"url\":\"https://clinicaltrials.gov/search?term=NCT01898377\"}],\"max_phase_for_ind\":\"2.0\",\"mesh_heading\":\"Bronchiolitis Obliterans Syndrome\",\"mesh_id\":\"D000092122\"},{\"efo\":[{\"id\":\"MONDO:0011382\",\"term\":\"sickle cell anemia\"}],\"first_approval\":2001,\"indication_refs\":[{\"ClinicalTrials\":\"NCT03997903\",\"id\":\"NCT03997903\",\"type\":\"ClinicalTrials\",\"url\":\"https://clinicaltrials.gov/search?term=NCT03997903\"}],\"max_phase_for_ind\":\"1.0\",\"mesh_heading\":\"Anemia, Sickle Cell\",\"mesh_id\":\"D000755\"},{\"efo\":[{\"id\":\"MONDO:0004979\",\"term\":\"asthma\"}],\"first_approval\":2001,\"indication_refs\":[{\"ClinicalTrials\":\"NCT01097694\",\"id\":\"NCT01097694\",\"type\":\"ClinicalTrials\",\"url\":\"https://clinicaltrials.gov/search?id=%22NCT01097694%22\"},{\"ClinicalTrials\":\"NCT04129931\",\"id\":\"NCT04129931\",\"type\":\"ClinicalTrials\",\"url\":\"https://clinicaltrials.gov/search?id=%22NCT04129931%22\"}],\"max_phase_for_ind\":\"2.0\",\"mesh_heading\":\"Asthma\",\"mesh_id\":\"D001249\"},{\"efo\":[{\"id\":\"MONDO:0007254\",\"term\":\"breast cancer\"}],\"first_approval\":2001,\"indication_refs\":[{\"ClinicalTrials\":\"NCT00323063\",\"id\":\"NCT00323063\",\"type\":\"ClinicalTrials\",\"url\":\"https://clinicaltrials.gov/search?id=%22NCT00323063%22\"},{\"ClinicalTrials\":\"NCT00087152\",\"id\":\"NCT00087152\",\"type\":\"ClinicalTrials\",\"url\":\"https://clinicaltrials.gov/search?id=%22NCT00087152%22\"},{\"ClinicalTrials\":\"NCT00338728\",\"id\":\"NCT00338728\",\"type\":\"ClinicalTrials\",\"url\":\"https://clinicaltrials.gov/search?id=%22NCT00338728%22\"},{\"ClinicalTrials\":\"NCT00080665\",\"id\":\"NCT00080665\",\"type\":\"ClinicalTrials\",\"url\":\"https://clinicaltrials.gov/search?id=%22NCT00080665%22\"}],\"max_phase_for_ind\":\"2.0\",\"mesh_heading\":\"Breast Neoplasms\",\"mesh_id\":\"D001943\"},{\"efo\":[{\"id\":\"EFO:0000313\",\"term\":\"carcinoma\"}],\"first_approval\":2001,\"indication_refs\":[{\"ClinicalTrials\":\"NCT01153750\",\"id\":\"NCT01153750\",\"type\":\"ClinicalTrials\",\"url\":\"https://clinicaltrials.gov/search?term=NCT01153750\"}],\"max_phase_for_ind\":\"2.0\",\"mesh_heading\":\"Carcinoma\",\"mesh_id\":\"D002277\"},{\"efo\":[{\"id\":\"EFO:0003060\",\"term\":\"non-small cell lung carcinoma\"}],\"first_approval\":2001,\"indication_refs\":[{\"ClinicalTrials\":\"NCT01083589\",\"id\":\"NCT01083589\",\"type\":\"ClinicalTrials\",\"url\":\"https://clinicaltrials.gov/search?id=%22NCT01083589%22\"},{\"ClinicalTrials\":\"NCT01011075\",\"id\":\"NCT01011075\",\"type\":\"ClinicalTrials\",\"url\":\"https://clinicaltrials.gov/search?id=%22NCT01011075%22\"}],\"max_phase_for_ind\":\"2.0\",\"mesh_heading\":\"Carcinoma, Non-Small-Cell Lung\",\"mesh_id\":\"D002289\"},{\"efo\":[{\"id\":\"EFO:0000333\",\"term\":\"chondrosarcoma\"}],\"first_approval\":2001,\"indication_refs\":[{\"ClinicalTrials\":\"NCT00928525\",\"id\":\"NCT00928525\",\"type\":\"ClinicalTrials\",\"url\":\"https://clinicaltrials.gov/search?term=NCT00928525\"}],\"max_phase_for_ind\":\"2.0\",\"mesh_heading\":\"Chondrosarcoma\",\"mesh_id\":\"D002813\"},{\"efo\":[{\"id\":\"MONDO:0021063\",\"term\":\"malignant colon neoplasm\"}],\"first_approval\":2001,\"indication_refs\":[{\"ClinicalTrials\":\"NCT00041340\",\"id\":\"NCT00041340\",\"type\":\"ClinicalTrials\",\"url\":\"https://clinicaltrials.gov/search?id=%22NCT00041340%22\"},{\"ClinicalTrials\":\"NCT00183833\",\"id\":\"NCT00183833\",\"type\":\"ClinicalTrials\",\"url\":\"https://clinicaltrials.gov/search?id=%22NCT00183833%22\"}],\"max_phase_for_ind\":\"2.0\",\"mesh_heading\":\"Colonic Neoplasms\",\"mesh_id\":\"D003110\"},{\"efo\":[{\"id\":\"MONDO:0005147\",\"term\":\"type 1 diabetes mellitus\"}],\"first_approval\":2001,\"indication_refs\":[{\"ClinicalTrials\":\"NCT01781975\",\"id\":\"NCT01781975\",\"type\":\"ClinicalTrials\",\"url\":\"https://clinicaltrials.gov/search?term=NCT01781975\"}],\"max_phase_for_ind\":\"2.0\",\"mesh_heading\":\"Diabetes Mellitus, Type 1\",\"mesh_id\":\"D003922\"},{\"efo\":[{\"id\":\"HP:0001880\",\"term\":\"Eosinophilia\"}],\"first_approval\":2001,\"indication_refs\":[{\"ClinicalTrials\":\"NCT00230334\",\"id\":\"NCT00230334\",\"type\":\"ClinicalTrials\",\"url\":\"https://clinicaltrials.gov/search?term=NCT00230334\"}],\"max_phase_for_ind\":\"2.0\",\"mesh_heading\":\"Eosinophilia\",\"mesh_id\":\"D004802\"},{\"efo\":[{\"id\":\"MONDO:0002158\",\"term\":\"fallopian tube cancer\"}],\"first_approval\":2001,\"indication_refs\":[{\"ClinicalTrials\":\"NCT00039585\",\"id\":\"NCT00039585\",\"type\":\"ClinicalTrials\",\"url\":\"https://clinicaltrials.gov/search?term=NCT00039585\"}],\"max_phase_for_ind\":\"2.0\",\"mesh_heading\":\"Fallopian Tube Neoplasms\",\"mesh_id\":\"D005185\"},{\"efo\":[{\"id\":\"EFO:0000519\",\"term\":\"glioblastoma multiforme\"}],\"first_approval\":2001,\"indication_refs\":[{\"ClinicalTrials\":\"NCT00171938\",\"id\":\"NCT00171938\",\"type\":\"ClinicalTrials\",\"url\":\"https://clinicaltrials.gov/search?id=%22NCT00171938%22\"},{\"ClinicalTrials\":\"NCT00154375\",\"id\":\"NCT00154375\",\"type\":\"ClinicalTrials\",\"url\":\"https://clinicaltrials.gov/search?id=%22NCT00154375%22\"}],\"max_phase_for_ind\":\"3.0\",\"mesh_heading\":\"Glioblastoma\",\"mesh_id\":\"D005909\"},{\"efo\":[{\"id\":\"MONDO:0013730\",\"term\":\"graft versus host disease\"}],\"first_approval\":2001,\"indication_refs\":[{\"ClinicalTrials\":\"NCT02891395\",\"id\":\"NCT02891395\",\"type\":\"ClinicalTrials\",\"url\":\"https://clinicaltrials.gov/search?id=%22NCT02891395%22\"},{\"ClinicalTrials\":\"NCT00702689\",\"id\":\"NCT00702689\",\"type\":\"ClinicalTrials\",\"url\":\"https://clinicaltrials.gov/search?id=%22NCT00702689%22\"}],\"max_phase_for_ind\":\"2.0\",\"mesh_heading\":\"Graft vs Host Disease\",\"mesh_id\":\"D006086\"},{\"efo\":[{\"id\":\"EFO:0006859\",\"term\":\"head and neck malignant neoplasia\"}],\"first_approval\":2001,\"indication_refs\":[{\"ClinicalTrials\":\"NCT00045669\",\"id\":\"NCT00045669\",\"type\":\"ClinicalTrials\",\"url\":\"https://clinicaltrials.gov/search?term=NCT00045669\"}],\"max_phase_for_ind\":\"2.0\",\"mesh_heading\":\"Head and Neck Neoplasms\",\"mesh_id\":\"D006258\"},{\"efo\":[{\"id\":\"EFO:0001361\",\"term\":\"pulmonary arterial hypertension\"},{\"id\":\"MONDO:0005149\",\"term\":\"pulmonary hypertension\"}],\"first_approval\":2001,\"indication_refs\":[{\"ClinicalTrials\":\"NCT02042014\",\"id\":\"NCT02042014\",\"type\":\"ClinicalTrials\",\"url\":\"https://clinicaltrials.gov/search?id=%22NCT02042014%22\"},{\"ClinicalTrials\":\"NCT00477269\",\"id\":\"NCT00477269\",\"type\":\"ClinicalTrials\",\"url\":\"https://clinicaltrials.gov/search?id=%22NCT00477269%22\"},{\"ClinicalTrials\":\"NCT04416750\",\"id\":\"NCT04416750\",\"type\":\"ClinicalTrials\",\"url\":\"https://clinicaltrials.gov/search?id=%22NCT04416750%22\"},{\"ClinicalTrials\":\"NCT00902174\",\"id\":\"NCT00902174\",\"type\":\"ClinicalTrials\",\"url\":\"https://clinicaltrials.gov/search?id=%22NCT00902174%22\"},{\"ClinicalTrials\":\"NCT00583115\",\"id\":\"NCT00583115\",\"type\":\"ClinicalTrials\",\"url\":\"https://clinicaltrials.gov/search?term=NCT00583115\"}],\"max_phase_for_ind\":\"3.0\",\"mesh_heading\":\"Hypertension, Pulmonary\",\"mesh_id\":\"D006976\"},{\"efo\":[{\"id\":\"MONDO:0002367\",\"term\":\"kidney cancer\"}],\"first_approval\":2001,\"indication_refs\":[{\"ClinicalTrials\":\"NCT00323791\",\"id\":\"NCT00323791\",\"type\":\"ClinicalTrials\",\"url\":\"https://clinicaltrials.gov/search?id=%22NCT00323791%22\"},{\"ClinicalTrials\":\"NCT00331409\",\"id\":\"NCT00331409\",\"type\":\"ClinicalTrials\",\"url\":\"https://clinicaltrials.gov/search?id=%22NCT00331409%22\"}],\"max_phase_for_ind\":\"2.0\",\"mesh_heading\":\"Kidney Neoplasms\",\"mesh_id\":\"D007680\"},{\"efo\":[{\"id\":\"EFO:0000565\",\"term\":\"leukemia\"}],\"first_approval\":2001,\"indication_refs\":[{\"ClinicalTrials\":\"NCT00066326\",\"id\":\"NCT00066326\",\"type\":\"ClinicalTrials\",\"url\":\"https://clinicaltrials.gov/search?id=%22NCT00066326%22\"},{\"ClinicalTrials\":\"NCT00015860\",\"id\":\"NCT00015860\",\"type\":\"ClinicalTrials\",\"url\":\"https://clinicaltrials.gov/search?id=%22NCT00015860%22\"},{\"ClinicalTrials\":\"NCT00006052\",\"id\":\"NCT00006052\",\"type\":\"ClinicalTrials\",\"url\":\"https://clinicaltrials.gov/search?id=%22NCT00006052%22\"},{\"ClinicalTrials\":\"NCT00509093\",\"id\":\"NCT00509093\",\"type\":\"ClinicalTrials\",\"url\":\"https://clinicaltrials.gov/search?id=%22NCT00509093%22\"},{\"ClinicalTrials\":\"NCT00244829\",\"id\":\"NCT00244829\",\"type\":\"ClinicalTrials\",\"url\":\"https://clinicaltrials.gov/search?id=%22NCT00244829%22\"},{\"ClinicalTrials\":\"NCT00112775\",\"id\":\"NCT00112775\",\"type\":\"ClinicalTrials\",\"url\":\"https://clinicaltrials.gov/search?id=%22NCT00112775%22\"},{\"ClinicalTrials\":\"NCT00301093\",\"id\":\"NCT00301093\",\"type\":\"ClinicalTrials\",\"url\":\"https://clinicaltrials.gov/search?id=%22NCT00301093%22\"},{\"ClinicalTrials\":\"NCT01227135\",\"id\":\"NCT01227135\",\"type\":\"ClinicalTrials\",\"url\":\"https://clinicaltrials.gov/search?id=%22NCT01227135%22\"},{\"ClinicalTrials\":\"NCT00006475\",\"id\":\"NCT00006475\",\"type\":\"ClinicalTrials\",\"url\":\"https://clinicaltrials.gov/search?id=%22NCT00006475%22\"},{\"ClinicalTrials\":\"NCT00093639\",\"id\":\"NCT00093639\",\"type\":\"ClinicalTrials\",\"url\":\"https://clinicaltrials.gov/search?id=%22NCT00093639%22\"},{\"ClinicalTrials\":\"NCT00028847\",\"id\":\"NCT00028847\",\"type\":\"ClinicalTrials\",\"url\":\"https://clinicaltrials.gov/search?id=%22NCT00028847%22\"},{\"ClinicalTrials\":\"NCT00064285\",\"id\":\"NCT00064285\",\"type\":\"ClinicalTrials\",\"url\":\"https://clinicaltrials.gov/search?id=%22NCT00064285%22\"},{\"ClinicalTrials\":\"NCT01092741\",\"id\":\"NCT01092741\",\"type\":\"ClinicalTrials\",\"url\":\"https://clinicaltrials.gov/search?id=%22NCT01092741%22\"},{\"ClinicalTrials\":\"NCT00053248\",\"id\":\"NCT00053248\",\"type\":\"ClinicalTrials\",\"url\":\"https://clinicaltrials.gov/search?id=%22NCT00053248%22\"},{\"ClinicalTrials\":\"NCT00110058\",\"id\":\"NCT00110058\",\"type\":\"ClinicalTrials\",\"url\":\"https://clinicaltrials.gov/search?id=%22NCT00110058%22\"},{\"ClinicalTrials\":\"NCT01005914\",\"id\":\"NCT01005914\",\"type\":\"ClinicalTrials\",\"url\":\"https://clinicaltrials.gov/search?id=%22NCT01005914%22\"},{\"ClinicalTrials\":\"NCT00022490\",\"id\":\"NCT00022490\",\"type\":\"ClinicalTrials\",\"url\":\"https://clinicaltrials.gov/search?id=%22NCT00022490%22\"},{\"ClinicalTrials\":\"NCT00006343\",\"id\":\"NCT00006343\",\"type\":\"ClinicalTrials\",\"url\":\"https://clinicaltrials.gov/search?id=%22NCT00006343%22\"},{\"ClinicalTrials\":\"NCT00045422\",\"id\":\"NCT00045422\",\"type\":\"ClinicalTrials\",\"url\":\"https://clinicaltrials.gov/search?id=%22NCT00045422%22\"},{\"ClinicalTrials\":\"NCT01005758\",\"id\":\"NCT01005758\",\"type\":\"ClinicalTrials\",\"url\":\"https://clinicaltrials.gov/search?id=%22NCT01005758%22\"},{\"ClinicalTrials\":\"NCT00055874\",\"id\":\"NCT00055874\",\"type\":\"ClinicalTrials\",\"url\":\"https://clinicaltrials.gov/search?id=%22NCT00055874%22\"},{\"ClinicalTrials\":\"NCT00258271\",\"id\":\"NCT00258271\",\"type\":\"ClinicalTrials\",\"url\":\"https://clinicaltrials.gov/search?id=%22NCT00258271%22\"},{\"ClinicalTrials\":\"NCT00004932\",\"id\":\"NCT00004932\",\"type\":\"ClinicalTrials\",\"url\":\"https://clinicaltrials.gov/search?id=%22NCT00004932%22\"},{\"ClinicalTrials\":\"NCT00618501\",\"id\":\"NCT00618501\",\"type\":\"ClinicalTrials\",\"url\":\"https://clinicaltrials.gov/search?id=%22NCT00618501%22\"},{\"ClinicalTrials\":\"NCT00458848\",\"id\":\"NCT00458848\",\"type\":\"ClinicalTrials\",\"url\":\"https://clinicaltrials.gov/search?id=%22NCT00458848%22\"},{\"ClinicalTrials\":\"NCT00081133\",\"id\":\"NCT00081133\",\"type\":\"ClinicalTrials\",\"url\":\"https://clinicaltrials.gov/search?id=%22NCT00081133%22\"},{\"ClinicalTrials\":\"NCT00268229\",\"id\":\"NCT00268229\",\"type\":\"ClinicalTrials\",\"url\":\"https://clinicaltrials.gov/search?id=%22NCT00268229%22\"},{\"ClinicalTrials\":\"NCT00769327\",\"id\":\"NCT00769327\",\"type\":\"ClinicalTrials\",\"url\":\"https://clinicaltrials.gov/search?id=%22NCT00769327%22\"},{\"ClinicalTrials\":\"NCT00882206\",\"id\":\"NCT00882206\",\"type\":\"ClinicalTrials\",\"url\":\"https://clinicaltrials.gov/search?id=%22NCT00882206%22\"},{\"ClinicalTrials\":\"NCT00006053\",\"id\":\"NCT00006053\",\"type\":\"ClinicalTrials\",\"url\":\"https://clinicaltrials.gov/search?id=%22NCT00006053%22\"},{\"ClinicalTrials\":\"NCT00499889\",\"id\":\"NCT00499889\",\"type\":\"ClinicalTrials\",\"url\":\"https://clinicaltrials.gov/search?id=%22NCT00499889%22\"},{\"ClinicalTrials\":\"NCT00002514\",\"id\":\"NCT00002514\",\"type\":\"ClinicalTrials\",\"url\":\"https://clinicaltrials.gov/search?id=%22NCT00002514%22\"},{\"ClinicalTrials\":\"NCT00015847\",\"id\":\"NCT00015847\",\"type\":\"ClinicalTrials\",\"url\":\"https://clinicaltrials.gov/search?id=%22NCT00015847%22\"},{\"ClinicalTrials\":\"NCT00038610\",\"id\":\"NCT00038610\",\"type\":\"ClinicalTrials\",\"url\":\"https://clinicaltrials.gov/search?id=%22NCT00038610%22\"},{\"ClinicalTrials\":\"NCT00686218\",\"id\":\"NCT00686218\",\"type\":\"ClinicalTrials\",\"url\":\"https://clinicaltrials.gov/search?id=%22NCT00686218%22\"}],\"max_phase_for_ind\":\"3.0\",\"mesh_heading\":\"Leukemia\",\"mesh_id\":\"D007938\"},{\"efo\":[{\"id\":\"EFO:0004289\",\"term\":\"lymphoid leukemia\"}],\"first_approval\":2001,\"indication_refs\":[{\"ClinicalTrials\":\"NCT00327678\",\"id\":\"NCT00327678\",\"type\":\"ClinicalTrials\",\"url\":\"https://clinicaltrials.gov/search?term=NCT00327678\"}],\"max_phase_for_ind\":\"3.0\",\"mesh_heading\":\"Leukemia, Lymphoid\",\"mesh_id\":\"D007945\"},{\"efo\":[{\"id\":\"EFO:1000729\",\"term\":\"loiasis\"}],\"first_approval\":2001,\"indication_refs\":[{\"ClinicalTrials\":\"NCT02644525\",\"id\":\"NCT02644525\",\"type\":\"ClinicalTrials\",\"url\":\"https://clinicaltrials.gov/search?term=NCT02644525\"}],\"max_phase_for_ind\":\"2.0\",\"mesh_heading\":\"Loiasis\",\"mesh_id\":\"D008118\"},{\"efo\":[{\"id\":\"MONDO:0008903\",\"term\":\"lung cancer\"}],\"first_approval\":2001,\"indication_refs\":[{\"ClinicalTrials\":\"NCT00052494\",\"id\":\"NCT00052494\",\"type\":\"ClinicalTrials\",\"url\":\"https://clinicaltrials.gov/search?id=%22NCT00052494%22\"},{\"ClinicalTrials\":\"NCT00045604\",\"id\":\"NCT00045604\",\"type\":\"ClinicalTrials\",\"url\":\"https://clinicaltrials.gov/search?id=%22NCT00045604%22\"},{\"ClinicalTrials\":\"NCT00323362\",\"id\":\"NCT00323362\",\"type\":\"ClinicalTrials\",\"url\":\"https://clinicaltrials.gov/search?id=%22NCT00323362%22\"},{\"ClinicalTrials\":\"NCT00222144\",\"id\":\"NCT00222144\",\"type\":\"ClinicalTrials\",\"url\":\"https://clinicaltrials.gov/search?id=%22NCT00222144%22\"},{\"ClinicalTrials\":\"NCT00425646\",\"id\":\"NCT00425646\",\"type\":\"ClinicalTrials\",\"url\":\"https://clinicaltrials.gov/search?id=%22NCT00425646%22\"}],\"max_phase_for_ind\":\"2.0\",\"mesh_heading\":\"Lung Neoplasms\",\"mesh_id\":\"D008175\"},{\"efo\":[{\"id\":\"EFO:0000574\",\"term\":\"lymphoma\"}],\"first_approval\":2001,\"indication_refs\":[{\"ClinicalTrials\":\"NCT00882206\",\"id\":\"NCT00882206\",\"type\":\"ClinicalTrials\",\"url\":\"https://clinicaltrials.gov/search?term=NCT00882206\"}],\"max_phase_for_ind\":\"2.0\",\"mesh_heading\":\"Lymphoma\",\"mesh_id\":\"D008223\"},{\"efo\":[{\"id\":\"EFO:0005952\",\"term\":\"non-Hodgkins lymphoma\"}],\"first_approval\":2001,\"indication_refs\":[{\"ClinicalTrials\":\"NCT00684411\",\"id\":\"NCT00684411\",\"type\":\"ClinicalTrials\",\"url\":\"https://clinicaltrials.gov/search?term=NCT00684411\"}],\"max_phase_for_ind\":\"2.0\",\"mesh_heading\":\"Lymphoma, Non-Hodgkin\",\"mesh_id\":\"D008228\"},{\"efo\":[{\"id\":\"EFO:0000756\",\"term\":\"melanoma\"},{\"id\":\"EFO:0000389\",\"term\":\"cutaneous melanoma\"}],\"first_approval\":2001,\"indication_refs\":[{\"ClinicalTrials\":\"NCT00667953\",\"id\":\"NCT00667953\",\"type\":\"ClinicalTrials\",\"url\":\"https://clinicaltrials.gov/search?id=%22NCT00667953%22\"},{\"ClinicalTrials\":\"NCT00027586\",\"id\":\"NCT00027586\",\"type\":\"ClinicalTrials\",\"url\":\"https://clinicaltrials.gov/search?id=%22NCT00027586%22\"},{\"ClinicalTrials\":\"NCT04546074\",\"id\":\"NCT04546074\",\"type\":\"ClinicalTrials\",\"url\":\"https://clinicaltrials.gov/search?id=%22NCT04546074%22\"},{\"ClinicalTrials\":\"NCT05274438\",\"id\":\"NCT05274438\",\"type\":\"ClinicalTrials\",\"url\":\"https://clinicaltrials.gov/search?id=%22NCT05274438%22\"},{\"ClinicalTrials\":\"NCT00074308\",\"id\":\"NCT00074308\",\"type\":\"ClinicalTrials\",\"url\":\"https://clinicaltrials.gov/search?id=%22NCT00074308%22\"},{\"ClinicalTrials\":\"NCT02812693\",\"id\":\"NCT02812693\",\"type\":\"ClinicalTrials\",\"url\":\"https://clinicaltrials.gov/search?term=NCT02812693\"}],\"max_phase_for_ind\":\"2.0\",\"mesh_heading\":\"Melanoma\",\"mesh_id\":\"D008545\"},{\"efo\":[{\"id\":\"EFO:0000588\",\"term\":\"mesothelioma\"}],\"first_approval\":2001,\"indication_refs\":[{\"ClinicalTrials\":\"NCT02303899\",\"id\":\"NCT02303899\",\"type\":\"ClinicalTrials\",\"url\":\"https://clinicaltrials.gov/search?id=%22NCT02303899%22\"},{\"ClinicalTrials\":\"NCT00551252\",\"id\":\"NCT00551252\",\"type\":\"ClinicalTrials\",\"url\":\"https://clinicaltrials.gov/search?id=%22NCT00551252%22\"},{\"ClinicalTrials\":\"NCT00402766\",\"id\":\"NCT00402766\",\"type\":\"ClinicalTrials\",\"url\":\"https://clinicaltrials.gov/search?id=%22NCT00402766%22\"}],\"max_phase_for_ind\":\"2.0\",\"mesh_heading\":\"Mesothelioma\",\"mesh_id\":\"D008654\"},{\"efo\":[{\"id\":\"MONDO:0005301\",\"term\":\"multiple sclerosis\"}],\"first_approval\":2001,\"indication_refs\":[{\"ClinicalTrials\":\"NCT03674099\",\"id\":\"NCT03674099\",\"type\":\"ClinicalTrials\",\"url\":\"https://clinicaltrials.gov/search?term=NCT03674099\"}],\"max_phase_for_ind\":\"2.0\",\"mesh_heading\":\"Multiple Sclerosis\",\"mesh_id\":\"D009103\"},{\"efo\":[{\"id\":\"EFO:0002428\",\"term\":\"chronic myeloproliferative disorder\"}],\"first_approval\":2001,\"indication_refs\":[{\"ClinicalTrials\":\"NCT00245128\",\"id\":\"NCT00245128\",\"type\":\"ClinicalTrials\",\"url\":\"https://clinicaltrials.gov/search?term=NCT00245128\"}],\"max_phase_for_ind\":\"2.0\",\"mesh_heading\":\"Myeloproliferative Disorders\",\"mesh_id\":\"D009196\"},{\"efo\":[{\"id\":\"MONDO:0004992\",\"term\":\"cancer\"},{\"id\":\"EFO:0000616\",\"term\":\"neoplasm\"}],\"first_approval\":2001,\"indication_refs\":[{\"ClinicalTrials\":\"NCT00084513\",\"id\":\"NCT00084513\",\"type\":\"ClinicalTrials\",\"url\":\"https://clinicaltrials.gov/search?id=%22NCT00084513%22\"},{\"ClinicalTrials\":\"NCT00253565\",\"id\":\"NCT00253565\",\"type\":\"ClinicalTrials\",\"url\":\"https://clinicaltrials.gov/search?id=%22NCT00253565%22\"},{\"ClinicalTrials\":\"NCT00483366\",\"id\":\"NCT00483366\",\"type\":\"ClinicalTrials\",\"url\":\"https://clinicaltrials.gov/search?id=%22NCT00483366%22\"},{\"ClinicalTrials\":\"NCT00026169\",\"id\":\"NCT00026169\",\"type\":\"ClinicalTrials\",\"url\":\"https://clinicaltrials.gov/search?id=%22NCT00026169%22\"},{\"ClinicalTrials\":\"NCT01046487\",\"id\":\"NCT01046487\",\"type\":\"ClinicalTrials\",\"url\":\"https://clinicaltrials.gov/search?id=%22NCT01046487%22\"},{\"ClinicalTrials\":\"NCT00180830\",\"id\":\"NCT00180830\",\"type\":\"ClinicalTrials\",\"url\":\"https://clinicaltrials.gov/search?id=%22NCT00180830%22\"},{\"ClinicalTrials\":\"NCT00159016\",\"id\":\"NCT00159016\",\"type\":\"ClinicalTrials\",\"url\":\"https://clinicaltrials.gov/search?id=%22NCT00159016%22\"}],\"max_phase_for_ind\":\"2.0\",\"mesh_heading\":\"Neoplasms\",\"mesh_id\":\"D009369\"},{\"efo\":[{\"id\":\"EFO:0000760\",\"term\":\"malignant peripheral nerve sheath tumor\"}],\"first_approval\":2001,\"indication_refs\":[{\"ClinicalTrials\":\"NCT00427583\",\"id\":\"NCT00427583\",\"type\":\"ClinicalTrials\",\"url\":\"https://clinicaltrials.gov/search?term=NCT00427583\"}],\"max_phase_for_ind\":\"2.0\",\"mesh_heading\":\"Neurilemmoma\",\"mesh_id\":\"D009442\"},{\"efo\":[{\"id\":\"MONDO:0018975\",\"term\":\"neurofibromatosis type 1\"}],\"first_approval\":2001,\"indication_refs\":[{\"ClinicalTrials\":\"NCT01673009\",\"id\":\"NCT01673009\",\"type\":\"ClinicalTrials\",\"url\":\"https://clinicaltrials.gov/search?term=NCT01673009\"}],\"max_phase_for_ind\":\"2.0\",\"mesh_heading\":\"Neurofibromatosis 1\",\"mesh_id\":\"D009456\"},{\"efo\":[{\"id\":\"MONDO:0008170\",\"term\":\"ovarian cancer\"}],\"first_approval\":2001,\"indication_refs\":[{\"ClinicalTrials\":\"NCT00039585\",\"id\":\"NCT00039585\",\"type\":\"ClinicalTrials\",\"url\":\"https://clinicaltrials.gov/search?id=%22NCT00039585%22\"},{\"ClinicalTrials\":\"NCT00216112\",\"id\":\"NCT00216112\",\"type\":\"ClinicalTrials\",\"url\":\"https://clinicaltrials.gov/search?id=%22NCT00216112%22\"},{\"ClinicalTrials\":\"NCT00510653\",\"id\":\"NCT00510653\",\"type\":\"ClinicalTrials\",\"url\":\"https://clinicaltrials.gov/search?id=%22NCT00510653%22\"},{\"ClinicalTrials\":\"NCT00928642\",\"id\":\"NCT00928642\",\"type\":\"ClinicalTrials\",\"url\":\"https://clinicaltrials.gov/search?id=%22NCT00928642%22\"},{\"ClinicalTrials\":\"NCT00006357\",\"id\":\"NCT00006357\",\"type\":\"ClinicalTrials\",\"url\":\"https://clinicaltrials.gov/search?id=%22NCT00006357%22\"}],\"max_phase_for_ind\":\"2.0\",\"mesh_heading\":\"Ovarian Neoplasms\",\"mesh_id\":\"D010051\"},{\"efo\":[{\"id\":\"EFO:0002618\",\"term\":\"pancreatic carcinoma\"}],\"first_approval\":2001,\"indication_refs\":[{\"ClinicalTrials\":\"NCT00161213\",\"id\":\"NCT00161213\",\"type\":\"ClinicalTrials\",\"url\":\"https://clinicaltrials.gov/search?id=%22NCT00161213%22\"},{\"ClinicalTrials\":\"NCT00281996\",\"id\":\"NCT00281996\",\"type\":\"ClinicalTrials\",\"url\":\"https://clinicaltrials.gov/search?id=%22NCT00281996%22\"}],\"max_phase_for_ind\":\"2.0\",\"mesh_heading\":\"Pancreatic Neoplasms\",\"mesh_id\":\"D010190\"},{\"efo\":[{\"id\":\"MONDO:0002087\",\"term\":\"peritoneum cancer\"}],\"first_approval\":2001,\"indication_refs\":[{\"ClinicalTrials\":\"NCT00036751\",\"id\":\"NCT00036751\",\"type\":\"ClinicalTrials\",\"url\":\"https://clinicaltrials.gov/search?id=%22NCT00036751%22\"},{\"ClinicalTrials\":\"NCT00039585\",\"id\":\"NCT00039585\",\"type\":\"ClinicalTrials\",\"url\":\"https://clinicaltrials.gov/search?id=%22NCT00039585%22\"}],\"max_phase_for_ind\":\"2.0\",\"mesh_heading\":\"Peritoneal Neoplasms\",\"mesh_id\":\"D010534\"},{\"efo\":[{\"id\":\"EFO:0002429\",\"term\":\"polycythemia vera\"}],\"first_approval\":2001,\"indication_refs\":[{\"ClinicalTrials\":\"NCT01120821\",\"id\":\"NCT01120821\",\"type\":\"ClinicalTrials\",\"url\":\"https://clinicaltrials.gov/search?id=%22NCT01120821%22\"},{\"ClinicalTrials\":\"NCT00430066\",\"id\":\"NCT00430066\",\"type\":\"ClinicalTrials\",\"url\":\"https://clinicaltrials.gov/search?id=%22NCT00430066%22\"}],\"max_phase_for_ind\":\"2.0\",\"mesh_heading\":\"Polycythemia Vera\",\"mesh_id\":\"D011087\"},{\"efo\":[{\"id\":\"EFO:0000673\",\"term\":\"prostate adenocarcinoma\"}],\"first_approval\":2001,\"indication_refs\":[{\"ClinicalTrials\":\"NCT00861471\",\"id\":\"NCT00861471\",\"type\":\"ClinicalTrials\",\"url\":\"https://clinicaltrials.gov/search?term=NCT00861471\"}],\"max_phase_for_ind\":\"1.0\",\"mesh_heading\":\"Prostatic Neoplasms\",\"mesh_id\":\"D011471\"},{\"efo\":[{\"id\":\"MONDO:0009937\",\"term\":\"pulmonary venoocclusive disease\"}],\"first_approval\":2001,\"indication_refs\":[{\"ClinicalTrials\":\"NCT00891527\",\"id\":\"NCT00891527\",\"type\":\"ClinicalTrials\",\"url\":\"https://clinicaltrials.gov/search?term=NCT00891527\"}],\"max_phase_for_ind\":\"1.0\",\"mesh_heading\":\"Pulmonary Veno-Occlusive Disease\",\"mesh_id\":\"D011668\"},{\"efo\":[{\"id\":\"EFO:1000657\",\"term\":\"rectum cancer\"}],\"first_approval\":2001,\"indication_refs\":[{\"ClinicalTrials\":\"NCT00041340\",\"id\":\"NCT00041340\",\"type\":\"ClinicalTrials\",\"url\":\"https://clinicaltrials.gov/search?term=NCT00041340\"}],\"max_phase_for_ind\":\"2.0\",\"mesh_heading\":\"Rectal Neoplasms\",\"mesh_id\":\"D012004\"},{\"efo\":[{\"id\":\"EFO:1000613\",\"term\":\"Uterine Carcinosarcoma\"}],\"first_approval\":2001,\"indication_refs\":[{\"ClinicalTrials\":\"NCT00075400\",\"id\":\"NCT00075400\",\"type\":\"ClinicalTrials\",\"url\":\"https://clinicaltrials.gov/search?term=NCT00075400\"}],\"max_phase_for_ind\":\"2.0\",\"mesh_heading\":\"Retroviridae Infections\",\"mesh_id\":\"D012192\"},{\"efo\":[{\"id\":\"EFO:0000691\",\"term\":\"sarcoma\"}],\"first_approval\":2001,\"indication_refs\":[{\"ClinicalTrials\":\"NCT00062205\",\"id\":\"NCT00062205\",\"type\":\"ClinicalTrials\",\"url\":\"https://clinicaltrials.gov/search?id=%22NCT00062205%22\"},{\"ClinicalTrials\":\"NCT00116935\",\"id\":\"NCT00116935\",\"type\":\"ClinicalTrials\",\"url\":\"https://clinicaltrials.gov/search?id=%22NCT00116935%22\"},{\"ClinicalTrials\":\"NCT00090987\",\"id\":\"NCT00090987\",\"type\":\"ClinicalTrials\",\"url\":\"https://clinicaltrials.gov/search?id=%22NCT00090987%22\"},{\"ClinicalTrials\":\"NCT00085475\",\"id\":\"NCT00085475\",\"type\":\"ClinicalTrials\",\"url\":\"https://clinicaltrials.gov/search?id=%22NCT00085475%22\"},{\"ClinicalTrials\":\"NCT00006357\",\"id\":\"NCT00006357\",\"type\":\"ClinicalTrials\",\"url\":\"https://clinicaltrials.gov/search?id=%22NCT00006357%22\"}],\"max_phase_for_ind\":\"3.0\",\"mesh_heading\":\"Sarcoma\",\"mesh_id\":\"D012509\"},{\"efo\":[{\"id\":\"EFO:1001361\",\"term\":\"localised scleroderma\"},{\"id\":\"EFO:1001993\",\"term\":\"scleroderma\"}],\"first_approval\":2001,\"indication_refs\":[{\"ClinicalTrials\":\"NCT01545427\",\"id\":\"NCT01545427\",\"type\":\"ClinicalTrials\",\"url\":\"https://clinicaltrials.gov/search?term=NCT01545427\"},{\"ClinicalTrials\":\"NCT00479934\",\"id\":\"NCT00479934\",\"type\":\"ClinicalTrials\",\"url\":\"https://clinicaltrials.gov/search?term=NCT00479934\"}],\"max_phase_for_ind\":\"2.0\",\"mesh_heading\":\"Scleroderma, Localized\",\"mesh_id\":\"D012594\"},{\"efo\":[{\"id\":\"EFO:0000717\",\"term\":\"systemic scleroderma\"}],\"first_approval\":2001,\"indication_refs\":[{\"ClinicalTrials\":\"NCT00555581\",\"id\":\"NCT00555581\",\"type\":\"ClinicalTrials\",\"url\":\"https://clinicaltrials.gov/search?id=%22NCT00555581%22\"},{\"ClinicalTrials\":\"NCT00479934\",\"id\":\"NCT00479934\",\"type\":\"ClinicalTrials\",\"url\":\"https://clinicaltrials.gov/search?id=%22NCT00479934%22\"},{\"ClinicalTrials\":\"NCT00506831\",\"id\":\"NCT00506831\",\"type\":\"ClinicalTrials\",\"url\":\"https://clinicaltrials.gov/search?id=%22NCT00506831%22\"},{\"ClinicalTrials\":\"NCT00613171\",\"id\":\"NCT00613171\",\"type\":\"ClinicalTrials\",\"url\":\"https://clinicaltrials.gov/search?id=%22NCT00613171%22\"}],\"max_phase_for_ind\":\"2.0\",\"mesh_heading\":\"Scleroderma, Systemic\",\"mesh_id\":\"D012595\"},{\"efo\":[{\"id\":\"EFO:0004198\",\"term\":\"skin neoplasm\"}],\"first_approval\":2001,\"indication_refs\":[{\"ClinicalTrials\":\"NCT00027586\",\"id\":\"NCT00027586\",\"type\":\"ClinicalTrials\",\"url\":\"https://clinicaltrials.gov/search?term=NCT00027586\"}],\"max_phase_for_ind\":\"2.0\",\"mesh_heading\":\"Skin Neoplasms\",\"mesh_id\":\"D012878\"},{\"efo\":[{\"id\":\"EFO:0000503\",\"term\":\"gastric adenocarcinoma\"},{\"id\":\"MONDO:0001056\",\"term\":\"gastric cancer\"}],\"first_approval\":2001,\"indication_refs\":[{\"ClinicalTrials\":\"NCT00601510\",\"id\":\"NCT00601510\",\"type\":\"ClinicalTrials\",\"url\":\"https://clinicaltrials.gov/search?id=%22NCT00601510%22\"},{\"ClinicalTrials\":\"NCT00068380\",\"id\":\"NCT00068380\",\"type\":\"ClinicalTrials\",\"url\":\"https://clinicaltrials.gov/search?id=%22NCT00068380%22\"},{\"ClinicalTrials\":\"NCT00209079\",\"id\":\"NCT00209079\",\"type\":\"ClinicalTrials\",\"url\":\"https://clinicaltrials.gov/search?term=NCT00209079\"}],\"max_phase_for_ind\":\"2.0\",\"mesh_heading\":\"Stomach Neoplasms\",\"mesh_id\":\"D013274\"},{\"efo\":[{\"id\":\"EFO:0001376\",\"term\":\"synovial sarcoma\"}],\"first_approval\":2001,\"indication_refs\":[{\"ClinicalTrials\":\"NCT01281865\",\"id\":\"NCT01281865\",\"type\":\"ClinicalTrials\",\"url\":\"https://clinicaltrials.gov/search?term=NCT01281865\"}],\"max_phase_for_ind\":\"1.0\",\"mesh_heading\":\"Sarcoma, Synovial\",\"mesh_id\":\"D013584\"},{\"efo\":[{\"id\":\"MONDO:0002108\",\"term\":\"thyroid cancer\"}],\"first_approval\":2001,\"indication_refs\":[{\"ClinicalTrials\":\"NCT00354523\",\"id\":\"NCT00354523\",\"type\":\"ClinicalTrials\",\"url\":\"https://clinicaltrials.gov/search?term=NCT00354523\"}],\"max_phase_for_ind\":\"1.0\",\"mesh_heading\":\"Thyroid Neoplasms\",\"mesh_id\":\"D013964\"},{\"efo\":[{\"id\":\"MONDO:0002715\",\"term\":\"uterine cancer\"}],\"first_approval\":2001,\"indication_refs\":[{\"ClinicalTrials\":\"NCT00506779\",\"id\":\"NCT00506779\",\"type\":\"ClinicalTrials\",\"url\":\"https://clinicaltrials.gov/search?term=NCT00506779\"}],\"max_phase_for_ind\":\"1.0\",\"mesh_heading\":\"Uterine Neoplasms\",\"mesh_id\":\"D014594\"},{\"efo\":[{\"id\":\"EFO:1001951\",\"term\":\"colorectal carcinoma\"}],\"first_approval\":2001,\"indication_refs\":[{\"ClinicalTrials\":\"NCT00183833\",\"id\":\"NCT00183833\",\"type\":\"ClinicalTrials\",\"url\":\"https://clinicaltrials.gov/search?term=NCT00183833\"}],\"max_phase_for_ind\":\"1.0\",\"mesh_heading\":\"Colorectal Neoplasms\",\"mesh_id\":\"D015179\"},{\"efo\":[{\"id\":\"EFO:1001471\",\"term\":\"Merkel cell skin cancer\"}],\"first_approval\":2001,\"indication_refs\":[{\"ClinicalTrials\":\"NCT00068783\",\"id\":\"NCT00068783\",\"type\":\"ClinicalTrials\",\"url\":\"https://clinicaltrials.gov/search?term=NCT00068783\"}],\"max_phase_for_ind\":\"2.0\",\"mesh_heading\":\"Carcinoma, Merkel Cell\",\"mesh_id\":\"D015266\"},{\"efo\":[{\"id\":\"EFO:0000094\",\"term\":\"B-cell acute lymphoblastic leukemia\"},{\"id\":\"EFO:0000209\",\"term\":\"T-cell acute lymphoblastic leukemia\"}],\"first_approval\":2001,\"indication_refs\":[{\"ClinicalTrials\":\"NCT02538926\",\"id\":\"NCT02538926\",\"type\":\"ClinicalTrials\",\"url\":\"https://clinicaltrials.gov/search?id=%22NCT02538926%22\"},{\"ClinicalTrials\":\"NCT00061945\",\"id\":\"NCT00061945\",\"type\":\"ClinicalTrials\",\"url\":\"https://clinicaltrials.gov/search?term=NCT00061945\"},{\"ClinicalTrials\":\"NCT03007147\",\"id\":\"NCT03007147\",\"type\":\"ClinicalTrials\",\"url\":\"https://clinicaltrials.gov/search?id=%22NCT03007147%22\"}],\"max_phase_for_ind\":\"3.0\",\"mesh_heading\":\"Leukemia, Biphenotypic, Acute\",\"mesh_id\":\"D015456\"},{\"efo\":[{\"id\":\"EFO:0000339\",\"term\":\"chronic myelogenous leukemia\"}],\"first_approval\":2001,\"indication_refs\":[{\"ClinicalTrials\":\"NCT00015834\",\"id\":\"NCT00015834\",\"type\":\"ClinicalTrials\",\"url\":\"https://clinicaltrials.gov/search?id=%22NCT00015834%22\"},{\"ClinicalTrials\":\"NCT00101088\",\"id\":\"NCT00101088\",\"type\":\"ClinicalTrials\",\"url\":\"https://clinicaltrials.gov/search?id=%22NCT00101088%22\"},{\"ClinicalTrials\":\"NCT00088231\",\"id\":\"NCT00088231\",\"type\":\"ClinicalTrials\",\"url\":\"https://clinicaltrials.gov/search?id=%22NCT00088231%22\"},{\"ClinicalTrials\":\"NCT01795716\",\"id\":\"NCT01795716\",\"type\":\"ClinicalTrials\",\"url\":\"https://clinicaltrials.gov/search?id=%22NCT01795716%22\"},{\"ClinicalTrials\":\"NCT00048672\",\"id\":\"NCT00048672\",\"type\":\"ClinicalTrials\",\"url\":\"https://clinicaltrials.gov/search?id=%22NCT00048672%22\"},{\"ClinicalTrials\":\"NCT00171899\",\"id\":\"NCT00171899\",\"type\":\"ClinicalTrials\",\"url\":\"https://clinicaltrials.gov/search?id=%22NCT00171899%22\"},{\"ClinicalTrials\":\"NCT00219752\",\"id\":\"NCT00219752\",\"type\":\"ClinicalTrials\",\"url\":\"https://clinicaltrials.gov/search?id=%22NCT00219752%22\"},{\"ClinicalTrials\":\"NCT00070499\",\"id\":\"NCT00070499\",\"type\":\"ClinicalTrials\",\"url\":\"https://clinicaltrials.gov/search?id=%22NCT00070499%22\"},{\"ClinicalTrials\":\"NCT00049192\",\"id\":\"NCT00049192\",\"type\":\"ClinicalTrials\",\"url\":\"https://clinicaltrials.gov/search?id=%22NCT00049192%22\"},{\"ClinicalTrials\":\"NCT00210119\",\"id\":\"NCT00210119\",\"type\":\"ClinicalTrials\",\"url\":\"https://clinicaltrials.gov/search?id=%22NCT00210119%22\"},{\"ClinicalTrials\":\"NCT02687425\",\"id\":\"NCT02687425\",\"type\":\"ClinicalTrials\",\"url\":\"https://clinicaltrials.gov/search?id=%22NCT02687425%22\"},{\"ClinicalTrials\":\"NCT00030394\",\"id\":\"NCT00030394\",\"type\":\"ClinicalTrials\",\"url\":\"https://clinicaltrials.gov/search?id=%22NCT00030394%22\"},{\"ClinicalTrials\":\"NCT00219765\",\"id\":\"NCT00219765\",\"type\":\"ClinicalTrials\",\"url\":\"https://clinicaltrials.gov/search?id=%22NCT00219765%22\"},{\"ClinicalTrials\":\"NCT00702403\",\"id\":\"NCT00702403\",\"type\":\"ClinicalTrials\",\"url\":\"https://clinicaltrials.gov/search?id=%22NCT00702403%22\"},{\"ClinicalTrials\":\"NCT00415909\",\"id\":\"NCT00415909\",\"type\":\"ClinicalTrials\",\"url\":\"https://clinicaltrials.gov/search?id=%22NCT00415909%22\"},{\"ClinicalTrials\":\"NCT00054431\",\"id\":\"NCT00054431\",\"type\":\"ClinicalTrials\",\"url\":\"https://clinicaltrials.gov/search?id=%22NCT00054431%22\"},{\"ClinicalTrials\":\"NCT02709083\",\"id\":\"NCT02709083\",\"type\":\"ClinicalTrials\",\"url\":\"https://clinicaltrials.gov/search?id=%22NCT02709083%22\"},{\"ClinicalTrials\":\"NCT04626024\",\"id\":\"NCT04626024\",\"type\":\"ClinicalTrials\",\"url\":\"https://clinicaltrials.gov/search?id=%22NCT04626024%22\"},{\"ClinicalTrials\":\"NCT00040105\",\"id\":\"NCT00040105\",\"type\":\"ClinicalTrials\",\"url\":\"https://clinicaltrials.gov/search?id=%22NCT00040105%22\"},{\"ClinicalTrials\":\"NCT00511303\",\"id\":\"NCT00511303\",\"type\":\"ClinicalTrials\",\"url\":\"https://clinicaltrials.gov/search?id=%22NCT00511303%22\"},{\"ClinicalTrials\":\"NCT00171158\",\"id\":\"NCT00171158\",\"type\":\"ClinicalTrials\",\"url\":\"https://clinicaltrials.gov/search?id=%22NCT00171158%22\"},{\"ClinicalTrials\":\"NCT00219726\",\"id\":\"NCT00219726\",\"type\":\"ClinicalTrials\",\"url\":\"https://clinicaltrials.gov/search?id=%22NCT00219726%22\"},{\"ClinicalTrials\":\"NCT01827930\",\"id\":\"NCT01827930\",\"type\":\"ClinicalTrials\",\"url\":\"https://clinicaltrials.gov/search?id=%22NCT01827930%22\"},{\"ClinicalTrials\":\"NCT00845221\",\"id\":\"NCT00845221\",\"type\":\"ClinicalTrials\",\"url\":\"https://clinicaltrials.gov/search?id=%22NCT00845221%22\"},{\"ClinicalTrials\":\"NCT00047502\",\"id\":\"NCT00047502\",\"type\":\"ClinicalTrials\",\"url\":\"https://clinicaltrials.gov/search?id=%22NCT00047502%22\"},{\"ClinicalTrials\":\"NCT03241199\",\"id\":\"NCT03241199\",\"type\":\"ClinicalTrials\",\"url\":\"https://clinicaltrials.gov/search?id=%22NCT03241199%22\"},{\"ClinicalTrials\":\"NCT05623774\",\"id\":\"NCT05623774\",\"type\":\"ClinicalTrials\",\"url\":\"https://clinicaltrials.gov/search?id=%22NCT05623774%22\"},{\"ClinicalTrials\":\"NCT00390897\",\"id\":\"NCT00390897\",\"type\":\"ClinicalTrials\",\"url\":\"https://clinicaltrials.gov/search?id=%22NCT00390897%22\"},{\"ClinicalTrials\":\"NCT00081926\",\"id\":\"NCT00081926\",\"type\":\"ClinicalTrials\",\"url\":\"https://clinicaltrials.gov/search?id=%22NCT00081926%22\"},{\"ClinicalTrials\":\"NCT01221376\",\"id\":\"NCT01221376\",\"type\":\"ClinicalTrials\",\"url\":\"https://clinicaltrials.gov/search?id=%22NCT01221376%22\"},{\"ClinicalTrials\":\"NCT00594555\",\"id\":\"NCT00594555\",\"type\":\"ClinicalTrials\",\"url\":\"https://clinicaltrials.gov/search?id=%22NCT00594555%22\"},{\"ClinicalTrials\":\"NCT01003054\",\"id\":\"NCT01003054\",\"type\":\"ClinicalTrials\",\"url\":\"https://clinicaltrials.gov/search?id=%22NCT01003054%22\"},{\"ClinicalTrials\":\"NCT02204644\",\"id\":\"NCT02204644\",\"type\":\"ClinicalTrials\",\"url\":\"https://clinicaltrials.gov/search?id=%22NCT02204644%22\"},{\"ClinicalTrials\":\"NCT00219739\",\"id\":\"NCT00219739\",\"type\":\"ClinicalTrials\",\"url\":\"https://clinicaltrials.gov/search?id=%22NCT00219739%22\"},{\"DailyMed\":\"211ef2da-2868-4a77-8055-1cb2cd78e24b\",\"id\":\"211ef2da-2868-4a77-8055-1cb2cd78e24b\",\"type\":\"DailyMed\",\"url\":\"https://dailymed.nlm.nih.gov/dailymed/drugInfo.cfm?setid=211ef2da-2868-4a77-8055-1cb2cd78e24b\"},{\"ClinicalTrials\":\"NCT00050531\",\"id\":\"NCT00050531\",\"type\":\"ClinicalTrials\",\"url\":\"https://clinicaltrials.gov/search?id=%22NCT00050531%22\"},{\"ClinicalTrials\":\"NCT00114959\",\"id\":\"NCT00114959\",\"type\":\"ClinicalTrials\",\"url\":\"https://clinicaltrials.gov/search?id=%22NCT00114959%22\"},{\"ClinicalTrials\":\"NCT00124748\",\"id\":\"NCT00124748\",\"type\":\"ClinicalTrials\",\"url\":\"https://clinicaltrials.gov/search?id=%22NCT00124748%22\"},{\"ClinicalTrials\":\"NCT00038649\",\"id\":\"NCT00038649\",\"type\":\"ClinicalTrials\",\"url\":\"https://clinicaltrials.gov/search?id=%22NCT00038649%22\"},{\"ClinicalTrials\":\"NCT00146913\",\"id\":\"NCT00146913\",\"type\":\"ClinicalTrials\",\"url\":\"https://clinicaltrials.gov/search?id=%22NCT00146913%22\"},{\"ClinicalTrials\":\"NCT00514488\",\"id\":\"NCT00514488\",\"type\":\"ClinicalTrials\",\"url\":\"https://clinicaltrials.gov/search?id=%22NCT00514488%22\"},{\"ClinicalTrials\":\"NCT00171223\",\"id\":\"NCT00171223\",\"type\":\"ClinicalTrials\",\"url\":\"https://clinicaltrials.gov/search?id=%22NCT00171223%22\"},{\"ClinicalTrials\":\"NCT01578213\",\"id\":\"NCT01578213\",\"type\":\"ClinicalTrials\",\"url\":\"https://clinicaltrials.gov/search?id=%22NCT01578213%22\"},{\"DailyMed\":\"0e9927ab-771e-4c2d-881e-7031c40bf205\",\"id\":\"0e9927ab-771e-4c2d-881e-7031c40bf205\",\"type\":\"DailyMed\",\"url\":\"https://dailymed.nlm.nih.gov/dailymed/drugInfo.cfm?setid=0e9927ab-771e-4c2d-881e-7031c40bf205\"},{\"ClinicalTrials\":\"NCT01400074\",\"id\":\"NCT01400074\",\"type\":\"ClinicalTrials\",\"url\":\"https://clinicaltrials.gov/search?id=%22NCT01400074%22\"}],\"max_phase_for_ind\":\"4.0\",\"mesh_heading\":\"Leukemia, Myelogenous, Chronic, BCR-ABL Positive\",\"mesh_id\":\"D015464\"},{\"efo\":[{\"id\":\"EFO:0000222\",\"term\":\"acute myeloid leukemia\"}],\"first_approval\":2001,\"indication_refs\":[{\"ClinicalTrials\":\"NCT00088231\",\"id\":\"NCT00088231\",\"type\":\"ClinicalTrials\",\"url\":\"https://clinicaltrials.gov/search?id=%22NCT00088231%22\"},{\"ClinicalTrials\":\"NCT00744081\",\"id\":\"NCT00744081\",\"type\":\"ClinicalTrials\",\"url\":\"https://clinicaltrials.gov/search?id=%22NCT00744081%22\"},{\"ClinicalTrials\":\"NCT00594555\",\"id\":\"NCT00594555\",\"type\":\"ClinicalTrials\",\"url\":\"https://clinicaltrials.gov/search?id=%22NCT00594555%22\"}],\"max_phase_for_ind\":\"2.0\",\"mesh_heading\":\"Leukemia, Myeloid, Acute\",\"mesh_id\":\"D015470\"},{\"efo\":[{\"id\":\"EFO:1000158\",\"term\":\"Central Nervous System Neoplasm\"}],\"first_approval\":2001,\"indication_refs\":[{\"ClinicalTrials\":\"NCT00387933\",\"id\":\"NCT00387933\",\"type\":\"ClinicalTrials\",\"url\":\"https://clinicaltrials.gov/search?id=%22NCT00387933%22\"},{\"ClinicalTrials\":\"NCT00010049\",\"id\":\"NCT00010049\",\"type\":\"ClinicalTrials\",\"url\":\"https://clinicaltrials.gov/search?id=%22NCT00010049%22\"},{\"ClinicalTrials\":\"NCT00039364\",\"id\":\"NCT00039364\",\"type\":\"ClinicalTrials\",\"url\":\"https://clinicaltrials.gov/search?id=%22NCT00039364%22\"},{\"ClinicalTrials\":\"NCT00354068\",\"id\":\"NCT00354068\",\"type\":\"ClinicalTrials\",\"url\":\"https://clinicaltrials.gov/search?id=%22NCT00354068%22\"},{\"ClinicalTrials\":\"NCT00904735\",\"id\":\"NCT00904735\",\"type\":\"ClinicalTrials\",\"url\":\"https://clinicaltrials.gov/search?id=%22NCT00904735%22\"},{\"ClinicalTrials\":\"NCT00401024\",\"id\":\"NCT00401024\",\"type\":\"ClinicalTrials\",\"url\":\"https://clinicaltrials.gov/search?id=%22NCT00401024%22\"},{\"ClinicalTrials\":\"NCT00021229\",\"id\":\"NCT00021229\",\"type\":\"ClinicalTrials\",\"url\":\"https://clinicaltrials.gov/search?id=%22NCT00021229%22\"}],\"max_phase_for_ind\":\"2.0\",\"mesh_heading\":\"Central Nervous System Neoplasms\",\"mesh_id\":\"D016543\"},{\"efo\":[{\"id\":\"MONDO:0011962\",\"term\":\"endometrial cancer\"}],\"first_approval\":2001,\"indication_refs\":[{\"ClinicalTrials\":\"NCT00006357\",\"id\":\"NCT00006357\",\"type\":\"ClinicalTrials\",\"url\":\"https://clinicaltrials.gov/search?term=NCT00006357\"}],\"max_phase_for_ind\":\"1.0\",\"mesh_heading\":\"Endometrial Neoplasms\",\"mesh_id\":\"D016889\"},{\"efo\":[{\"id\":\"EFO:1001467\",\"term\":\"Hypereosinophilic syndrome\"}],\"first_approval\":2001,\"indication_refs\":[{\"ClinicalTrials\":\"NCT00230334\",\"id\":\"NCT00230334\",\"type\":\"ClinicalTrials\",\"url\":\"https://clinicaltrials.gov/search?id=%22NCT00230334%22\"},{\"ClinicalTrials\":\"NCT00171860\",\"id\":\"NCT00171860\",\"type\":\"ClinicalTrials\",\"url\":\"https://clinicaltrials.gov/search?id=%22NCT00171860%22\"}],\"max_phase_for_ind\":\"2.0\",\"mesh_heading\":\"Hypereosinophilic Syndrome\",\"mesh_id\":\"D017681\"},{\"efo\":[{\"id\":\"MONDO:0011705\",\"term\":\"lymphangioleiomyomatosis\"}],\"first_approval\":2001,\"indication_refs\":[{\"ClinicalTrials\":\"NCT03131999\",\"id\":\"NCT03131999\",\"type\":\"ClinicalTrials\",\"url\":\"https://clinicaltrials.gov/search?term=NCT03131999\"}],\"max_phase_for_ind\":\"1.0\",\"mesh_heading\":\"Lymphangioleiomyomatosis\",\"mesh_id\":\"D018192\"},{\"efo\":[{\"id\":\"EFO:0009907\",\"term\":\"Desmoid-type fibromatosis\"}],\"first_approval\":2001,\"indication_refs\":[{\"ClinicalTrials\":\"NCT00928525\",\"id\":\"NCT00928525\",\"type\":\"ClinicalTrials\",\"url\":\"https://clinicaltrials.gov/search?id=%22NCT00928525%22\"},{\"ClinicalTrials\":\"NCT00287846\",\"id\":\"NCT00287846\",\"type\":\"ClinicalTrials\",\"url\":\"https://clinicaltrials.gov/search?id=%22NCT00287846%22\"}],\"max_phase_for_ind\":\"2.0\",\"mesh_heading\":\"Fibromatosis, Aggressive\",\"mesh_id\":\"D018222\"},{\"efo\":[{\"id\":\"MONDO:0011934\",\"term\":\"dermatofibrosarcoma protuberans\"}],\"first_approval\":2001,\"indication_refs\":[{\"ClinicalTrials\":\"NCT00084630\",\"id\":\"NCT00084630\",\"type\":\"ClinicalTrials\",\"url\":\"https://clinicaltrials.gov/search?id=%22NCT00084630%22\"},{\"ClinicalTrials\":\"NCT00243191\",\"id\":\"NCT00243191\",\"type\":\"ClinicalTrials\",\"url\":\"https://clinicaltrials.gov/search?id=%22NCT00243191%22\"}],\"max_phase_for_ind\":\"2.0\",\"mesh_heading\":\"Dermatofibrosarcoma\",\"mesh_id\":\"D018223\"},{\"efo\":[{\"id\":\"EFO:1001465\",\"term\":\"gliosarcoma\"}],\"first_approval\":2001,\"indication_refs\":[{\"ClinicalTrials\":\"NCT00615927\",\"id\":\"NCT00615927\",\"type\":\"ClinicalTrials\",\"url\":\"https://clinicaltrials.gov/search?id=%22NCT00615927%22\"},{\"ClinicalTrials\":\"NCT00354913\",\"id\":\"NCT00354913\",\"type\":\"ClinicalTrials\",\"url\":\"https://clinicaltrials.gov/search?id=%22NCT00354913%22\"}],\"max_phase_for_ind\":\"2.0\",\"mesh_heading\":\"Gliosarcoma\",\"mesh_id\":\"D018316\"},{\"efo\":[{\"id\":\"EFO:0000658\",\"term\":\"plexiform neurofibroma\"}],\"first_approval\":2001,\"indication_refs\":[{\"ClinicalTrials\":\"NCT03688568\",\"id\":\"NCT03688568\",\"type\":\"ClinicalTrials\",\"url\":\"https://clinicaltrials.gov/search?id=%22NCT03688568%22\"},{\"ClinicalTrials\":\"NCT02177825\",\"id\":\"NCT02177825\",\"type\":\"ClinicalTrials\",\"url\":\"https://clinicaltrials.gov/search?id=%22NCT02177825%22\"}],\"max_phase_for_ind\":\"2.0\",\"mesh_heading\":\"Neurofibroma, Plexiform\",\"mesh_id\":\"D018318\"},{\"efo\":[{\"id\":\"EFO:0006861\",\"term\":\"male breast carcinoma\"}],\"first_approval\":2001,\"indication_refs\":[{\"ClinicalTrials\":\"NCT00045188\",\"id\":\"NCT00045188\",\"type\":\"ClinicalTrials\",\"url\":\"https://clinicaltrials.gov/search?term=NCT00045188\"}],\"max_phase_for_ind\":\"2.0\",\"mesh_heading\":\"Breast Neoplasms, Male\",\"mesh_id\":\"D018567\"},{\"efo\":[{\"id\":\"MONDO:0100096\",\"term\":\"COVID-19\"}],\"first_approval\":2001,\"indication_refs\":[{\"ClinicalTrials\":\"NCT04488081\",\"id\":\"NCT04488081\",\"type\":\"ClinicalTrials\",\"url\":\"https://clinicaltrials.gov/search?term=NCT04488081\"}],\"max_phase_for_ind\":\"2.0\",\"mesh_heading\":\"Severe Acute Respiratory Syndrome\",\"mesh_id\":\"D045169\"},{\"efo\":[{\"id\":\"MONDO:0011719\",\"term\":\"gastrointestinal stromal tumor\"}],\"first_approval\":2001,\"indication_refs\":[{\"ClinicalTrials\":\"NCT00091078\",\"id\":\"NCT00091078\",\"type\":\"ClinicalTrials\",\"url\":\"https://clinicaltrials.gov/search?id=%22NCT00091078%22\"},{\"ClinicalTrials\":\"NCT00455559\",\"id\":\"NCT00455559\",\"type\":\"ClinicalTrials\",\"url\":\"https://clinicaltrials.gov/search?id=%22NCT00455559%22\"},{\"ClinicalTrials\":\"NCT00009906\",\"id\":\"NCT00009906\",\"type\":\"ClinicalTrials\",\"url\":\"https://clinicaltrials.gov/search?id=%22NCT00009906%22\"},{\"ClinicalTrials\":\"NCT01172548\",\"id\":\"NCT01172548\",\"type\":\"ClinicalTrials\",\"url\":\"https://clinicaltrials.gov/search?id=%22NCT01172548%22\"},{\"ClinicalTrials\":\"NCT00290485\",\"id\":\"NCT00290485\",\"type\":\"ClinicalTrials\",\"url\":\"https://clinicaltrials.gov/search?id=%22NCT00290485%22\"},{\"ClinicalTrials\":\"NCT00103168\",\"id\":\"NCT00103168\",\"type\":\"ClinicalTrials\",\"url\":\"https://clinicaltrials.gov/search?id=%22NCT00103168%22\"},{\"ClinicalTrials\":\"NCT00685828\",\"id\":\"NCT00685828\",\"type\":\"ClinicalTrials\",\"url\":\"https://clinicaltrials.gov/search?id=%22NCT00685828%22\"},{\"ClinicalTrials\":\"NCT02712112\",\"id\":\"NCT02712112\",\"type\":\"ClinicalTrials\",\"url\":\"https://clinicaltrials.gov/search?id=%22NCT02712112%22\"},{\"ClinicalTrials\":\"NCT00028002\",\"id\":\"NCT00028002\",\"type\":\"ClinicalTrials\",\"url\":\"https://clinicaltrials.gov/search?id=%22NCT00028002%22\"},{\"ClinicalTrials\":\"NCT00041197\",\"id\":\"NCT00041197\",\"type\":\"ClinicalTrials\",\"url\":\"https://clinicaltrials.gov/search?id=%22NCT00041197%22\"},{\"ClinicalTrials\":\"NCT01735968\",\"id\":\"NCT01735968\",\"type\":\"ClinicalTrials\",\"url\":\"https://clinicaltrials.gov/search?id=%22NCT01735968%22\"},{\"ClinicalTrials\":\"NCT01031628\",\"id\":\"NCT01031628\",\"type\":\"ClinicalTrials\",\"url\":\"https://clinicaltrials.gov/search?id=%22NCT01031628%22\"},{\"ClinicalTrials\":\"NCT02257541\",\"id\":\"NCT02257541\",\"type\":\"ClinicalTrials\",\"url\":\"https://clinicaltrials.gov/search?id=%22NCT02257541%22\"},{\"ClinicalTrials\":\"NCT00006357\",\"id\":\"NCT00006357\",\"type\":\"ClinicalTrials\",\"url\":\"https://clinicaltrials.gov/search?id=%22NCT00006357%22\"},{\"ClinicalTrials\":\"NCT00025246\",\"id\":\"NCT00025246\",\"type\":\"ClinicalTrials\",\"url\":\"https://clinicaltrials.gov/search?id=%22NCT00025246%22\"},{\"ClinicalTrials\":\"NCT00237185\",\"id\":\"NCT00237185\",\"type\":\"ClinicalTrials\",\"url\":\"https://clinicaltrials.gov/search?id=%22NCT00237185%22\"},{\"ClinicalTrials\":\"NCT05385549\",\"id\":\"NCT05385549\",\"type\":\"ClinicalTrials\",\"url\":\"https://clinicaltrials.gov/search?id=%22NCT05385549%22\"},{\"ClinicalTrials\":\"NCT00112632\",\"id\":\"NCT00112632\",\"type\":\"ClinicalTrials\",\"url\":\"https://clinicaltrials.gov/search?id=%22NCT00112632%22\"},{\"ClinicalTrials\":\"NCT00237172\",\"id\":\"NCT00237172\",\"type\":\"ClinicalTrials\",\"url\":\"https://clinicaltrials.gov/search?id=%22NCT00237172%22\"},{\"ClinicalTrials\":\"NCT04006769\",\"id\":\"NCT04006769\",\"type\":\"ClinicalTrials\",\"url\":\"https://clinicaltrials.gov/search?id=%22NCT04006769%22\"},{\"ClinicalTrials\":\"NCT00372567\",\"id\":\"NCT00372567\",\"type\":\"ClinicalTrials\",\"url\":\"https://clinicaltrials.gov/search?id=%22NCT00372567%22\"},{\"ClinicalTrials\":\"NCT00573404\",\"id\":\"NCT00573404\",\"type\":\"ClinicalTrials\",\"url\":\"https://clinicaltrials.gov/search?id=%22NCT00573404%22\"},{\"ClinicalTrials\":\"NCT01267695\",\"id\":\"NCT01267695\",\"type\":\"ClinicalTrials\",\"url\":\"https://clinicaltrials.gov/search?id=%22NCT01267695%22\"},{\"ClinicalTrials\":\"NCT00956072\",\"id\":\"NCT00956072\",\"type\":\"ClinicalTrials\",\"url\":\"https://clinicaltrials.gov/search?id=%22NCT00956072%22\"},{\"ClinicalTrials\":\"NCT01468688\",\"id\":\"NCT01468688\",\"type\":\"ClinicalTrials\",\"url\":\"https://clinicaltrials.gov/search?id=%22NCT01468688%22\"},{\"ClinicalTrials\":\"NCT00135005\",\"id\":\"NCT00135005\",\"type\":\"ClinicalTrials\",\"url\":\"https://clinicaltrials.gov/search?id=%22NCT00135005%22\"},{\"ClinicalTrials\":\"NCT00293124\",\"id\":\"NCT00293124\",\"type\":\"ClinicalTrials\",\"url\":\"https://clinicaltrials.gov/search?id=%22NCT00293124%22\"},{\"ClinicalTrials\":\"NCT00441155\",\"id\":\"NCT00441155\",\"type\":\"ClinicalTrials\",\"url\":\"https://clinicaltrials.gov/search?id=%22NCT00441155%22\"},{\"ClinicalTrials\":\"NCT01483014\",\"id\":\"NCT01483014\",\"type\":\"ClinicalTrials\",\"url\":\"https://clinicaltrials.gov/search?id=%22NCT01483014%22\"},{\"ClinicalTrials\":\"NCT00324987\",\"id\":\"NCT00324987\",\"type\":\"ClinicalTrials\",\"url\":\"https://clinicaltrials.gov/search?id=%22NCT00324987%22\"},{\"ClinicalTrials\":\"NCT00867113\",\"id\":\"NCT00867113\",\"type\":\"ClinicalTrials\",\"url\":\"https://clinicaltrials.gov/search?id=%22NCT00867113%22\"},{\"ClinicalTrials\":\"NCT00500188\",\"id\":\"NCT00500188\",\"type\":\"ClinicalTrials\",\"url\":\"https://clinicaltrials.gov/search?id=%22NCT00500188%22\"}],\"max_phase_for_ind\":\"3.0\",\"mesh_heading\":\"Gastrointestinal Stromal Tumors\",\"mesh_id\":\"D046152\"},{\"efo\":[{\"id\":\"MONDO:0000870\",\"term\":\"childhood acute lymphoblastic leukemia\"},{\"id\":\"EFO:0000220\",\"term\":\"acute lymphoblastic leukemia\"},{\"id\":\"MONDO:0000873\",\"term\":\"lymphoblastic lymphoma\"}],\"first_approval\":2001,\"indication_refs\":[{\"ClinicalTrials\":\"NCT01222013\",\"id\":\"NCT01222013\",\"type\":\"ClinicalTrials\",\"url\":\"https://clinicaltrials.gov/search?id=%22NCT01222013%22\"},{\"ClinicalTrials\":\"NCT03023046\",\"id\":\"NCT03023046\",\"type\":\"ClinicalTrials\",\"url\":\"https://clinicaltrials.gov/search?id=%22NCT03023046%22\"},{\"ClinicalTrials\":\"NCT00154349\",\"id\":\"NCT00154349\",\"type\":\"ClinicalTrials\",\"url\":\"https://clinicaltrials.gov/search?id=%22NCT00154349%22\"},{\"ClinicalTrials\":\"NCT01312818\",\"id\":\"NCT01312818\",\"type\":\"ClinicalTrials\",\"url\":\"https://clinicaltrials.gov/search?id=%22NCT01312818%22\"},{\"ClinicalTrials\":\"NCT00022737\",\"id\":\"NCT00022737\",\"type\":\"ClinicalTrials\",\"url\":\"https://clinicaltrials.gov/search?term=NCT00022737\"},{\"ClinicalTrials\":\"NCT00388895\",\"id\":\"NCT00388895\",\"type\":\"ClinicalTrials\",\"url\":\"https://clinicaltrials.gov/search?id=%22NCT00388895%22\"},{\"ClinicalTrials\":\"NCT03023046\",\"id\":\"NCT03023046\",\"type\":\"ClinicalTrials\",\"url\":\"https://clinicaltrials.gov/search?term=NCT03023046\"}],\"max_phase_for_ind\":\"3.0\",\"mesh_heading\":\"Precursor Cell Lymphoblastic Leukemia-Lymphoma\",\"mesh_id\":\"D054198\"},{\"efo\":[{\"id\":\"MONDO:0044917\",\"term\":\"T-lymphoblastic lymphoma\"}],\"first_approval\":2001,\"indication_refs\":[{\"ClinicalTrials\":\"NCT02538926\",\"id\":\"NCT02538926\",\"type\":\"ClinicalTrials\",\"url\":\"https://clinicaltrials.gov/search?term=NCT02538926\"}],\"max_phase_for_ind\":\"2.0\",\"mesh_heading\":\"Precursor T-Cell Lymphoblastic Leukemia-Lymphoma\",\"mesh_id\":\"D054218\"},{\"efo\":[{\"id\":\"EFO:1001814\",\"term\":\"nephrogenic fibrosing dermopathy\"}],\"first_approval\":2001,\"indication_refs\":[{\"ClinicalTrials\":\"NCT00981942\",\"id\":\"NCT00981942\",\"type\":\"ClinicalTrials\",\"url\":\"https://clinicaltrials.gov/search?id=%22NCT00981942%22\"},{\"ClinicalTrials\":\"NCT00677092\",\"id\":\"NCT00677092\",\"type\":\"ClinicalTrials\",\"url\":\"https://clinicaltrials.gov/search?id=%22NCT00677092%22\"}],\"max_phase_for_ind\":\"3.0\",\"mesh_heading\":\"Nephrogenic Fibrosing Dermopathy\",\"mesh_id\":\"D054989\"},{\"efo\":[{\"id\":\"EFO:0000768\",\"term\":\"idiopathic pulmonary fibrosis\"}],\"first_approval\":2001,\"indication_refs\":[{\"ClinicalTrials\":\"NCT00131274\",\"id\":\"NCT00131274\",\"type\":\"ClinicalTrials\",\"url\":\"https://clinicaltrials.gov/search?term=NCT00131274\"}],\"max_phase_for_ind\":\"2.0\",\"mesh_heading\":\"Idiopathic Pulmonary Fibrosis\",\"mesh_id\":\"D054990\"},{\"efo\":[{\"id\":\"EFO:0002430\",\"term\":\"primary myelofibrosis\"}],\"first_approval\":2001,\"indication_refs\":[{\"ClinicalTrials\":\"NCT00088231\",\"id\":\"NCT00088231\",\"type\":\"ClinicalTrials\",\"url\":\"https://clinicaltrials.gov/search?term=NCT00088231\"}],\"max_phase_for_ind\":\"1.0\",\"mesh_heading\":\"Primary Myelofibrosis\",\"mesh_id\":\"D055728\"},{\"efo\":[{\"id\":\"EFO:0000702\",\"term\":\"small cell lung carcinoma\"}],\"first_approval\":2001,\"indication_refs\":[{\"ClinicalTrials\":\"NCT00052949\",\"id\":\"NCT00052949\",\"type\":\"ClinicalTrials\",\"url\":\"https://clinicaltrials.gov/search?id=%22NCT00052949%22\"},{\"ClinicalTrials\":\"NCT00156286\",\"id\":\"NCT00156286\",\"type\":\"ClinicalTrials\",\"url\":\"https://clinicaltrials.gov/search?id=%22NCT00156286%22\"}],\"max_phase_for_ind\":\"2.0\",\"mesh_heading\":\"Small Cell Lung Carcinoma\",\"mesh_id\":\"D055752\"},{\"efo\":[{\"id\":\"EFO:0004683\",\"term\":\"wet macular degeneration\"}],\"first_approval\":2001,\"indication_refs\":[{\"ClinicalTrials\":\"NCT00403156\",\"id\":\"NCT00403156\",\"type\":\"ClinicalTrials\",\"url\":\"https://clinicaltrials.gov/search?term=NCT00403156\"}],\"max_phase_for_ind\":\"1.0\",\"mesh_heading\":\"Wet Macular Degeneration\",\"mesh_id\":\"D057135\"},{\"efo\":[{\"id\":\"MONDO:0008315\",\"term\":\"prostate cancer\"}],\"first_approval\":2001,\"indication_refs\":[{\"ClinicalTrials\":\"NCT00038194\",\"id\":\"NCT00038194\",\"type\":\"ClinicalTrials\",\"url\":\"https://clinicaltrials.gov/search?id=%22NCT00038194%22\"},{\"ClinicalTrials\":\"NCT00084825\",\"id\":\"NCT00084825\",\"type\":\"ClinicalTrials\",\"url\":\"https://clinicaltrials.gov/search?id=%22NCT00084825%22\"},{\"ClinicalTrials\":\"NCT00251225\",\"id\":\"NCT00251225\",\"type\":\"ClinicalTrials\",\"url\":\"https://clinicaltrials.gov/search?id=%22NCT00251225%22\"},{\"ClinicalTrials\":\"NCT00500110\",\"id\":\"NCT00500110\",\"type\":\"ClinicalTrials\",\"url\":\"https://clinicaltrials.gov/search?id=%22NCT00500110%22\"},{\"ClinicalTrials\":\"NCT00427999\",\"id\":\"NCT00427999\",\"type\":\"ClinicalTrials\",\"url\":\"https://clinicaltrials.gov/search?id=%22NCT00427999%22\"},{\"ClinicalTrials\":\"NCT00080678\",\"id\":\"NCT00080678\",\"type\":\"ClinicalTrials\",\"url\":\"https://clinicaltrials.gov/search?id=%22NCT00080678%22\"}],\"max_phase_for_ind\":\"2.0\",\"mesh_heading\":\"Prostatic Neoplasms, Castration-Resistant\",\"mesh_id\":\"D064129\"}]}}]')\n"
     ]
    },
    {
     "name": "stderr",
     "output_type": "stream",
     "text": [
      "1451it [00:02, 879.09it/s]"
     ]
    },
    {
     "name": "stdout",
     "output_type": "stream",
     "text": [
      "Err Pandas(Index=1229, query='/v1/chem/DB00001?fields=drugbank', status=200.0, response='[{\"_id\":\"FIBJDTSHOUXTKV-BRHMIFOHSA-N\",\"_version\":1,\"drugbank\":{\"_license\":\"https://bit.ly/3Hikpvm\",\"accession_number\":[\"BTD00024\",\"BIOD00024\"],\"cas\":\"138068-37-8\",\"id\":\"DB00001\",\"inchi_key\":\"\",\"name\":\"Lepirudin\",\"synonyms\":[\"[Leu1, Thr2]-63-desulfohirudin\",\"Desulfatohirudin\",\"Hirudin variant-1\",\"Lepirudin\",\"Lepirudin recombinant\",\"R-hirudin\"],\"unii\":\"Y43GF64R34\"}},{\"_id\":\"XYWBJDRHGNULKG-OUMQNGNKSA-N\",\"_version\":1,\"drugbank\":{\"_license\":\"https://bit.ly/3Hikpvm\",\"accession_number\":[\"\"],\"cas\":\"120993-53-5\",\"id\":\"DB11095\",\"inchi_key\":\"\",\"name\":\"Desirudin\",\"synonyms\":[\"63-Desulfohirudin\",\"63-Desulfohirudin (Hirudo Medicinalis Isoform HV1)\",\"63-Desulfohirudin (recombinant)\",\"Desirudin\",\"Desirudin recombinant\",\"Desirudina\",\"Hirudin desirudin\"],\"unii\":\"U0JZ726775\"}},{\"_id\":\"CHEMBL1201662\",\"_version\":1},{\"_id\":\"CHEMBL1201666\",\"_version\":1},{\"_id\":\"OTQCKZUSUGYWBD-BRHMIFOHSA-N\",\"_version\":1}]')\n",
      "Err Pandas(Index=1232, query='/v1/chem/DB00619?fields=drugbank', status=200.0, response='[{\"_id\":\"KTUFNOKKBVMGRW-UHFFFAOYSA-N\",\"_version\":1,\"drugbank\":{\"_license\":\"https://bit.ly/3Hikpvm\",\"accession_number\":[\"APRD01028\",\"EXPT02967\",\"DB03261\"],\"cas\":\"152459-95-5\",\"id\":\"DB00619\",\"inchi_key\":\"KTUFNOKKBVMGRW-UHFFFAOYSA-N\",\"name\":\"Imatinib\",\"synonyms\":[\"Imatinib\",\"Imatinibum\",\"α-(4-methyl-1-piperazinyl)-3\\'-((4-(3-pyridyl)-2-pyrimidinyl)amino)-p-toluidide\"],\"unii\":\"BKJ8M8G5HI\"}},{\"_id\":\"YLMAHDNUQAMNNX-UHFFFAOYSA-N\",\"_version\":1}]')\n"
     ]
    },
    {
     "name": "stderr",
     "output_type": "stream",
     "text": [
      "1825it [00:03, 497.66it/s]\n"
     ]
    }
   ],
   "source": [
    "pos_df = create_query_labels(res_df)   "
   ]
  },
  {
   "cell_type": "code",
   "execution_count": 56,
   "id": "59b71fc8-0e95-4bbe-863f-e4f52d6884a7",
   "metadata": {},
   "outputs": [],
   "source": [
    "pos_df.to_csv(\"data/logs/mychem_hits.csv\", index=False)"
   ]
  },
  {
   "cell_type": "code",
   "execution_count": null,
   "id": "41ec51d7-9db1-4fd6-a42f-f1a97678edce",
   "metadata": {},
   "outputs": [],
   "source": [
    "fetch_url(HOST_NAME + \"/v3/query?\" + \"q=ensemblgene:ENSG00000105376 AND HGNC:5348\")"
   ]
  },
  {
   "cell_type": "markdown",
   "id": "b35ca814-925d-4b53-8629-b1cbdeeb0923",
   "metadata": {},
   "source": [
    "## Part 2: Generating instruction-query pairs from a bigger LLM"
   ]
  },
  {
   "cell_type": "code",
   "execution_count": 1,
   "id": "c3bb2646-d94e-494e-9cda-02e36bdaeeea",
   "metadata": {},
   "outputs": [],
   "source": [
    "import os\n",
    "\n",
    "from llama_cpp import Llama, LLAMA_SPLIT_MODE_NONE, LlamaGrammar\n",
    "import pandas as pd\n",
    "from tqdm import tqdm\n",
    "import json"
   ]
  },
  {
   "cell_type": "code",
   "execution_count": null,
   "id": "b044e7e5-359c-40a5-be7a-e8ca70ed9950",
   "metadata": {
    "scrolled": true
   },
   "outputs": [
    {
     "name": "stderr",
     "output_type": "stream",
     "text": [
      "llama_model_loader: additional 1 GGUFs metadata loaded.\n",
      "llama_model_loader: loaded meta data with 44 key-value pairs and 724 tensors from /home/atubati/vendor/weights_llama3.1/Llama-3.1-Nemotron-70B-Instruct-HF-Q6_K/Llama-3.1-Nemotron-70B-Instruct-HF-Q6_K-00001-of-00002.gguf (version GGUF V3 (latest))\n",
      "llama_model_loader: Dumping metadata keys/values. Note: KV overrides do not apply in this output.\n",
      "llama_model_loader: - kv   0:                       general.architecture str              = llama\n",
      "llama_model_loader: - kv   1:                               general.type str              = model\n",
      "llama_model_loader: - kv   2:                               general.name str              = Llama 3.1 70B Instruct\n",
      "llama_model_loader: - kv   3:                       general.organization str              = Meta Llama\n",
      "llama_model_loader: - kv   4:                           general.finetune str              = Instruct\n",
      "llama_model_loader: - kv   5:                           general.basename str              = Llama-3.1\n",
      "llama_model_loader: - kv   6:                         general.size_label str              = 70B\n",
      "llama_model_loader: - kv   7:                            general.license str              = llama3.1\n",
      "llama_model_loader: - kv   8:                   general.base_model.count u32              = 1\n",
      "llama_model_loader: - kv   9:                  general.base_model.0.name str              = Llama 3.1 70B Instruct\n",
      "llama_model_loader: - kv  10:          general.base_model.0.organization str              = Meta Llama\n",
      "llama_model_loader: - kv  11:              general.base_model.0.repo_url str              = https://huggingface.co/meta-llama/Lla...\n",
      "llama_model_loader: - kv  12:                               general.tags arr[str,3]       = [\"nvidia\", \"llama3.1\", \"text-generati...\n",
      "llama_model_loader: - kv  13:                          general.languages arr[str,1]       = [\"en\"]\n",
      "llama_model_loader: - kv  14:                           general.datasets arr[str,1]       = [\"nvidia/HelpSteer2\"]\n",
      "llama_model_loader: - kv  15:                          llama.block_count u32              = 80\n",
      "llama_model_loader: - kv  16:                       llama.context_length u32              = 131072\n",
      "llama_model_loader: - kv  17:                     llama.embedding_length u32              = 8192\n",
      "llama_model_loader: - kv  18:                  llama.feed_forward_length u32              = 28672\n",
      "llama_model_loader: - kv  19:                 llama.attention.head_count u32              = 64\n",
      "llama_model_loader: - kv  20:              llama.attention.head_count_kv u32              = 8\n",
      "llama_model_loader: - kv  21:                       llama.rope.freq_base f32              = 500000.000000\n",
      "llama_model_loader: - kv  22:     llama.attention.layer_norm_rms_epsilon f32              = 0.000010\n",
      "llama_model_loader: - kv  23:                 llama.attention.key_length u32              = 128\n",
      "llama_model_loader: - kv  24:               llama.attention.value_length u32              = 128\n",
      "llama_model_loader: - kv  25:                          general.file_type u32              = 18\n",
      "llama_model_loader: - kv  26:                           llama.vocab_size u32              = 128256\n",
      "llama_model_loader: - kv  27:                 llama.rope.dimension_count u32              = 128\n",
      "llama_model_loader: - kv  28:                       tokenizer.ggml.model str              = gpt2\n",
      "llama_model_loader: - kv  29:                         tokenizer.ggml.pre str              = llama-bpe\n",
      "llama_model_loader: - kv  30:                      tokenizer.ggml.tokens arr[str,128256]  = [\"!\", \"\\\"\", \"#\", \"$\", \"%\", \"&\", \"'\", ...\n",
      "llama_model_loader: - kv  31:                  tokenizer.ggml.token_type arr[i32,128256]  = [1, 1, 1, 1, 1, 1, 1, 1, 1, 1, 1, 1, ...\n",
      "llama_model_loader: - kv  32:                      tokenizer.ggml.merges arr[str,280147]  = [\"Ġ Ġ\", \"Ġ ĠĠĠ\", \"ĠĠ ĠĠ\", \"...\n",
      "llama_model_loader: - kv  33:                tokenizer.ggml.bos_token_id u32              = 128000\n",
      "llama_model_loader: - kv  34:                tokenizer.ggml.eos_token_id u32              = 128009\n",
      "llama_model_loader: - kv  35:                    tokenizer.chat_template str              = {{- bos_token }}\\n{%- if custom_tools ...\n",
      "llama_model_loader: - kv  36:               general.quantization_version u32              = 2\n",
      "llama_model_loader: - kv  37:                      quantize.imatrix.file str              = /models_out/Llama-3.1-Nemotron-70B-In...\n",
      "llama_model_loader: - kv  38:                   quantize.imatrix.dataset str              = /training_dir/calibration_datav3.txt\n",
      "llama_model_loader: - kv  39:             quantize.imatrix.entries_count i32              = 560\n",
      "llama_model_loader: - kv  40:              quantize.imatrix.chunks_count i32              = 125\n",
      "llama_model_loader: - kv  41:                                   split.no u16              = 0\n",
      "llama_model_loader: - kv  42:                                split.count u16              = 2\n",
      "llama_model_loader: - kv  43:                        split.tensors.count i32              = 724\n",
      "llama_model_loader: - type  f32:  162 tensors\n",
      "llama_model_loader: - type q6_K:  562 tensors\n",
      "llm_load_vocab: special tokens cache size = 256\n",
      "llm_load_vocab: token to piece cache size = 0.7999 MB\n",
      "llm_load_print_meta: format           = GGUF V3 (latest)\n",
      "llm_load_print_meta: arch             = llama\n",
      "llm_load_print_meta: vocab type       = BPE\n",
      "llm_load_print_meta: n_vocab          = 128256\n",
      "llm_load_print_meta: n_merges         = 280147\n",
      "llm_load_print_meta: vocab_only       = 0\n",
      "llm_load_print_meta: n_ctx_train      = 131072\n",
      "llm_load_print_meta: n_embd           = 8192\n",
      "llm_load_print_meta: n_layer          = 80\n",
      "llm_load_print_meta: n_head           = 64\n",
      "llm_load_print_meta: n_head_kv        = 8\n",
      "llm_load_print_meta: n_rot            = 128\n",
      "llm_load_print_meta: n_swa            = 0\n",
      "llm_load_print_meta: n_embd_head_k    = 128\n",
      "llm_load_print_meta: n_embd_head_v    = 128\n",
      "llm_load_print_meta: n_gqa            = 8\n",
      "llm_load_print_meta: n_embd_k_gqa     = 1024\n",
      "llm_load_print_meta: n_embd_v_gqa     = 1024\n",
      "llm_load_print_meta: f_norm_eps       = 0.0e+00\n",
      "llm_load_print_meta: f_norm_rms_eps   = 1.0e-05\n",
      "llm_load_print_meta: f_clamp_kqv      = 0.0e+00\n",
      "llm_load_print_meta: f_max_alibi_bias = 0.0e+00\n",
      "llm_load_print_meta: f_logit_scale    = 0.0e+00\n",
      "llm_load_print_meta: n_ff             = 28672\n",
      "llm_load_print_meta: n_expert         = 0\n",
      "llm_load_print_meta: n_expert_used    = 0\n",
      "llm_load_print_meta: causal attn      = 1\n",
      "llm_load_print_meta: pooling type     = 0\n",
      "llm_load_print_meta: rope type        = 0\n",
      "llm_load_print_meta: rope scaling     = linear\n",
      "llm_load_print_meta: freq_base_train  = 500000.0\n",
      "llm_load_print_meta: freq_scale_train = 1\n",
      "llm_load_print_meta: n_ctx_orig_yarn  = 131072\n",
      "llm_load_print_meta: rope_finetuned   = unknown\n",
      "llm_load_print_meta: ssm_d_conv       = 0\n",
      "llm_load_print_meta: ssm_d_inner      = 0\n",
      "llm_load_print_meta: ssm_d_state      = 0\n",
      "llm_load_print_meta: ssm_dt_rank      = 0\n",
      "llm_load_print_meta: ssm_dt_b_c_rms   = 0\n",
      "llm_load_print_meta: model type       = 70B\n",
      "llm_load_print_meta: model ftype      = Q6_K\n",
      "llm_load_print_meta: model params     = 70.55 B\n",
      "llm_load_print_meta: model size       = 53.91 GiB (6.56 BPW) \n",
      "llm_load_print_meta: general.name     = Llama 3.1 70B Instruct\n",
      "llm_load_print_meta: BOS token        = 128000 '<|begin_of_text|>'\n",
      "llm_load_print_meta: EOS token        = 128009 '<|eot_id|>'\n",
      "llm_load_print_meta: LF token         = 128 'Ä'\n",
      "llm_load_print_meta: EOT token        = 128009 '<|eot_id|>'\n",
      "llm_load_print_meta: EOM token        = 128008 '<|eom_id|>'\n",
      "llm_load_print_meta: EOG token        = 128008 '<|eom_id|>'\n",
      "llm_load_print_meta: EOG token        = 128009 '<|eot_id|>'\n",
      "llm_load_print_meta: max token length = 256\n",
      "ggml_cuda_init: GGML_CUDA_FORCE_MMQ:    no\n",
      "ggml_cuda_init: GGML_CUDA_FORCE_CUBLAS: no\n",
      "ggml_cuda_init: found 2 CUDA devices:\n",
      "  Device 0: NVIDIA RTX A6000, compute capability 8.6, VMM: yes\n",
      "  Device 1: Tesla V100-PCIE-32GB, compute capability 7.0, VMM: yes\n",
      "llm_load_tensors: ggml ctx size =    1.02 MiB\n"
     ]
    }
   ],
   "source": [
    "llm = Llama(\n",
    "    model_path=os.path.expanduser(\"/home/atubati/vendor/weights_llama3.1/Llama-3.1-Nemotron-70B-Instruct-HF-Q6_K/Llama-3.1-Nemotron-70B-Instruct-HF-Q6_K-00001-of-00002.gguf\"),\n",
    "    n_gpu_layers=-1, # Uncomment to use GPU acceleration\n",
    "    # seed=1337, # Uncomment to set a specific seed\n",
    "    n_ctx=16384, # Uncomment to increase the context window\n",
    "    # split_mode=LLAMA_SPLIT_MODE_NONE  # Uncomment to use single-GPU\n",
    ")"
   ]
  },
  {
   "cell_type": "code",
   "execution_count": 3,
   "id": "6cc0e91b-7edf-404a-8178-7047bb03b1c4",
   "metadata": {},
   "outputs": [
    {
     "data": {
      "text/plain": [
       "(4208,)"
      ]
     },
     "execution_count": 3,
     "metadata": {},
     "output_type": "execute_result"
    }
   ],
   "source": [
    "# data = pd.read_csv(\"data/one_year_unique_sig.csv\")[\"log.path\"].values\n",
    "data = pd.read_csv(\"data/logs/mygene_hits.csv\")[\"query\"].values\n",
    "data.shape"
   ]
  },
  {
   "cell_type": "code",
   "execution_count": 5,
   "id": "3a363d60-559c-4ca1-ae82-64f6df15a2d7",
   "metadata": {},
   "outputs": [],
   "source": [
    "from langchain_community.vectorstores import FAISS\n",
    "from langchain_huggingface import HuggingFaceEmbeddings\n",
    "\n",
    "embedding_model_name = 'Snowflake/snowflake-arctic-embed-l'\n",
    "model_kwargs = {\"device\": \"cuda:0\"}\n",
    "embeddings = HuggingFaceEmbeddings(model_name=embedding_model_name, model_kwargs=model_kwargs)\n",
    "\n",
    "vectorstore = FAISS.load_local(folder_path=\"data/rag\", index_name=\"faiss_index\", embeddings=embeddings, allow_dangerous_deserialization=True)\n",
    "retriever = vectorstore.as_retriever(search_kwargs={\"k\": 160})  # 160 to accommodate 10 pairs\n",
    "\n",
    "def process_retrieved_docs(doc_batches):\n",
    "    return [\"\\n\\n\".join([doc.page_content for doc in doc_batch]) for doc_batch in doc_batches]"
   ]
  },
  {
   "cell_type": "code",
   "execution_count": 6,
   "id": "873af593-d269-4ee7-ab63-7fe9cab041a3",
   "metadata": {},
   "outputs": [],
   "source": [
    "with open(\"data/prompts/datagen_prompt.md\") as fd:\n",
    "    base_prompt = fd.read()\n",
    "\n",
    "with open(\"gene_query_docs.txt\") as doc_fd:\n",
    "    docs = doc_fd.read()\n",
    "\n",
    "# with open(\"data/original/compact_desc_with_context.csv\") as desc_fd:\n",
    "#     description = desc_fd.read()"
   ]
  },
  {
   "cell_type": "code",
   "execution_count": 7,
   "id": "9f70c1f3-d4f0-4ee4-b7e0-77ca87ccfe9a",
   "metadata": {},
   "outputs": [],
   "source": [
    "output_schema = {\n",
    "                    \"type\": \"object\",\n",
    "                    \"properties\": {\n",
    "                        \"instructions\": {\n",
    "                            \"type\": \"array\",\n",
    "                            \"items\": {\n",
    "                                \"type\": \"object\",\n",
    "                                \"properties\": {\n",
    "                                    # \"query\": {\"type\": \"string\"},\n",
    "                                    \"description\": {\"type\": \"string\"},\n",
    "                                    \"instruction\": {\"type\": \"string\"}\n",
    "                                },\n",
    "                                \"required\": [\"description\", \"instruction\"]\n",
    "                            }\n",
    "                        }\n",
    "                    },\n",
    "                    \"required\": [\"instructions\"]\n",
    "                }"
   ]
  },
  {
   "cell_type": "code",
   "execution_count": null,
   "id": "6196154a-f16f-4416-acbb-b04258dc1be1",
   "metadata": {
    "scrolled": true
   },
   "outputs": [
    {
     "name": "stderr",
     "output_type": "stream",
     "text": [
      "  0%|                                                                     | 0/421 [00:00<?, ?it/s]"
     ]
    },
    {
     "name": "stdout",
     "output_type": "stream",
     "text": [
      "You need to generate instructions for API queries, which will be paired with each query to fine-tune a smaller LLM assistant. For each of the 10 provided queries, describe what the user is aiming to accomplish with the query. Then, create a concise instruction that would lead the smaller LLM to generate that exact query.\n",
      "\n",
      "Please follow these requirements:\n",
      "\n",
      "1. Output strictly in JSON format with two fields: \"description\" and \"instruction\".\n",
      "2. Ensure all instructions are in clear, professional English.\n",
      "3. Use varied and precise verbs in the descriptions and instructions to enhance the model's generalization abilities. This is crucial!\n",
      "4. Instructions must be suitable for a small language model, so avoid any actions or requests it cannot fulfill, such as setting alarms or producing non-text outputs.\n",
      "5. Limit each instruction to a single sentence.\n",
      "\n",
      "Here are the 10 API queries, one per line:\n",
      "/v3/query?q=ensembl.gene:ENSG00000001497&fields=transcripts\n",
      "/v3/query?q=symbol:DAND5\n",
      "/v3/query?q=symbol:PANDAR\n",
      "/v3/query?q=symbol:HAND2-AS1\n",
      "/v3/query?q=symbol:SCAND3\n",
      "/v3/query?q=symbol:HAND1\n",
      "/v3/query?q=CAND2&scopes=hgnc&species=human&fields=symbol,alias,name,type_of_gene,summary,genomic_pos,genomic_pos_hg19\n",
      "/v3/query/?fields=hits&q=HAND2\n",
      "/v3/query/?fields=hits&q=HAND1\n",
      "/v3/query/?fields=hits&q=CAND2 accession.rna - This field includes a list of text entries indicating the GenBank accession numbers for RNA sequences pertaining to the gene or feature.\n",
      "\n",
      "ensembl.transcript - This field contains an array of strings representing the unique Ensembl stable identifiers for transcripts of a gene. Each identifier corresponds to a specific RNA sequence processed from the gene’s DNA.\n",
      "\n",
      "alias - This field is a keyword that provides alternative names or symbols commonly used to refer to the gene or feature.\n",
      "\n",
      "generif.pubmed - This field contains an array of long integers with references to PubMed articles, where gene-related functional insights (GeneRIFs) or specific discussions of a gene's function have been documented.\n",
      "\n",
      "genomic_pos.chr - The chromosome number on which the gene is located, specified as a keyword or string.\n",
      "\n",
      "map_location - Text information indicating the cytogenetic location of a gene on a chromosome, often formatted to include details like band number and arm (e.g., q13.2 for chromosome 12).\n",
      "\n",
      "wikipathways - Text field containing information or identifiers related to the gene in WikiPathways, a resource for biological pathways curated by the community.\n",
      "\n",
      "locus_tag - A keyword used to uniquely identify a gene locus within a specific genome, often used in genomic databases to track genes across different databases and annotations.\n",
      "\n",
      "reagent.GNF_hs-ORFeome1_1_reads.relationship - Describes the functional or experimental relationship of the ORFeome reads to other genomic elements, captured as text to facilitate complex relationship mapping.\n",
      "\n",
      "accession.genomic - This field contains a list of text entries representing the GenBank accession numbers for genomic sequences related to the gene or feature.\n",
      "\n",
      "reporter.HTA-2_0 - This field contains an identifier for a probe set used in the HTA-2_0 microarray platform, which is tailored for transcriptome-level expression analysis in humans.\n",
      "\n",
      "biocarta - This field contains text data referencing pathways or identifiers in BioCarta, which offers information on biological pathways and systems.\n",
      "\n",
      "genomic_pos_hg19.chr - The chromosome number for the gene using the human genome assembly version GRCh37/hg19.\n",
      "\n",
      "entrezgene - This field contains a string representing the unique identifier assigned by NCBI's Entrez Gene database. It is used to uniquely identify genes in this centralized resource.\n",
      "\n",
      "humancyc - A textual identifier or description linking to the HumanCyc database, which provides information about the human biochemical pathways and genome.\n",
      "\n",
      "reporter.EquGene-1_0 - This field contains an identifier for a probe set used in the EquGene-1_0 microarray platform.\n",
      "\n",
      "genomic_pos.end - The ending position of the gene on the chromosome, represented as a long integer.\n",
      "\n",
      "genomic_pos.start - The starting position of the gene on the chromosome, represented as a long integer.\n",
      "\n",
      "ensembl.gene - The Ensembl identifier for the gene, which is a unique reference used to describe the gene in the Ensembl database.\n",
      "\n",
      "summary - A detailed textual description summarizing the role, function, and relevance of a particular gene or protein in biological processes.\n",
      "\n",
      "go.BP.pubmed - A long integer representing the PubMed ID(s) of publication(s) that provide evidence for the gene's involvement in the specified biological process. These are references to scientific literature.\n",
      "\n",
      "go.BP.evidence - Codes indicating the evidence supporting the association of a gene with a particular biological process in the GO database. This evidence can include experimental, computational, author statements, etc.\n",
      "\n",
      "go.CC.evidence - Codes indicating the evidence supporting the association of a gene with a particular cellular component in the GO database. This evidence can include experimental, computational, author statements, etc.\n",
      "\n",
      "genomic_pos_hg19.start - The starting position of the gene on the chromosome using the GRCh37/hg19 human genome assembly, as a long integer.\n",
      "\n",
      "genomic_pos_mm9.chr - The chromosome number for the gene using the mouse genome assembly version mm9.\n",
      "\n",
      "generif.text - A description of a gene function derived from scientific literature, may include free text such as the fact that specific proteins shuttle between cellular compartments.\n",
      "\n",
      "genomic_pos_hg19.end - The ending position of the gene on the chromosome using the GRCh37/hg19 human genome assembly, as a long integer.\n",
      "\n",
      "Vega - This field stores text data referencing the identifier in the Vega Genome Browser, which is a resource for annotated vertebrate and other eukaryotic genomes.\n",
      "\n",
      "reagent.Invitrogen_IVTHSSIPKv2.id - Unique identifier for an Invitrogen siRNA reagent from the IVTHSSIPKv2 collection.\n",
      "\n",
      "AllianceGenome - A unique identifier from the Alliance of Genome Resources database, which integrates data from several model organism databases.\n",
      "\n",
      "reporter.GuiGene-1_0 - This field contains an identifier for a probe set used in the GuiGene-1_0 microarray platform.\n",
      "\n",
      "reporter.Mouse430_2 - This field likely refers to a specific microarray platform for mouse gene expression analysis, possibly by Affymetrix, characterized by a unique identifier representing a probe or probeset used for measuring the expression level of specific genes.\n",
      "\n",
      "reporter.EleGene-1_0 - This field contains an identifier for a probe set used in the EleGene-1_0 microarray platform.\n",
      "\n",
      "pid - A text field holding an identifier that likely links to a pathway identifier database which maps biological processes, potentially linked as a reference to specific pathways.\n",
      "\n",
      "reporter.GNF1M - This field contains an identifier for a probe set used in the GNF1M microarray platform, which is associated with gene expression profiling.\n",
      "\n",
      "exac.transcript - This field contains a string providing the stable identifier for a specific transcript of a gene in the ExAC database, signifying a particular spliced RNA product from the gene.\n",
      "\n",
      "TAIR - This field contains a keyword representing the identifier from The Arabidopsis Information Resource, a database for the model organism Arabidopsis thaliana.\n",
      "\n",
      "symbol - The official abbreviated identifier or symbol for a gene, often used for quick reference and consistent labeling across databases.\n",
      "\n",
      "smpdb - A textual field that may contain data related to the Small Molecule Pathway Database, which provides information on metabolic and signaling pathways.\n",
      "\n",
      "genomic_pos_hg19.strand - The DNA strand (1 or -1) of the gene location based on the GRCh37/hg19 human genome assembly.\n",
      "\n",
      "SGD - A unique identifier from the Saccharomyces Genome Database, which provides genomic information on the budding yeast, Saccharomyces cerevisiae.\n",
      "\n",
      "reagent.GNF_Qia_hs-genome_v1_siRNA.relationship - Details the relationship or interaction of the siRNA with other biological entities, stored as text to encapsulate descriptive narratives of its biological effects or purposes.\n",
      "\n",
      "reagent.GNF_hs-GPCR_IDT-siRNA.id - Identifies a specific siRNA targeting GPCRs within the GNF_hs-GPCR_IDT-siRNA library, preserved as a keyword field to allow precise reference matching.\n",
      "\n",
      "exac.n_exons - This field contains an integer representing the total number of exons present in a gene's transcript as listed in the ExAC database. Exons are the coding regions that are expressed in the mRNA.\n",
      "\n",
      "reagent.GNF_mm-kinase_lenti-shRNA.id - Unique identifier for a lentiviral shRNA reagent targeting mouse kinase genes in the GNF library.\n",
      "\n",
      "Xenbase - This field includes a keyword representing the identifier in Xenbase, a model organism database for Xenopus biology and genomics.\n",
      "\n",
      "reporter.FelGene-1_0 - This field contains an identifier for a probe set used in the FelGene-1_0 microarray platform.\n",
      "\n",
      "miRBase - A keyword identifier from the miRBase database, which is a resource for microRNA sequences and annotations.\n",
      "\n",
      "reporter.GNF1H - This field contains an identifier for a probe set used in the GNF1H microarray platform, which is associated with gene expression profiling.\n",
      "\n",
      "ensembl.protein - This field contains an array of strings representing the unique Ensembl stable identifiers for protein sequences associated with a gene. These identifiers help in tracking protein isoforms corresponding to specific transcription events.\n",
      "\n",
      "MIM - A unique identifier from the Online Mendelian Inheritance in Man database, a comprehensive and authoritative compendium of human genes and genetic phenotypes.\n",
      "\n",
      "WormBase - This field holds a keyword that identifies a gene or other feature in WormBase, a database dedicated to the biology and genomics of Caenorhabditis elegans and related nematodes.\n",
      "\n",
      "interpro.short_desc - A concise textual description of a protein domain from the InterPro database, summarizing its feature or function.\n",
      "\n",
      "go.MF.term - The textual description of a molecular function as defined in the Gene Ontology database, represented as text.\n",
      "\n",
      "reagent.NOVART_hs-genome_siRNA.relationship - Specifies the experimental relationship or effect of the siRNA reagent within the NOVART human genome project, indicating its target or usage.\n",
      "\n",
      "pantherdb.Gene_Name - The standard name of the gene as recorded in the PANTHER database, used for consistent identification across different studies and databases.\n",
      "\n",
      "reagent.GNF_hs-oncomine_IDT-siRNA.relationship - Describes how the siRNA is related to the overall function or objective of the study, possibly specifying its target interaction or mechanism of action within oncogenic pathways.\n",
      "\n",
      "reporter.RJpGene-1_0 - This field suggests a probe set identifier associated with the RJpGene 1.0 platform, potentially utilized for gene expression studies in a particular species or research setting.\n",
      "\n",
      "reagent.Qiagen_mouse_QMIHSMIMv1.relationship - Details the experimental relationship or effect of the microRNA mimic reagent in Qiagen mouse studies, specifying how it modulates gene expression or pathways.\n",
      "\n",
      "reporter.HG-U133_Plus_2 - This field contains an identifier for a probe set used in the HG-U133_Plus_2 microarray platform from Affymetrix, which is widely used for transcriptome profiling of human samples.\n",
      "\n",
      "reagent.GNF_hs-druggable_siRNA.relationship - Details the role or purpose of the siRNA within the experiment, such as its interaction or role in the process it influences or regulates.\n",
      "\n",
      "reagent.GNF_hs-GPCR_IDT-siRNA.relationship - Defines the nature of interaction or connection that the siRNA has with GPCRs or other biological components, saved as text for rich, descriptive content.\n",
      "\n",
      "other_names - Alternative names or synonyms for the gene or protein that may be used in different studies or databases.\n",
      "\n",
      "go.BP.id - A unique keyword identifier for a biological process term in the Gene Ontology, which provides a standardized description of processes in which a gene product is involved.\n",
      "\n",
      "reagent.GNF_hs-druggable_lenti-shRNA.id - A unique identifier for a lentivirus-delivered short hairpin RNA (shRNA) targeting human druggable genome sequences.\n",
      "\n",
      "name - The primary name of the gene or protein as recognized in scientific databases.\n",
      "\n",
      "accession.protein - This field holds a list of text entries for GenBank accession numbers associated with protein sequences related to the gene or feature.\n",
      "\n",
      "go.CC.term - The textual description of a cellular component as defined in the Gene Ontology database, represented as text.\n",
      "\n",
      "reagent.GNF_hs-pkinase_IDT-siRNA.relationship - Indicates the association or mechanism of the siRNA in modulating or regulating protein kinase activity within a biological or experimental setup.\n",
      "\n",
      "pantherdb.ortholog.Ensembl - This field contains ortholog identifiers from Ensembl, a genomic information resource that provides information about the genomes of various eukaryotic species.\n",
      "\n",
      "reporter.HuEx-1_0 - Identifier for a probe on the Affymetrix Human Exon 1.0 ST Array, which is used for comprehensive coverage of the human transcriptome at the exon level.\n",
      "\n",
      "taxid - The taxonomic identifier for the organism associated with the gene, typically representing a specific species. It is a numeric identifier assigned by databases like NCBI.\n",
      "\n",
      "reporter.snowball - A keyword field typically indicating a specific subset or category within a larger dataset, possibly associated with a specialized analysis or experiment.\n",
      "\n",
      "HGNC - A unique identifier provided by the HUGO Gene Nomenclature Committee, which assigns standardized gene symbols and names to human genes.\n",
      "\n",
      "yeastcyc - Text field containing information or identifiers specific to YeastCyc, a database of metabolic pathways and enzymes in yeast, relevant to the gene.\n",
      "\n",
      "reporter.RG-U34A - Pertains to a specific Affymetrix GeneChip designed for rat genome analysis; the identifier represents a probe set used for transcript level detection across the RG-U34A microarray platform.\n",
      "\n",
      "wikipedia.url_stub - A text field containing the stub of the URL for the Wikipedia page related to the gene or protein, used to easily build a full URL to access more information.\n",
      "\n",
      "reactome - A text field that contains identifiers or descriptions from the Reactome database, a curated database of pathways and reactions in human biology, aiming to elucidate biological processes at the molecular level.\n",
      "\n",
      "reagent.GNF_hs-druggable_siRNA.id - A unique identifier for a small interfering RNA (siRNA) designed to target human druggable genome sequences.\n",
      "\n",
      "pathway.biocarta.id - Text identifier for a specific biological pathway in the BioCarta database, used to map genes to known biological processes.\n",
      "\n",
      "pantherdb.Gene - An identifier used within the PANTHER database that relates to a specific gene reference.\n",
      "\n",
      "pantherdb.ortholog.EnsemblGenome - This field contains ortholog identifiers from Ensembl Genomes, which focuses on non-vertebrate species.\n",
      "\n",
      "go.BP.term - The text name of a specific biological process as defined in the Gene Ontology, describing processes in which a gene product is involved.\n",
      "\n",
      "reagent.GNF_mm-kinase_plasmid-shRNA.id - Unique identifier for a plasmid-based shRNA reagent targeting mouse kinase genes in the GNF library.\n",
      "\n",
      "kegg - A text field containing information from the KEGG (Kyoto Encyclopedia of Genes and Genomes) database, which includes data on pathways, complex systems, genes, and chemical substances.\n",
      "\n",
      "reagent.GNF_hs-druggable_plasmid-shRNA.id - A unique identifier for a plasmid-delivered short hairpin RNA (shRNA) targeting human druggable genome sequences.\n",
      "\n",
      "reporter.CyRGene-1_0 - A keyword indicating the reporter probe set identifier specific to the CyRGene-1_0 microarray platform. This identifier represents an individual probe used to detect gene expression.\n",
      "\n",
      "reporter.RheGene-1_0 - Unique identifier for a probe set on the RheGene-1_0 microarray platform, designed for gene expression analysis in rhesus macaque studies.\n",
      "\n",
      "go.MF.evidence - A code representing the type of evidence supporting the annotation of this molecular function in the Gene Ontology, represented as text.\n",
      "\n",
      "reagent.GNF_mm-TLR_lenti_shRNA.id - Unique identifier for a lentiviral shRNA reagent targeting mouse TLR (Toll-like receptor) genes in the GNF library.\n",
      "\n",
      "reporter.HG-U95Av2 - This field contains an identifier for a probe set used in the HG-U95Av2 microarray platform, another Affymetrix array for gene expression analysis.\n",
      "\n",
      "pharmgkb - A unique identifier from the PharmGKB database, which encompasses information regarding how variations in genes affect a person's response to drugs, aimed at researchers and clinicians working in pharmacogenomics and personalized medicine.\n",
      "\n",
      "reporter.HG-U95B - This field contains an identifier for a probe set used in the HG-U95B microarray platform, which is part of the Affymetrix HG-U95 set designed for transcript analysis.\n",
      "\n",
      "refseq.rna - A list of RefSeq accession numbers corresponding to the RNA sequences, typically mRNA. These identifiers are used to reference the specific version of the RNA sequence in the NCBI Reference Sequence Database.\n",
      "\n",
      "pir - A keyword identifier from the Protein Information Resource (PIR), which holds data related to protein sequences and functional information, serving as a key resource for protein classification and annotation.\n",
      "\n",
      "reporter.RUSGene-1_0 - Identifies a particular probe or reporter set on the RUSGene 1.0 platform, likely employed for expression analysis in a specific research or clinical context, possibly focusing on Russian or Eurasian models.\n",
      "\n",
      "reagent.IDT_27mer_hs_ATPase_siRNAs.relationship - Descriptive relationship field indicating the type of biological interaction or association the siRNA reagent targeting ATPase genes has within the IDT library.\n",
      "\n",
      "unigene - An identifier for the UniGene cluster associated with the gene, representing a set of related sequences meant to be a non-redundant set of transcripts.\n",
      "\n",
      "type_of_gene - A keyword indicating the category of the gene, such as 'protein-coding', 'rRNA', 'snRNA', etc. It describes the functional classification of the gene.\n",
      "\n",
      "pantherdb.PomBase - The identifier for this gene within the PomBase database, which focuses on the model organism Schizosaccharomyces pombe (fission yeast).\n",
      "\n",
      "go.CC.id - A unique identifier for a cellular component in the Gene Ontology (GO) database, represented as a keyword.\n",
      "\n",
      "exac.bp - This field contains an integer denoting the base pair length of the sequenced exon in the Exome Aggregation Consortium (ExAC) database. It is useful for genomic mapping and variant analysis.\n",
      "\n",
      "reagent.GNF_mm-GIPZ_shRNA.id - This field contains the unique identifier for the GNF_mm-GIPZ_shRNA reagent. It identifies a specific GIPZ short hairpin RNA (shRNA) used for gene silencing studies in mouse models.\n",
      "\n",
      "RGD - A unique identifier from the Rat Genome Database, which is dedicated to providing rat genomic data and related biological information for research.\n",
      "\n",
      "clingen.clinical_validity.disease_label - The textual name or label of the disease associated with the gene being evaluated for clinical validity.\n",
      "\n",
      "mousecyc - A textual identifier or description linking to the MouseCyc database, a repository of metabolic pathways and information specific to the mouse genome.\n",
      "\n",
      "ZFIN - This field contains a keyword referring to the entry in ZFIN, the Zebrafish Model Organism Database that provides genetic and genomic data for the zebrafish (Danio rerio).\n",
      "\n",
      "go.MF.pubmed - A reference to related scientific publications in the PubMed database associated with the molecular function term, represented as a long integer.\n",
      "\n",
      "reporter.MTA-1_0 - Identifier for a probe on the Affymetrix Mouse Transcriptome Array 1.0, allowing for analysis of mouse transcriptome with specific targeting of known transcripts.\n",
      "\n",
      "reporter.SoyGene-1_0 - Unique identifier for a probe set on the SoyGene-1_0 microarray platform, used for assessing gene expression in soybean samples.\n",
      "\n",
      "go.CC.pubmed - A reference to related scientific publications in the PubMed database associated with the cellular component term, represented as a long integer.\n",
      "\n",
      "reporter.PorGene-1_0 - This field denotes a specific reporter or probe set identifier used in the Porcine Genome 1.0 array platform, which is designed to measure gene expression in pig samples.\n",
      "\n",
      "reporter.HuGene-2_1 - Identifier for a probe on the Affymetrix Human Gene 2.1 ST Array, which allows for detailed examination of gene expression with updated genome annotations.\n",
      "\n",
      "interpro.desc - Detailed text description of a protein domain as identified by the InterPro database, which integrates predictive models or 'signatures' representing protein domains, families and functional sites.\n",
      "\n",
      "reagent.CondMedia_CM_LibrAB.relationship - Describes the relationship between the media and the biological process or entity it is involved with, stored as a text field to capture potentially complex descriptive analysis.\n",
      "\n",
      "reagent.NOVART_hs-genome_siRNA.id - A unique identifier for small interfering RNA reagents from NOVART targeting the human genome, used to silence specific genes in research studies.\n",
      "\n",
      "reagent.IDT_27mer_hs_ATPase_siRNAs.id - Unique identifier for a 27-mer siRNA reagent targeting human ATPase genes, provided by IDT (Integrated DNA Technologies).\n",
      "\n",
      "reporter.MoEx-1_0 - Identifier for a probe on the Affymetrix Mouse Exon 1.0 ST Array, aimed at providing comprehensive coverage of the mouse transcriptome at the exon level.\n",
      "\n",
      "MGI - An identifier from the Mouse Genome Informatics database, which provides data on the genetics, genomics, and biology of the laboratory mouse.\n",
      "\n",
      "pfam - A unique identifier for a protein family from the Pfam database, which provides functional information on the structure and function of protein families based on sequence alignments and hidden Markov models.\n",
      "\n",
      "reagent.MasterSecretomicsList.relationship - Describes the type of relationship or functional association the reagent has within the MasterSecretomicsList context, indicative of its usage or role in experiments.\n",
      "\n",
      "reporter.RaGene-2_1 - It signifies a probe set on the RaGene-2.1 platform, which likely provides enhanced or more detailed expression profiling capabilities compared to the previous versions in rat research studies.\n",
      "\n",
      "reporter.RabGene-1_0 - Unique identifier for a probe set on the RabGene-1_0 microarray platform, used for measuring gene expression in biological samples.\n",
      "\n",
      "pathway.humancyc.id - Text identifier for a pathway in the HumanCyc database, detailing the metabolic pathway or biochemical process related to human genes.\n",
      "\n",
      "reagent.CM-LibrX-no-seq.relationship - A textual descriptor capturing the relationship or role the specific reagent plays within a biological context or experiment, serving as metadata for understanding usage without sequence information.\n",
      "\n",
      "reagent.Qiagen_mouse_QMIHSINHIBv1.relationship - Describes the inhibitory relationship or effect that the reagent has in the context of Qiagen's mouse studies, providing insight into its biological function.\n",
      "\n",
      "reporter.HuGene-1_1 - Identifier for a probe on the Affymetrix Human Gene 1.1 ST Array, providing a way to analyze gene expression patterns across the entire human genome.\n",
      "\n",
      "reporter.ZebGene-1_0 - Unique identifier for a probe set on the ZebGene-1_0 microarray platform, suited for zebrafish gene expression research.\n",
      "\n",
      "HPRD - A unique identifier from the Human Protein Reference Database, a resource for exploring the protein-protein interactions of human proteins.\n",
      "\n",
      "reagent.GNF_mm-kinase_plasmid-shRNA.relationship - Descriptive relationship field indicating the type of biological interaction or association the plasmid-based shRNA reagent targeting kinase genes has within the GNF library.\n",
      "\n",
      "reporter.ChiGene-1_0 - A keyword indicating the reporter probe set identifier specific to the ChiGene-1_0 microarray platform. This identifier represents an individual probe used to detect gene expression in chicken species.\n",
      "\n",
      "reagent.GNF_mm-kinase_lenti-shRNA.relationship - Descriptive relationship field indicating the type of biological interaction or association the lentiviral shRNA reagent targeting kinase genes has within the GNF library.\n",
      "\n",
      "go.MF.id - A unique identifier for a molecular function in the Gene Ontology (GO) database, represented as a keyword.\n",
      "\n",
      "umls.cui - A unique concept identifier from the Unified Medical Language System (UMLS) that links the gene to a specific concept in biomedical literature.\n",
      "\n",
      "reporter.CanGene-1_0 - A keyword indicating the reporter probe set identifier specific to the CanGene-1_0 microarray platform. This identifier represents an individual probe used to detect gene expression in canine species.\n",
      "\n",
      "reporter.CynGene-1_0 - A keyword indicating the reporter probe set identifier specific to the CynGene-1_0 microarray platform. This identifier represents an individual probe used to detect gene expression in cynomolgus macaque.\n",
      "\n",
      "reagent.Invitrogen_IVTHSSIPKv2.relationship - Descriptive relationship field indicating the type of biological interaction or association the siRNA reagent from the Invitrogen IVTHSSIPKv2 collection has within the study.\n",
      "\n",
      "exac.cds_start - This field contains an integer indicating the start position of the coding sequence (CDS) on the chromosome for a gene as captured in the ExAC database, delineating where the coding region begins.\n",
      "\n",
      "pantherdb.ortholog.Gene_Name - The official name of the gene as recognized by a standardized nomenclature authority.\n",
      "\n",
      "pantherdb.ortholog.GeneCards - This field contains ortholog linkages to GeneCards, a comprehensive database of human genes that provides genomic, proteomic, transcriptomic, genetic and functional information.\n",
      "\n",
      "reagent.GNF_hs-pkinase_IDT-siRNA.id - A unique identifier for a small interfering RNA (siRNA) from Integrated DNA Technologies aimed at targeting human protein kinases.\n",
      "\n",
      "homologene.genes - A reference to related genes in the HomoloGene database, represented as a long integer.\n",
      "\n",
      "ipi - A keyword identifier from the International Protein Index (IPI), historically used to provide a centralized source for protein sequences.\n",
      "\n",
      "reagent.GNF_hs-ORFeome1_1_reads.id - A unique identifier for reads from the GNF human ORFeome version 1.1 library, categorized as a keyword to support efficient data retrieval.\n",
      "\n",
      "ensembl.type_of_gene - This field contains a string indicating the classification of the gene according to the Ensembl database. Common classifications include \"\"protein_coding,\"\" \"\"noncoding,\"\" \"\"pseudogene,\"\" etc., describing the gene's function or lack thereof.\n",
      "\n",
      "pathway.mousecyc.id - A unique identifier for the pathway in the MouseCyc database, which includes information about metabolic and signaling pathways in Mus musculus (mouse).\n",
      "\n",
      "reporter.Rat230_2 - Unique identifier for a probe set on the Rat230_2 microarray platform, often used for rat species gene expression profiling.\n",
      "\n",
      "pathway.humancyc.name - The name of the pathway in the HumanCyc database, which provides detailed pathway/genome databases for Homo sapiens and supports high-level analysis of biological pathways.\n",
      "\n",
      "reporter.RCnGene-1_0 - This represents a reporter or probe set identifier utilized in the Rcngene 1.0 array system, which is likely used for expression profiling in a specific organism or group, possibly related to rodents or rat models.\n",
      "\n",
      "pathway.reactome.id - The identifier for a biological pathway in the Reactome database that is associated with the gene or protein.\n",
      "\n",
      "reagent.GNF_hs-Origene.relationship - This field details the link or association between the Origene reagents and other genetic elements or processes, stored as a text field to allow comprehensive explanations.\n",
      "\n",
      "reagent.MasterSecretomicsList.id - A unique identifier for entries in the MasterSecretomicsList database, which catalogs various reagents related to secretomics.\n",
      "\n",
      "reagent.GNF_hs_LentiORF-HA-MYC.id - This field contains the unique identifier for the reagent GNF_hs_LentiORF-HA-MYC. It is a keyword that uniquely identifies the lentiviral ORF clone tagged with HA-MYC used in experiments or databases.\n",
      "\n",
      "reagent.GNF_mm-TLR_lenti_shRNA.relationship - Descriptive relationship field indicating the type of biological interaction or association the shRNA reagent targeting TLR (Toll-like receptor) genes has within the GNF library.\n",
      "\n",
      "reporter.RaEx-1_0 - Refers to a probe set identifier in the Agilent RaEx-1.0 platform, which is often used for exonic gene expression profiling, likely in rat or similar species models.\n",
      "\n",
      "reagent.Qiagen_mouse_QMIHSMIMv1.id - A unique identifier for Qiagen's mouse microRNA mimics, version 1 (QMIHSMIMv1), used in research to mimic the function of endogenous microRNAs in mice.\n",
      "\n",
      "reagent.GNF_Qia_hs-genome_v1_siRNA.id - The identifier for an siRNA reagent from the GNF_Qia human genome version 1 library, stored as a keyword to ensure unambiguous identification across databases.\n",
      "\n",
      "exac.cds_end - This field contains an integer indicating the end position of the coding sequence (CDS) on the chromosome for a gene as recorded in the ExAC database, helping to define the precise location of genetic elements.\n",
      "\n",
      "reporter.MoGene-1_1 - Identifier for a probe on the Affymetrix Mouse Gene 1.1 ST Array, which is employed for gene-level expression analysis in mouse studies.\n",
      "\n",
      "pantherdb.dictyBase - This field contains identifiers that reference entries in dictyBase, which is a database for the model organism Dictyostelium discoideum, providing genetic and genomic information.\n"
     ]
    },
    {
     "name": "stderr",
     "output_type": "stream",
     "text": [
      "CUDA error: out of memory\n",
      "  current device: 1, in function alloc at /tmp/pip-install-5jh73lxy/llama-cpp-python_154b89b9064e4f7295e5b6693d8361d9/vendor/llama.cpp/ggml/src/ggml-cuda.cu:380\n",
      "  cuMemCreate(&handle, reserve_size, &prop, 0)\n",
      "/tmp/pip-install-5jh73lxy/llama-cpp-python_154b89b9064e4f7295e5b6693d8361d9/vendor/llama.cpp/ggml/src/ggml-cuda.cu:106: CUDA error\n",
      "huggingface/tokenizers: The current process just got forked, after parallelism has already been used. Disabling parallelism to avoid deadlocks...\n",
      "To disable this warning, you can either:\n",
      "\t- Avoid using `tokenizers` before the fork if possible\n",
      "\t- Explicitly set the environment variable TOKENIZERS_PARALLELISM=(true | false)\n"
     ]
    }
   ],
   "source": [
    "file_name = \"data/ft/mygene_inst_query_pairs.csv\"\n",
    "\n",
    "BATCH_SIZE = 10  # NOTE: change in prompt also if changed\n",
    "for idx in tqdm(range(0, len(data), BATCH_SIZE)):\n",
    "    prompt = f\"{base_prompt}\\n\" + \"\\n\".join(data[idx:(idx + BATCH_SIZE)])\n",
    "    context = process_retrieved_docs(retriever.batch([prompt]))[0]\n",
    "\n",
    "    if idx == 0:\n",
    "        print(prompt, context)\n",
    "\n",
    "    output = llm.create_chat_completion(\n",
    "        messages=[\n",
    "            {\"role\": \"system\", \"content\": f\"\\nUse the documentation and schema to complete the user-given task. Docs: {docs}\\n\\nSchema: {context}\"},\n",
    "            {\"role\": \"user\", \"content\": prompt},\n",
    "        ],\n",
    "        # grammar=query_grammar\n",
    "        response_format={\n",
    "            \"type\": \"json_object\",\n",
    "            \"schema\": output_schema\n",
    "        },\n",
    "    )\n",
    "\n",
    "    resp = json.loads(output[\"choices\"][0][\"message\"][\"content\"])\n",
    "    pd.DataFrame(resp[\"instructions\"]).to_csv(file_name, mode=\"a\", index=False, header=not os.path.exists(file_name))"
   ]
  },
  {
   "cell_type": "code",
   "execution_count": null,
   "id": "d563d3ae-b124-43a2-a468-e77179dd5640",
   "metadata": {},
   "outputs": [],
   "source": [
    "resp = json.loads(output[\"choices\"][0][\"message\"][\"content\"])"
   ]
  },
  {
   "cell_type": "code",
   "execution_count": null,
   "id": "b575da6f-ab8e-415a-90b0-8c2407995913",
   "metadata": {},
   "outputs": [],
   "source": [
    "len(resp[\"instructions\"])"
   ]
  },
  {
   "cell_type": "code",
   "execution_count": null,
   "id": "e5f701ad-a6bc-4c53-a3ec-e58251bd6521",
   "metadata": {},
   "outputs": [],
   "source": [
    "resp[\"instructions\"]"
   ]
  },
  {
   "cell_type": "code",
   "execution_count": null,
   "id": "7fb32f51-9c88-49c4-8c7e-4e21a3f73014",
   "metadata": {},
   "outputs": [],
   "source": [
    "file_name = \"data/ft/inst_query_pairs.csv\"\n",
    "pd.DataFrame(resp[\"instructions\"]).to_csv(file_name, mode=\"a\", index=False, header=not os.path.exists(file_name))"
   ]
  },
  {
   "cell_type": "code",
   "execution_count": null,
   "id": "0107c132-fd4c-4c9e-9f52-7dc056d8a9f7",
   "metadata": {},
   "outputs": [],
   "source": []
  }
 ],
 "metadata": {
  "kernelspec": {
   "display_name": "Python 3 (ipykernel)",
   "language": "python",
   "name": "python3"
  },
  "language_info": {
   "codemirror_mode": {
    "name": "ipython",
    "version": 3
   },
   "file_extension": ".py",
   "mimetype": "text/x-python",
   "name": "python",
   "nbconvert_exporter": "python",
   "pygments_lexer": "ipython3",
   "version": "3.12.3"
  }
 },
 "nbformat": 4,
 "nbformat_minor": 5
}
