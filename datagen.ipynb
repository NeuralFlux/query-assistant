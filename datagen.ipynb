{
 "cells": [
  {
   "cell_type": "markdown",
   "id": "90596ce3-27ce-4bee-b4b5-71910277fcbc",
   "metadata": {},
   "source": [
    "## Part 1: Filtering data"
   ]
  },
  {
   "cell_type": "code",
   "execution_count": 3,
   "id": "67d812d6-1d87-4a16-a14f-c9241dded726",
   "metadata": {},
   "outputs": [],
   "source": [
    "from collections import OrderedDict\n",
    "import re\n",
    "\n",
    "import polars as pl\n",
    "from urllib import parse"
   ]
  },
  {
   "cell_type": "code",
   "execution_count": 14,
   "id": "fc15787a-e0c1-4c5a-8a98-edf3a4f30beb",
   "metadata": {},
   "outputs": [
    {
     "name": "stdout",
     "output_type": "stream",
     "text": [
      "ParseResult(scheme='', netloc='', path='/v3/query', params='', query='q=ensemblgene:7087ICAM51919p13.2protein-codingTLCNHGNC:5348ENSG00000105376', fragment='')\n",
      "/v3/query%3Fq%3Densemblgene%3A7087%09ICAM5%0919%0919p13.2%09protein-coding%09TLCN%09HGNC%3A5348%09ENSG00000105376?\n"
     ]
    }
   ],
   "source": [
    "ALLOWED_PARAMS = (\"q\", \"fields\", \"species\")  # need only these to test LLM initially\n",
    "OPS = [\"AND\", \"OR\", \"NOT\", \"(\", \")\", \"?\", \"*\", \"\\d+-\\d+\", '\"', \"~\", \"^\", \"TO\", \"+\"]  # most of ES ops\n",
    "\n",
    "def parse_encoded_uri(encoded_uri):\n",
    "    uri = parse.unquote(encoded_uri)\n",
    "    uri_components = parse.urlparse(uri)\n",
    "\n",
    "    path = uri_components.path.removesuffix(\"/\")\n",
    "    if not path.startswith(\"/v3\"):\n",
    "        path = None\n",
    "\n",
    "    return path, uri_components\n",
    "\n",
    "def filter_uri_params(encoded_uri):\n",
    "    path, uri_components = parse_encoded_uri(encoded_uri)\n",
    "    params = parse.parse_qsl(uri_components.query)\n",
    "\n",
    "    params = filter(lambda x: x[0] in ALLOWED_PARAMS, params)\n",
    "\n",
    "    # hacky use of unquote and quote, can be more efficient by iterating over params\n",
    "    return f\"{path}?{parse.unquote(parse.urlencode(list(params), quote_via=parse.quote))}\"\n",
    "\n",
    "def get_uri_signature(encoded_uri):\n",
    "    path, uri_components = parse_encoded_uri(encoded_uri)\n",
    "    params = parse.parse_qs(uri_components.query) # NOTE: qs vs qsl\n",
    "\n",
    "    # NOTE: we assume len(params[\"param\"]) == 1\n",
    "    # these are just rough filters\n",
    "    q_str = params[\"q\"][0] if \"q\" in params else \"\"\n",
    "    ops_pattern = re.compile(r'(' + '|'.join(map(re.escape, OPS)) + r')')\n",
    "    field_pattern = re.compile(r'([a-zA-Z\\._]+)\\d*:')\n",
    "\n",
    "    q_fields = field_pattern.findall(q_str)\n",
    "    q_ops = ops_pattern.findall(q_str)\n",
    "\n",
    "    fields = params[\"fields\"][0] if \"fields\" in params else \"\"\n",
    "    species = params[\"species\"][0] if \"species\" in params else \"\"\n",
    "    # take only /v3/query or /v3/gene from the path, then sort and join all other fields\n",
    "    sig = (\"/\".join(path.split(\"/\")[:3]), fields, ''.join(sorted(q_ops)), ''.join(sorted(q_fields)), ''.join(sorted(species)))\n",
    "    return tuple(map(lambda s: s.lower(), sig))\n",
    "\n",
    "print(get_uri_signature(\"/v3/gene/1023/?fields=symbol,entrezgene&q=(entrezgene:dipeptidyl%20peptidase%20%28DPP%29-4*)\"))\n",
    "print(get_uri_signature(\"/v3/query?species=human&q=chr3%3A108324182-108324285%3A%20\"))\n",
    "print(get_uri_signature(\"/v3/query/?species=human&fields=symbol&q=Feasibility+of+leadless+left+ventricular+septal+pacing+with+the+WiSE-CRT+system+to+target+the+left+bundle+branch+area:+A+porcine+model+and+multicenter+patient+experience\"))\n",
    "print(filter_uri_params(\"/v3/query/?species=human&fields=symbol&q=Feasibility+of+leadless+left+ventricular+septal+pacing+with+the+WiSE-CRT+system+to+target+the+left+bundle+branch+area:+A+porcine+model+and+multicenter+patient+experience\"))"
   ]
  },
  {
   "cell_type": "code",
   "execution_count": null,
   "id": "6cb30be2-55c6-4b3d-9033-ee0e8bc7e2f9",
   "metadata": {},
   "outputs": [],
   "source": [
    "encoded_uri = \"/v3/query/?fields=symbol,entrezgene&q=dipeptidyl%20peptidase%20%28DPP%29-4\"\n",
    "uri = parse.unquote(encoded_uri)\n",
    "uri_components = parse.urlparse(uri)\n",
    "parse.urlencode(parse.parse_qsl(uri_components.query), quote_via=parse.quote)"
   ]
  },
  {
   "cell_type": "code",
   "execution_count": null,
   "id": "903e0aac-0207-424f-8db3-1774b7124082",
   "metadata": {},
   "outputs": [],
   "source": [
    "parse.urlencode({'fields': 'symbol,entrezgene', 'q': 'dipeptidyl peptidase (DPP)-4'}, quote_via=parse.quote)"
   ]
  },
  {
   "cell_type": "code",
   "execution_count": null,
   "id": "657778f0-6a84-452a-aa41-c94a4d864e68",
   "metadata": {},
   "outputs": [],
   "source": [
    "path, uri_components = parse_encoded_uri(\"/v3/query?fields=symbol%2Centrezgene&q=1\")\n",
    "parse.parse_qs(uri_components.query)"
   ]
  },
  {
   "cell_type": "code",
   "execution_count": 7,
   "id": "1dbe97eb-9b7b-4d3c-8a4c-c8762d3dcbb0",
   "metadata": {},
   "outputs": [
    {
     "name": "stdout",
     "output_type": "stream",
     "text": [
      "INFO: Pandarallel will run on 24 workers.\n",
      "INFO: Pandarallel will use Memory file system to transfer data between the main process and workers.\n"
     ]
    }
   ],
   "source": [
    "import pandas as pd\n",
    "from pandarallel import pandarallel\n",
    "\n",
    "pandarallel.initialize(progress_bar=True, nb_workers=24)\n",
    "\n",
    "df = pd.read_csv(\"data/mygene_report_last_365_days.csv\")"
   ]
  },
  {
   "cell_type": "code",
   "execution_count": 8,
   "id": "c6cc6a4b-ec66-4d59-aa71-fd1b6b92989b",
   "metadata": {},
   "outputs": [
    {
     "data": {
      "text/html": [
       "<div>\n",
       "<style scoped>\n",
       "    .dataframe tbody tr th:only-of-type {\n",
       "        vertical-align: middle;\n",
       "    }\n",
       "\n",
       "    .dataframe tbody tr th {\n",
       "        vertical-align: top;\n",
       "    }\n",
       "\n",
       "    .dataframe thead th {\n",
       "        text-align: right;\n",
       "    }\n",
       "</style>\n",
       "<table border=\"1\" class=\"dataframe\">\n",
       "  <thead>\n",
       "    <tr style=\"text-align: right;\">\n",
       "      <th></th>\n",
       "      <th>log.path</th>\n",
       "    </tr>\n",
       "  </thead>\n",
       "  <tbody>\n",
       "    <tr>\n",
       "      <th>0</th>\n",
       "      <td>/v3/gene/558?fields=summary,symbol</td>\n",
       "    </tr>\n",
       "    <tr>\n",
       "      <th>1</th>\n",
       "      <td>/v3/gene/2047?fields=summary,symbol</td>\n",
       "    </tr>\n",
       "    <tr>\n",
       "      <th>2</th>\n",
       "      <td>/v3/gene/8438?fields=summary,symbol</td>\n",
       "    </tr>\n",
       "    <tr>\n",
       "      <th>3</th>\n",
       "      <td>/v3/gene/2064?fields=summary,symbol</td>\n",
       "    </tr>\n",
       "    <tr>\n",
       "      <th>4</th>\n",
       "      <td>/v3/gene/4609?fields=summary,symbol</td>\n",
       "    </tr>\n",
       "  </tbody>\n",
       "</table>\n",
       "</div>"
      ],
      "text/plain": [
       "                              log.path\n",
       "0   /v3/gene/558?fields=summary,symbol\n",
       "1  /v3/gene/2047?fields=summary,symbol\n",
       "2  /v3/gene/8438?fields=summary,symbol\n",
       "3  /v3/gene/2064?fields=summary,symbol\n",
       "4  /v3/gene/4609?fields=summary,symbol"
      ]
     },
     "execution_count": 8,
     "metadata": {},
     "output_type": "execute_result"
    }
   ],
   "source": [
    "df.head()"
   ]
  },
  {
   "cell_type": "code",
   "execution_count": 9,
   "id": "90375e0b-de00-4c30-a738-b583d4999c6f",
   "metadata": {
    "scrolled": true
   },
   "outputs": [
    {
     "data": {
      "application/vnd.jupyter.widget-view+json": {
       "model_id": "feef706295bd423180b3b9f695cf6070",
       "version_major": 2,
       "version_minor": 0
      },
      "text/plain": [
       "VBox(children=(HBox(children=(IntProgress(value=0, description='0.00%', max=1304447), Label(value='0 / 1304447…"
      ]
     },
     "metadata": {},
     "output_type": "display_data"
    }
   ],
   "source": [
    "# use new.path to construct query_sig\n",
    "# unquote log.path for easier parsing for the downstream LLM\n",
    "df[\"new.path\"] = df[\"log.path\"].parallel_apply(filter_uri_params)"
   ]
  },
  {
   "cell_type": "code",
   "execution_count": 10,
   "id": "f168e6ea-68ab-4e16-aaa5-f55aad70c3c6",
   "metadata": {
    "scrolled": true
   },
   "outputs": [
    {
     "data": {
      "application/vnd.jupyter.widget-view+json": {
       "model_id": "4516ae9202c54ee69a7a315a2ba0bf69",
       "version_major": 2,
       "version_minor": 0
      },
      "text/plain": [
       "VBox(children=(HBox(children=(IntProgress(value=0, description='0.00%', max=1304447), Label(value='0 / 1304447…"
      ]
     },
     "metadata": {},
     "output_type": "display_data"
    }
   ],
   "source": [
    "df[\"query_sig\"] = df[\"new.path\"].parallel_apply(get_uri_signature)"
   ]
  },
  {
   "cell_type": "code",
   "execution_count": 11,
   "id": "8d6a1320-37cc-4067-87c3-a511206c8c10",
   "metadata": {
    "scrolled": true
   },
   "outputs": [
    {
     "data": {
      "application/vnd.jupyter.widget-view+json": {
       "model_id": "946c58f158554d7580a1627051015ed3",
       "version_major": 2,
       "version_minor": 0
      },
      "text/plain": [
       "VBox(children=(HBox(children=(IntProgress(value=0, description='0.00%', max=1304447), Label(value='0 / 1304447…"
      ]
     },
     "metadata": {},
     "output_type": "display_data"
    }
   ],
   "source": [
    "df[\"log.path\"] = df[\"log.path\"].parallel_apply(parse.unquote)"
   ]
  },
  {
   "cell_type": "code",
   "execution_count": 12,
   "id": "c7419a7c-992c-4b62-97f3-82dceaa6ebd8",
   "metadata": {},
   "outputs": [],
   "source": [
    "pl_df = pl.from_pandas(df)\n",
    "grp = pl_df.group_by(\"query_sig\")\n",
    "filtered = grp.first()  # optionally get longest queries"
   ]
  },
  {
   "cell_type": "code",
   "execution_count": 15,
   "id": "eec64ee8-55ca-4eea-b14b-8fbc29120d9d",
   "metadata": {},
   "outputs": [],
   "source": [
    "# make np arrays render on single line in CSV\n",
    "import numpy as np\n",
    "np.set_printoptions(threshold=np.inf)\n",
    "np.set_printoptions(linewidth=np.inf)\n",
    "\n",
    "filtered.to_pandas().to_csv(\"one_year_unique_sig.csv\", index=False)"
   ]
  },
  {
   "cell_type": "markdown",
   "id": "b35ca814-925d-4b53-8629-b1cbdeeb0923",
   "metadata": {},
   "source": [
    "## Part 2: Generating instruction-query pairs from a bigger LLM"
   ]
  },
  {
   "cell_type": "code",
   "execution_count": 1,
   "id": "c3bb2646-d94e-494e-9cda-02e36bdaeeea",
   "metadata": {},
   "outputs": [],
   "source": [
    "import os\n",
    "\n",
    "from llama_cpp import Llama, LLAMA_SPLIT_MODE_NONE, LlamaGrammar\n",
    "import pandas as pd"
   ]
  },
  {
   "cell_type": "code",
   "execution_count": null,
   "id": "b044e7e5-359c-40a5-be7a-e8ca70ed9950",
   "metadata": {},
   "outputs": [],
   "source": [
    "llm = Llama(\n",
    "    model_path=os.path.expanduser(\"~/vendor/weights_llama3.1/Meta-Llama-3.1-70B-Instruct-Q4_K_L.gguf\"),\n",
    "    n_gpu_layers=-1, # Uncomment to use GPU acceleration\n",
    "    # seed=1337, # Uncomment to set a specific seed\n",
    "    n_ctx=2048, # Uncomment to increase the context window\n",
    "    # split_mode=LLAMA_SPLIT_MODE_NONE  # Uncomment to use single-GPU\n",
    ")"
   ]
  },
  {
   "cell_type": "code",
   "execution_count": 2,
   "id": "6cc0e91b-7edf-404a-8178-7047bb03b1c4",
   "metadata": {},
   "outputs": [
    {
     "data": {
      "text/html": [
       "<div>\n",
       "<style scoped>\n",
       "    .dataframe tbody tr th:only-of-type {\n",
       "        vertical-align: middle;\n",
       "    }\n",
       "\n",
       "    .dataframe tbody tr th {\n",
       "        vertical-align: top;\n",
       "    }\n",
       "\n",
       "    .dataframe thead th {\n",
       "        text-align: right;\n",
       "    }\n",
       "</style>\n",
       "<table border=\"1\" class=\"dataframe\">\n",
       "  <thead>\n",
       "    <tr style=\"text-align: right;\">\n",
       "      <th></th>\n",
       "      <th>query_sig</th>\n",
       "      <th>log.path</th>\n",
       "      <th>new.path</th>\n",
       "    </tr>\n",
       "  </thead>\n",
       "  <tbody>\n",
       "    <tr>\n",
       "      <th>0</th>\n",
       "      <td>['/v3/query' 'symbol' '' 'antipsychotics' 'ahm...</td>\n",
       "      <td>/v3/query/?species=human&amp;fields=symbol&amp;q=Cardi...</td>\n",
       "      <td>/v3/query?species=human&amp;fields=symbol&amp;q=Cardio...</td>\n",
       "    </tr>\n",
       "    <tr>\n",
       "      <th>1</th>\n",
       "      <td>['/v3/query' '' '' 'codingtlcnhgncensemblgene'...</td>\n",
       "      <td>/v3/query?q=ensemblgene:7087\\tICAM5\\t19\\t19p13...</td>\n",
       "      <td>/v3/query?q=ensemblgene:7087ICAM51919p13.2prot...</td>\n",
       "    </tr>\n",
       "    <tr>\n",
       "      <th>2</th>\n",
       "      <td>['/v3/query' '' '' 'ensemblgenepseudogeneglulp...</td>\n",
       "      <td>/v3/query?q=ensemblgene:392305\\tGLULP4\\t9\\t9p1...</td>\n",
       "      <td>/v3/query?q=ensemblgene:392305GLULP499p13.3pse...</td>\n",
       "    </tr>\n",
       "    <tr>\n",
       "      <th>3</th>\n",
       "      <td>['/v3/query' '' '' 'ensemblgeneotherpcdhgchgnc...</td>\n",
       "      <td>/v3/query?q=ensemblgene:56118\\tPCDHGCT\\t5\\t5q3...</td>\n",
       "      <td>/v3/query?q=ensemblgene:56118PCDHGCT55q31other...</td>\n",
       "    </tr>\n",
       "    <tr>\n",
       "      <th>4</th>\n",
       "      <td>['/v3/query' 'symbol' '()' 'e' 'ahmnu']</td>\n",
       "      <td>/v3/query/?species=human&amp;fields=symbol&amp;q=EMERG...</td>\n",
       "      <td>/v3/query?species=human&amp;fields=symbol&amp;q=EMERGI...</td>\n",
       "    </tr>\n",
       "  </tbody>\n",
       "</table>\n",
       "</div>"
      ],
      "text/plain": [
       "                                           query_sig  \\\n",
       "0  ['/v3/query' 'symbol' '' 'antipsychotics' 'ahm...   \n",
       "1  ['/v3/query' '' '' 'codingtlcnhgncensemblgene'...   \n",
       "2  ['/v3/query' '' '' 'ensemblgenepseudogeneglulp...   \n",
       "3  ['/v3/query' '' '' 'ensemblgeneotherpcdhgchgnc...   \n",
       "4            ['/v3/query' 'symbol' '()' 'e' 'ahmnu']   \n",
       "\n",
       "                                            log.path  \\\n",
       "0  /v3/query/?species=human&fields=symbol&q=Cardi...   \n",
       "1  /v3/query?q=ensemblgene:7087\\tICAM5\\t19\\t19p13...   \n",
       "2  /v3/query?q=ensemblgene:392305\\tGLULP4\\t9\\t9p1...   \n",
       "3  /v3/query?q=ensemblgene:56118\\tPCDHGCT\\t5\\t5q3...   \n",
       "4  /v3/query/?species=human&fields=symbol&q=EMERG...   \n",
       "\n",
       "                                            new.path  \n",
       "0  /v3/query?species=human&fields=symbol&q=Cardio...  \n",
       "1  /v3/query?q=ensemblgene:7087ICAM51919p13.2prot...  \n",
       "2  /v3/query?q=ensemblgene:392305GLULP499p13.3pse...  \n",
       "3  /v3/query?q=ensemblgene:56118PCDHGCT55q31other...  \n",
       "4  /v3/query?species=human&fields=symbol&q=EMERGI...  "
      ]
     },
     "execution_count": 2,
     "metadata": {},
     "output_type": "execute_result"
    }
   ],
   "source": [
    "data = pd.read_csv(\"data/one_year_unique_sig.csv\")[\"\"]\n",
    "df.head()"
   ]
  },
  {
   "cell_type": "code",
   "execution_count": null,
   "id": "d563d3ae-b124-43a2-a468-e77179dd5640",
   "metadata": {},
   "outputs": [],
   "source": [
    "output = llm.create_chat_completion(\n",
    "    messages=[\n",
    "        # {\"role\": \"system\", \"content\": f\"You are an expert in computational biology. Read the following documentation for further use. {docs}\"},\n",
    "        {\"role\": \"system\", \"content\": f\"You are an expert in computational biology. Using your experience, summarize the following fields in 2 sentences found in a unified database.\"},\n",
    "        {\"role\": \"user\", \"content\": \"1. pantherdb.EcoGene\\n2. reporter.MarGene-1_0\"}\n",
    "    ],\n",
    "    # grammar=query_grammar\n",
    ")"
   ]
  }
 ],
 "metadata": {
  "kernelspec": {
   "display_name": "Python 3 (ipykernel)",
   "language": "python",
   "name": "python3"
  },
  "language_info": {
   "codemirror_mode": {
    "name": "ipython",
    "version": 3
   },
   "file_extension": ".py",
   "mimetype": "text/x-python",
   "name": "python",
   "nbconvert_exporter": "python",
   "pygments_lexer": "ipython3",
   "version": "3.10.12"
  }
 },
 "nbformat": 4,
 "nbformat_minor": 5
}
