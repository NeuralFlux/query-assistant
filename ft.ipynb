{
 "cells": [
  {
   "cell_type": "code",
   "execution_count": 1,
   "id": "dce39ab0-6cd0-4eec-8304-1cc59900f03a",
   "metadata": {},
   "outputs": [
    {
     "data": {
      "application/vnd.jupyter.widget-view+json": {
       "model_id": "32535736b00e4b4a8c4438b0b5002962",
       "version_major": 2,
       "version_minor": 0
      },
      "text/plain": [
       "Loading checkpoint shards:   0%|          | 0/2 [00:00<?, ?it/s]"
      ]
     },
     "metadata": {},
     "output_type": "display_data"
    }
   ],
   "source": [
    "from transformers import AutoModelForCausalLM, AutoTokenizer, TrainingArguments\n",
    "from peft import get_peft_model, LoraConfig\n",
    "\n",
    "model_name = \"models/meta_llama3_2\"\n",
    "tokenizer = AutoTokenizer.from_pretrained(model_name)\n",
    "model = AutoModelForCausalLM.from_pretrained(model_name)\n",
    "\n",
    "# Configuring LoRA with torchtune config\n",
    "lora_config = LoraConfig(\n",
    "    r=64,  # Rank for low-rank adaptation\n",
    "    lora_alpha=128,  # Scaling factor\n",
    "    target_modules=[\"q_proj\", \"v_proj\", \"output_proj\", \"w1\", \"w2\", \"w3\"],  # Targeting specific attention layers\n",
    "    lora_dropout=0.0,\n",
    ")\n",
    "\n",
    "# Apply LoRA to the pre-trained model\n",
    "model = get_peft_model(model, lora_config).to(\"cuda:0\")"
   ]
  },
  {
   "cell_type": "code",
   "execution_count": 2,
   "id": "911d6aa9-ee85-4c7b-94b1-bdf2ea68319b",
   "metadata": {},
   "outputs": [],
   "source": [
    "from datasets import load_dataset\n",
    "\n",
    "dataset = load_dataset(\"moltres23/biothings-query-instruction-pairs\")"
   ]
  },
  {
   "cell_type": "code",
   "execution_count": 3,
   "id": "9d86abea-efd8-48d0-8b9e-3c8741bc0cd7",
   "metadata": {},
   "outputs": [],
   "source": [
    "with open(\"gene_query_docs.txt\", \"r\") as doc_fd:\n",
    "    docs = doc_fd.read()"
   ]
  },
  {
   "cell_type": "code",
   "execution_count": 4,
   "id": "60a35ad8-1d2b-46df-884d-8de9f7d0ba39",
   "metadata": {},
   "outputs": [],
   "source": [
    "import outlines\n",
    "\n",
    "@outlines.prompt\n",
    "def rag_prompt(instruction, output, docs, relevant_schema):\n",
    "    \"\"\"\n",
    "<|begin_of_text|><|start_header_id|>system<|end_header_id|>\n",
    "Use the documentation and schema to complete the user-given task.\n",
    "Docs: {{ docs }}\\n Schema: {{ relevant_schema }}\\n<|eot_id|><|start_header_id|>user<|end_header_id|>\n",
    "{{ instruction }}. Write an API call.\n",
    "<|eot_id|><|start_header_id|>assistant<|end_header_id|>{{ output }}<|eot_id|>\"\"\""
   ]
  },
  {
   "cell_type": "code",
   "execution_count": 5,
   "id": "579bd390-5972-45f0-9820-90ebea9f6061",
   "metadata": {},
   "outputs": [],
   "source": [
    "tokenizer.pad_token = \"<|finetune_right_pad_id|>\""
   ]
  },
  {
   "cell_type": "code",
   "execution_count": 6,
   "id": "f3dcb4ec-4e4c-4bd3-a88e-8eececb8dcb9",
   "metadata": {},
   "outputs": [],
   "source": [
    "from langchain_community.vectorstores import FAISS\n",
    "from langchain_huggingface import HuggingFaceEmbeddings\n",
    "\n",
    "embedding_model_name = 'Snowflake/snowflake-arctic-embed-l'\n",
    "model_kwargs = {\"device\": \"cuda:1\"}\n",
    "embeddings = HuggingFaceEmbeddings(model_name=embedding_model_name, model_kwargs=model_kwargs)\n",
    "\n",
    "vectorstore = FAISS.load_local(folder_path=\"data/rag\", index_name=\"faiss_index\", embeddings=embeddings, allow_dangerous_deserialization=True)\n",
    "retriever = vectorstore.as_retriever(search_kwargs={\"k\": 16})"
   ]
  },
  {
   "cell_type": "code",
   "execution_count": 7,
   "id": "6960e2f0-1b73-4bda-bf20-7099cc28df4a",
   "metadata": {},
   "outputs": [],
   "source": [
    "from trl import SFTTrainer, SFTConfig\n",
    "\n",
    "def process_retrieved_docs(doc_batches):\n",
    "    return [\"\\n\\n\".join([doc.page_content for doc in doc_batch]) for doc_batch in doc_batches]\n",
    "\n",
    "def formatting_prompts_func(example):\n",
    "    output_texts = []\n",
    "    inputs = example[\"instruction\"] if isinstance(example[\"instruction\"], list) else [example[\"instruction\"]]\n",
    "    outputs = example[\"output\"] if isinstance(example[\"output\"], list) else [example[\"output\"]]\n",
    "    \n",
    "    # Retrieve documents for each question\n",
    "    doc_batches = retriever.batch(inputs)\n",
    "    doc_batches = process_retrieved_docs(doc_batches)\n",
    "    for idx in range(len(inputs)):\n",
    "        # Format the prompt using the few-shot with RAG template\n",
    "        text = rag_prompt(\n",
    "            instruction=inputs[idx],  # Query or instruction (the question)\n",
    "            output=outputs[idx],\n",
    "            docs=docs,\n",
    "            relevant_schema=doc_batches[idx]\n",
    "        )\n",
    "        \n",
    "        output_texts.append(text)\n",
    "    \n",
    "    return output_texts"
   ]
  },
  {
   "cell_type": "code",
   "execution_count": 8,
   "id": "572f369b-1a5a-4728-80b3-8a20d1b34e6d",
   "metadata": {
    "scrolled": true
   },
   "outputs": [
    {
     "data": {
      "text/plain": [
       "['<|begin_of_text|><|start_header_id|>system<|end_header_id|>\\nUse the documentation and schema to complete the user-given task.\\nDocs: Gene query service\\n\\nThis page describes the reference for MyGene.info gene query web service. It’s also recommended to try it live on our interactive API page.\\nService endpoint\\n\\nhttp://mygene.info/v3/query\\n\\nGET request\\nQuery parameters\\nq\\n\\n    Required, passing user query. The detailed query syntax for parameter “q” we explained below.\\n\\nfields\\n\\n    Optional, can be a comma-separated fields to limit the fields returned from the matching gene hits. The supported field names can be found from any gene object (e.g. gene 1017). Note that it supports dot notation as well, e.g., you can pass “refseq.rna”. If “fields=all”, all available fields will be returned. Default: “symbol,name,taxid,entrezgene”.\\n\\nspecies\\n\\n    Optional, can be used to limit the gene hits from given species. You can use “common names” for nine common species (human, mouse, rat, fruitfly, nematode, zebrafish, thale-cress, frog and pig). All other species, you can provide their taxonomy ids. See more details here. Multiple species can be passed using comma as a separator. Passing “all” will query against all available species. Default: all.\\n\\nsize\\n\\n    Optional, the maximum number of matching gene hits to return (with a cap of 1000 at the moment). Default: 10.\\n\\nfrom\\n\\n    Optional, the number of matching gene hits to skip, starting from 0. Default: 0\\n\\nHint\\n\\nThe combination of “size” and “from” parameters can be used to get paging for large query:\\n\\nq=cdk*&size=50                     first 50 hits\\nq=cdk*&size=50&from=50             the next 50 hits\\n\\nfetch_all\\n\\n    Optional, a boolean, which when TRUE, allows fast retrieval of all unsorted query hits. The return object contains a _scroll_id field, which when passed as a parameter to the query endpoint, returns the next 1000 query results. Setting fetch_all = TRUE causes the results to be inherently unsorted, therefore the sort parameter is ignored. For more information see examples using fetch_all here. Default: FALSE.\\n\\nscroll_id\\n\\n    Optional, a string containing the _scroll_id returned from a query request with fetch_all = TRUE. Supplying a valid scroll_id will return the next 1000 unordered results. If the next results are not obtained within 1 minute of the previous set of results, the scroll_id becomes stale, and a new one must be obtained with another query request with fetch_all = TRUE. All other parameters are ignored when the scroll_id parameter is supplied. For more information see examples using scroll_id here.\\n\\nsort\\n\\n    Optional, the comma-separated fields to sort on. Prefix with “-” for descending order, otherwise in ascending order. Default: sort by matching scores in decending order.\\n\\nfacets\\n\\n    Optional, a single field or comma-separated fields to return facets, for example, “facets=taxid”, “facets=taxid,type_of_gene”. See examples of faceted queries here.\\n\\nfacet_size\\n\\n    Optional, an integer (1 <= facet_size <= 1000) that specifies how many buckets to ret\\n\\nurn in a faceted query.\\nspecies_facet_filter\\n\\n    Optional, relevant when faceting on species (i.e., “facets=taxid” are passed). It’s used to pass species filter without changing the scope of faceting, so that the returned facet counts won’t change. Either species name or taxonomy id can be used, just like “species” parameter above. See examples of faceted queries here.\\n\\nentrezonly\\n\\n    Optional, when passed as “true” or “1”, the query returns only the hits with valid Entrez gene ids. Default: false.\\n\\nensemblonly\\n\\n    Optional, when passed as “true” or “1”, the query returns only the hits with valid Ensembl gene ids. Default: false.\\n\\ncallback\\n\\n    Optional, you can pass a “callback” parameter to make a JSONP call.\\n\\ndotfield\\n\\n    Optional, can be used to control the format of the returned gene object. If “dotfield” is true, the returned data object is returned flattened (no nested objects) using dotfield notation for key names. Default: false.\\n\\nfilter\\n\\n    Alias for “fields” parameter.\\n\\nlimit\\n\\n    Alias for “size” parameter.\\n\\nskip\\n\\n    Alias for “from” parameter.\\n\\nemail\\n\\n    Optional, if you are regular users of our services, we encourage you to provide us an email, so that we can better track the usage or follow up with you.\\n\\nQuery syntax\\n\\nExamples of query parameter “q”:\\nSimple queries\\n\\nsearch for everything:\\n\\nq=cdk2                              search for any fields\\nq=tumor suppressor                  default as \"AND\" for all query terms\\nq=\"cyclin-dependent kinase\"         search for the phrase\\n\\nFielded queries\\n\\nq=entrezgene:1017\\nq=symbol:cdk2\\nq=refseq:NM_001798\\n\\nAvailable fields\\n\\nThis table lists some commonly used fields can be used for “fielded queries”. Check here for the complete list of available fields.\\nField \\tDescription \\tExamples\\nentrezgene \\tEntrez gene id \\tq=entrezgene:1017\\nensembl.gene \\tEnsembl gene id \\tq=ensembl.gene:ENSG00000123374\\nsymbol \\tofficial gene symbol \\tq=symbol:cdk2\\nname \\tgene name \\tq=name:cyclin-dependent\\nalias \\tgene alias \\tq=alias:p33\\nsummary \\tgene summary text \\tq=summary:insulin\\nrefseq \\tNCBI RefSeq id (both rna and proteins) \\tq=refseq:NM_001798; q=refseq:NP_439892\\nunigene \\tNCBI UniGene id \\tq=unigene:Hs.19192\\nhomologene \\tNCBI HomoloGene id \\tq=homologene:74409\\naccession \\tNCBI GeneBank Accession number \\tq=accession:AA810989\\nensembl.transcript \\tEnsembl transcript id \\tq=ensembl.transcript:ENST00000266970\\nensembl.protein \\tEnsembl protein id \\tq=ensembl.protein:ENSP00000243067\\nuniprot \\tUniProt id \\tq=uniprot:P24941\\nipi (deprecated!) \\tIPI id \\tq=ipi:IPI00031681\\npdb \\tPDB id \\tq=pdb:1AQ1\\nprosite \\tProsite id \\tq=prosite:PS50011\\npfam \\tPFam id \\tq=pfam:PF00069\\ninterpro \\tInterPro id \\tq=interpro:IPR008351\\nmim \\tOMIM id \\tq=mim:116953\\npharmgkb \\tPharmGKB id \\tq=pharmgkb:PA101\\nreporter \\tAffymetrix probeset id \\tq=reporter:204252_at\\nreagent \\tGNF reagent id \\tq=reagent:GNF282834\\ngo \\tGene Ontology id \\tq=go:0000307\\nhgnc \\tHUGO Gene Nomenclature Committee \\tq=hgnc:1771\\nhprd \\tHuman Protein Reference Database \\tq=hprd:00310\\nmgi \\tMouse Genome Informatics \\tq=mgi:MGI\\\\:88339\\nrgd \\tRat Genome Database \\tq=rgd:620620\\nflybase \\tA Database of Drosophila Genes & Genomes \\tq=flybase:FBgn0004107&species=fruitfly\\nwormbase \\tC elegans and related nematodes database \\tq=wormbase:WBGene00057218&species=31234\\nzfin \\tZebrafish Information Network \\tq=zfin:ZDB-GENE-980526-104&species=zebrafish\\ntair \\tArabidopsis Information Resource \\tq=tair:AT3G48750&species=thale-cress\\nxenbase \\tXenopus laevis and Xenopus tropicalis; biology and genomics resource; q=xenbase:XB-GENE-1001990&species=frog\\nmirbase \\tdatabase of published miRNA; sequences and annotation;\\tq=mirbase:MI0017267\\nretired \\tRetired Entrez gene id, including those with replaced gene ids.\\tq=retired:84999\\n\\nGenome interval query\\nWhen we detect your query (”q” parameter) contains a genome interval pattern like this one:\\n\\nchrX:151,073,054-151,383,976\\n\\nwe will do the genome interval query for you. Besides above interval string, you also need to specify “species” parameter (with the default as human). These are all acceptted queries:\\n\\nq=chrX:151073054-151383976&species:9606\\nq=chrX:151,073,054-151,383,976&species:human\\n\\nHint\\n\\nAs you can see above, the genomic locations can include commas in it.\\n\\nSee also\\n\\nGenome assembly information\\nWildcard queries\\n\\nWildcard character “*” or “?” is supported in either simple queries or fielded queries:\\n\\nq=CDK?                              single character wildcard\\nq=symbol:CDK?                       single character wildcard within \"symbol\" field\\nq=IL*R                              multiple character wildcard\\n\\nNote\\n\\nWildcard character can not be the first character. It will be ignored.\\nBoolean operators and grouping\\n\\nYou can use AND/OR/NOT boolean operators and grouping to form complicated queries:\\n\\nq=tumor AND suppressor                        AND operator\\nq=CDK2 OR BTK                                 OR operator\\nq=\"tumor suppressor\" NOT receptor             NOT operator\\nq=(interleukin OR insulin) AND receptor       the use of parentheses\\n\\nReturned object\\n\\nA GET request like this:\\n\\nhttp://mygene.info/v3/query?q=symbol:cdk2\\n\\nshould return hits as:\\n\\n{\\n  \"hits\": [\\n    {\\n      \"name\": \"cyclin-dependent kinase 2\",\\n      \"_score\": 87.76775,\\n      \"symbol\": \"CDK2\",\\n      \"taxid\": 9606,\\n      \"entrezgene\": 1017,\\n      \"_id\": \"1017\"\\n    },\\n    {\\n      \"name\": \"cyclin-dependent kinase 2\",\\n      \"_score\": 79.480484,\\n      \"symbol\": \"Cdk2\",\\n      \"taxid\": 10090,\\n      \"entrezgene\": 12566,\\n      \"_id\": \"12566\"\\n    },\\n    {\\n      \"name\": \"cyclin dependent kinase 2\",\\n      \"_score\": 62.286797,\\n      \"symbol\": \"Cdk2\",\\n      \"taxid\": 10116,\\n      \"entrezgene\": 362817,\\n      \"_id\": \"362817\"\\n    }\\n  ],\\n  \"total\": 3,\\n  \"max_score\": 87.76775,\\n  \"took\": 4\\n}\\n Schema: genomic_pos_mm9.chr - The chromosome number for the gene using the mouse genome assembly version mm9.\\n\\nname - The primary name of the gene or protein as recognized in scientific databases.\\n\\nsymbol - The official abbreviated identifier or symbol for a gene, often used for quick reference and consistent labeling across databases.\\n\\nsummary - A detailed textual description summarizing the role, function, and relevance of a particular gene or protein in biological processes.\\n\\nalias - This field is a keyword that provides alternative names or symbols commonly used to refer to the gene or feature.\\n\\nreagent.GNF_mm-kinase_lenti-shRNA.id - Unique identifier for a lentiviral shRNA reagent targeting mouse kinase genes in the GNF library.\\n\\nMGI - An identifier from the Mouse Genome Informatics database, which provides data on the genetics, genomics, and biology of the laboratory mouse.\\n\\nTAIR - This field contains a keyword representing the identifier from The Arabidopsis Information Resource, a database for the model organism Arabidopsis thaliana.\\n\\nmap_location - Text information indicating the cytogenetic location of a gene on a chromosome, often formatted to include details like band number and arm (e.g., q13.2 for chromosome 12).\\n\\ngenomic_pos.chr - The chromosome number on which the gene is located, specified as a keyword or string.\\n\\nentrezgene - This field contains a string representing the unique identifier assigned by NCBI\\'s Entrez Gene database. It is used to uniquely identify genes in this centralized resource.\\n\\nSGD - A unique identifier from the Saccharomyces Genome Database, which provides genomic information on the budding yeast, Saccharomyces cerevisiae.\\n\\nother_names - Alternative names or synonyms for the gene or protein that may be used in different studies or databases.\\n\\nreporter.GuiGene-1_0 - This field contains an identifier for a probe set used in the GuiGene-1_0 microarray platform.\\n\\nensembl.gene - The Ensembl identifier for the gene, which is a unique reference used to describe the gene in the Ensembl database.\\n\\nreporter.Mouse430_2 - This field likely refers to a specific microarray platform for mouse gene expression analysis, possibly by Affymetrix, characterized by a unique identifier representing a probe or probeset used for measuring the expression level of specific genes.\\n<|eot_id|><|start_header_id|>user<|end_header_id|>\\nWhat are the details of the MTOR gene in mice, including its symbol, genomic position, name, and exons, for the top 20 matches?. Write an API call.\\n<|eot_id|><|start_header_id|>assistant<|end_header_id|>/v3/query?q=symbol:MTOR&species=10090&fields=symbol,genomic_pos,name,exons&size=20<|eot_id|>',\n",
       " '<|begin_of_text|><|start_header_id|>system<|end_header_id|>\\nUse the documentation and schema to complete the user-given task.\\nDocs: Gene query service\\n\\nThis page describes the reference for MyGene.info gene query web service. It’s also recommended to try it live on our interactive API page.\\nService endpoint\\n\\nhttp://mygene.info/v3/query\\n\\nGET request\\nQuery parameters\\nq\\n\\n    Required, passing user query. The detailed query syntax for parameter “q” we explained below.\\n\\nfields\\n\\n    Optional, can be a comma-separated fields to limit the fields returned from the matching gene hits. The supported field names can be found from any gene object (e.g. gene 1017). Note that it supports dot notation as well, e.g., you can pass “refseq.rna”. If “fields=all”, all available fields will be returned. Default: “symbol,name,taxid,entrezgene”.\\n\\nspecies\\n\\n    Optional, can be used to limit the gene hits from given species. You can use “common names” for nine common species (human, mouse, rat, fruitfly, nematode, zebrafish, thale-cress, frog and pig). All other species, you can provide their taxonomy ids. See more details here. Multiple species can be passed using comma as a separator. Passing “all” will query against all available species. Default: all.\\n\\nsize\\n\\n    Optional, the maximum number of matching gene hits to return (with a cap of 1000 at the moment). Default: 10.\\n\\nfrom\\n\\n    Optional, the number of matching gene hits to skip, starting from 0. Default: 0\\n\\nHint\\n\\nThe combination of “size” and “from” parameters can be used to get paging for large query:\\n\\nq=cdk*&size=50                     first 50 hits\\nq=cdk*&size=50&from=50             the next 50 hits\\n\\nfetch_all\\n\\n    Optional, a boolean, which when TRUE, allows fast retrieval of all unsorted query hits. The return object contains a _scroll_id field, which when passed as a parameter to the query endpoint, returns the next 1000 query results. Setting fetch_all = TRUE causes the results to be inherently unsorted, therefore the sort parameter is ignored. For more information see examples using fetch_all here. Default: FALSE.\\n\\nscroll_id\\n\\n    Optional, a string containing the _scroll_id returned from a query request with fetch_all = TRUE. Supplying a valid scroll_id will return the next 1000 unordered results. If the next results are not obtained within 1 minute of the previous set of results, the scroll_id becomes stale, and a new one must be obtained with another query request with fetch_all = TRUE. All other parameters are ignored when the scroll_id parameter is supplied. For more information see examples using scroll_id here.\\n\\nsort\\n\\n    Optional, the comma-separated fields to sort on. Prefix with “-” for descending order, otherwise in ascending order. Default: sort by matching scores in decending order.\\n\\nfacets\\n\\n    Optional, a single field or comma-separated fields to return facets, for example, “facets=taxid”, “facets=taxid,type_of_gene”. See examples of faceted queries here.\\n\\nfacet_size\\n\\n    Optional, an integer (1 <= facet_size <= 1000) that specifies how many buckets to ret\\n\\nurn in a faceted query.\\nspecies_facet_filter\\n\\n    Optional, relevant when faceting on species (i.e., “facets=taxid” are passed). It’s used to pass species filter without changing the scope of faceting, so that the returned facet counts won’t change. Either species name or taxonomy id can be used, just like “species” parameter above. See examples of faceted queries here.\\n\\nentrezonly\\n\\n    Optional, when passed as “true” or “1”, the query returns only the hits with valid Entrez gene ids. Default: false.\\n\\nensemblonly\\n\\n    Optional, when passed as “true” or “1”, the query returns only the hits with valid Ensembl gene ids. Default: false.\\n\\ncallback\\n\\n    Optional, you can pass a “callback” parameter to make a JSONP call.\\n\\ndotfield\\n\\n    Optional, can be used to control the format of the returned gene object. If “dotfield” is true, the returned data object is returned flattened (no nested objects) using dotfield notation for key names. Default: false.\\n\\nfilter\\n\\n    Alias for “fields” parameter.\\n\\nlimit\\n\\n    Alias for “size” parameter.\\n\\nskip\\n\\n    Alias for “from” parameter.\\n\\nemail\\n\\n    Optional, if you are regular users of our services, we encourage you to provide us an email, so that we can better track the usage or follow up with you.\\n\\nQuery syntax\\n\\nExamples of query parameter “q”:\\nSimple queries\\n\\nsearch for everything:\\n\\nq=cdk2                              search for any fields\\nq=tumor suppressor                  default as \"AND\" for all query terms\\nq=\"cyclin-dependent kinase\"         search for the phrase\\n\\nFielded queries\\n\\nq=entrezgene:1017\\nq=symbol:cdk2\\nq=refseq:NM_001798\\n\\nAvailable fields\\n\\nThis table lists some commonly used fields can be used for “fielded queries”. Check here for the complete list of available fields.\\nField \\tDescription \\tExamples\\nentrezgene \\tEntrez gene id \\tq=entrezgene:1017\\nensembl.gene \\tEnsembl gene id \\tq=ensembl.gene:ENSG00000123374\\nsymbol \\tofficial gene symbol \\tq=symbol:cdk2\\nname \\tgene name \\tq=name:cyclin-dependent\\nalias \\tgene alias \\tq=alias:p33\\nsummary \\tgene summary text \\tq=summary:insulin\\nrefseq \\tNCBI RefSeq id (both rna and proteins) \\tq=refseq:NM_001798; q=refseq:NP_439892\\nunigene \\tNCBI UniGene id \\tq=unigene:Hs.19192\\nhomologene \\tNCBI HomoloGene id \\tq=homologene:74409\\naccession \\tNCBI GeneBank Accession number \\tq=accession:AA810989\\nensembl.transcript \\tEnsembl transcript id \\tq=ensembl.transcript:ENST00000266970\\nensembl.protein \\tEnsembl protein id \\tq=ensembl.protein:ENSP00000243067\\nuniprot \\tUniProt id \\tq=uniprot:P24941\\nipi (deprecated!) \\tIPI id \\tq=ipi:IPI00031681\\npdb \\tPDB id \\tq=pdb:1AQ1\\nprosite \\tProsite id \\tq=prosite:PS50011\\npfam \\tPFam id \\tq=pfam:PF00069\\ninterpro \\tInterPro id \\tq=interpro:IPR008351\\nmim \\tOMIM id \\tq=mim:116953\\npharmgkb \\tPharmGKB id \\tq=pharmgkb:PA101\\nreporter \\tAffymetrix probeset id \\tq=reporter:204252_at\\nreagent \\tGNF reagent id \\tq=reagent:GNF282834\\ngo \\tGene Ontology id \\tq=go:0000307\\nhgnc \\tHUGO Gene Nomenclature Committee \\tq=hgnc:1771\\nhprd \\tHuman Protein Reference Database \\tq=hprd:00310\\nmgi \\tMouse Genome Informatics \\tq=mgi:MGI\\\\:88339\\nrgd \\tRat Genome Database \\tq=rgd:620620\\nflybase \\tA Database of Drosophila Genes & Genomes \\tq=flybase:FBgn0004107&species=fruitfly\\nwormbase \\tC elegans and related nematodes database \\tq=wormbase:WBGene00057218&species=31234\\nzfin \\tZebrafish Information Network \\tq=zfin:ZDB-GENE-980526-104&species=zebrafish\\ntair \\tArabidopsis Information Resource \\tq=tair:AT3G48750&species=thale-cress\\nxenbase \\tXenopus laevis and Xenopus tropicalis; biology and genomics resource; q=xenbase:XB-GENE-1001990&species=frog\\nmirbase \\tdatabase of published miRNA; sequences and annotation;\\tq=mirbase:MI0017267\\nretired \\tRetired Entrez gene id, including those with replaced gene ids.\\tq=retired:84999\\n\\nGenome interval query\\nWhen we detect your query (”q” parameter) contains a genome interval pattern like this one:\\n\\nchrX:151,073,054-151,383,976\\n\\nwe will do the genome interval query for you. Besides above interval string, you also need to specify “species” parameter (with the default as human). These are all acceptted queries:\\n\\nq=chrX:151073054-151383976&species:9606\\nq=chrX:151,073,054-151,383,976&species:human\\n\\nHint\\n\\nAs you can see above, the genomic locations can include commas in it.\\n\\nSee also\\n\\nGenome assembly information\\nWildcard queries\\n\\nWildcard character “*” or “?” is supported in either simple queries or fielded queries:\\n\\nq=CDK?                              single character wildcard\\nq=symbol:CDK?                       single character wildcard within \"symbol\" field\\nq=IL*R                              multiple character wildcard\\n\\nNote\\n\\nWildcard character can not be the first character. It will be ignored.\\nBoolean operators and grouping\\n\\nYou can use AND/OR/NOT boolean operators and grouping to form complicated queries:\\n\\nq=tumor AND suppressor                        AND operator\\nq=CDK2 OR BTK                                 OR operator\\nq=\"tumor suppressor\" NOT receptor             NOT operator\\nq=(interleukin OR insulin) AND receptor       the use of parentheses\\n\\nReturned object\\n\\nA GET request like this:\\n\\nhttp://mygene.info/v3/query?q=symbol:cdk2\\n\\nshould return hits as:\\n\\n{\\n  \"hits\": [\\n    {\\n      \"name\": \"cyclin-dependent kinase 2\",\\n      \"_score\": 87.76775,\\n      \"symbol\": \"CDK2\",\\n      \"taxid\": 9606,\\n      \"entrezgene\": 1017,\\n      \"_id\": \"1017\"\\n    },\\n    {\\n      \"name\": \"cyclin-dependent kinase 2\",\\n      \"_score\": 79.480484,\\n      \"symbol\": \"Cdk2\",\\n      \"taxid\": 10090,\\n      \"entrezgene\": 12566,\\n      \"_id\": \"12566\"\\n    },\\n    {\\n      \"name\": \"cyclin dependent kinase 2\",\\n      \"_score\": 62.286797,\\n      \"symbol\": \"Cdk2\",\\n      \"taxid\": 10116,\\n      \"entrezgene\": 362817,\\n      \"_id\": \"362817\"\\n    }\\n  ],\\n  \"total\": 3,\\n  \"max_score\": 87.76775,\\n  \"took\": 4\\n}\\n Schema: alias - This field is a keyword that provides alternative names or symbols commonly used to refer to the gene or feature.\\n\\nTAIR - This field contains a keyword representing the identifier from The Arabidopsis Information Resource, a database for the model organism Arabidopsis thaliana.\\n\\nSGD - A unique identifier from the Saccharomyces Genome Database, which provides genomic information on the budding yeast, Saccharomyces cerevisiae.\\n\\nbiocarta - This field contains text data referencing pathways or identifiers in BioCarta, which offers information on biological pathways and systems.\\n\\ngenomic_pos_mm9.chr - The chromosome number for the gene using the mouse genome assembly version mm9.\\n\\nreporter.EquGene-1_0 - This field contains an identifier for a probe set used in the EquGene-1_0 microarray platform.\\n\\nname - The primary name of the gene or protein as recognized in scientific databases.\\n\\nentrezgene - This field contains a string representing the unique identifier assigned by NCBI\\'s Entrez Gene database. It is used to uniquely identify genes in this centralized resource.\\n\\naccession.rna - This field includes a list of text entries indicating the GenBank accession numbers for RNA sequences pertaining to the gene or feature.\\n\\nreporter.GuiGene-1_0 - This field contains an identifier for a probe set used in the GuiGene-1_0 microarray platform.\\n\\nreagent.GNF_mm-kinase_lenti-shRNA.id - Unique identifier for a lentiviral shRNA reagent targeting mouse kinase genes in the GNF library.\\n\\nMIM - A unique identifier from the Online Mendelian Inheritance in Man database, a comprehensive and authoritative compendium of human genes and genetic phenotypes.\\n\\ngenomic_pos.chr - The chromosome number on which the gene is located, specified as a keyword or string.\\n\\nreporter.EleGene-1_0 - This field contains an identifier for a probe set used in the EleGene-1_0 microarray platform.\\n\\ngenomic_pos_hg19.chr - The chromosome number for the gene using the human genome assembly version GRCh37/hg19.\\n\\nother_names - Alternative names or synonyms for the gene or protein that may be used in different studies or databases.\\n<|eot_id|><|start_header_id|>user<|end_header_id|>\\nWhat are the MIM IDs of all genes that match the query SDHC, returned in batches of 10?. Write an API call.\\n<|eot_id|><|start_header_id|>assistant<|end_header_id|>/v3/query?q=SDHC&fields=MIM&size=10&from=0&fetch_all=true&facet_size=10&entrezonly=false&ensemblonly=false&dotfield=false<|eot_id|>']"
      ]
     },
     "execution_count": 8,
     "metadata": {},
     "output_type": "execute_result"
    }
   ],
   "source": [
    "formatting_prompts_func(dataset[\"train\"][:2])"
   ]
  },
  {
   "cell_type": "code",
   "execution_count": null,
   "id": "558b9266-247b-475d-accc-6cc5e43f09a6",
   "metadata": {},
   "outputs": [
    {
     "data": {
      "application/vnd.jupyter.widget-view+json": {
       "model_id": "d3e8b2d8f08c47b990a934f4427830c3",
       "version_major": 2,
       "version_minor": 0
      },
      "text/plain": [
       "Map:   0%|          | 0/2854 [00:00<?, ? examples/s]"
      ]
     },
     "metadata": {},
     "output_type": "display_data"
    }
   ],
   "source": [
    "trainer = SFTTrainer(\n",
    "    model=model,\n",
    "    train_dataset=dataset[\"train\"],\n",
    "    formatting_func=formatting_prompts_func,\n",
    "    eval_dataset=dataset[\"test\"],\n",
    "    tokenizer=tokenizer,\n",
    "    args=SFTConfig(\n",
    "        learning_rate=3e-4,\n",
    "        max_seq_length=4096,\n",
    "        lr_scheduler_type=\"cosine\",\n",
    "        per_device_train_batch_size=4,\n",
    "        gradient_accumulation_steps=4,\n",
    "        num_train_epochs=3,\n",
    "        bf16=True,\n",
    "        logging_steps=1,\n",
    "        optim=\"adamw_torch\",\n",
    "        weight_decay=0.01,\n",
    "        warmup_steps=100,\n",
    "        packing=False,\n",
    "        dataloader_num_workers=16,\n",
    "        output_dir=\"models/ft/lora_train_split_3b\",\n",
    "        seed=0,\n",
    "    )\n",
    ")"
   ]
  },
  {
   "cell_type": "code",
   "execution_count": null,
   "id": "499a818e-6ef6-41f9-9dc3-026229715d80",
   "metadata": {},
   "outputs": [],
   "source": []
  }
 ],
 "metadata": {
  "kernelspec": {
   "display_name": "Python 3 (ipykernel)",
   "language": "python",
   "name": "python3"
  },
  "language_info": {
   "codemirror_mode": {
    "name": "ipython",
    "version": 3
   },
   "file_extension": ".py",
   "mimetype": "text/x-python",
   "name": "python",
   "nbconvert_exporter": "python",
   "pygments_lexer": "ipython3",
   "version": "3.10.12"
  }
 },
 "nbformat": 4,
 "nbformat_minor": 5
}
